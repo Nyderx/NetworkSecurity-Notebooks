{
 "cells": [
  {
   "cell_type": "markdown",
   "metadata": {},
   "source": [
    "# Bash Network Utility Commands "
   ]
  },
  {
   "cell_type": "markdown",
   "metadata": {},
   "source": [
    "## ping - test if a system is up"
   ]
  },
  {
   "cell_type": "code",
   "execution_count": 1,
   "metadata": {},
   "outputs": [
    {
     "name": "stdout",
     "output_type": "stream",
     "text": [
      "PING google.com (172.217.11.238) 56(84) bytes of data.\n",
      "64 bytes from den02s01-in-f14.1e100.net (172.217.11.238): icmp_seq=1 ttl=128 time=9.80 ms\n",
      "64 bytes from den02s01-in-f14.1e100.net (172.217.11.238): icmp_seq=2 ttl=128 time=9.11 ms\n",
      "64 bytes from den02s01-in-f14.1e100.net (172.217.11.238): icmp_seq=3 ttl=128 time=9.83 ms\n",
      "64 bytes from den02s01-in-f14.1e100.net (172.217.11.238): icmp_seq=4 ttl=128 time=12.3 ms\n",
      "64 bytes from den02s01-in-f14.1e100.net (172.217.11.238): icmp_seq=5 ttl=128 time=11.8 ms\n",
      "64 bytes from den02s01-in-f14.1e100.net (172.217.11.238): icmp_seq=6 ttl=128 time=12.1 ms\n",
      "64 bytes from den02s01-in-f14.1e100.net (172.217.11.238): icmp_seq=7 ttl=128 time=12.2 ms\n",
      "64 bytes from den02s01-in-f14.1e100.net (172.217.11.238): icmp_seq=8 ttl=128 time=9.68 ms\n",
      "64 bytes from den02s01-in-f14.1e100.net (172.217.11.238): icmp_seq=9 ttl=128 time=12.3 ms\n",
      "64 bytes from den02s01-in-f14.1e100.net (172.217.11.238): icmp_seq=10 ttl=128 time=12.2 ms\n",
      "64 bytes from den02s01-in-f14.1e100.net (172.217.11.238): icmp_seq=11 ttl=128 time=12.5 ms\n",
      "64 bytes from den02s01-in-f14.1e100.net (172.217.11.238): icmp_seq=12 ttl=128 time=9.96 ms\n",
      "64 bytes from den02s01-in-f14.1e100.net (172.217.11.238): icmp_seq=13 ttl=128 time=9.63 ms\n",
      "^C\n",
      "\n",
      "--- google.com ping statistics ---\n",
      "14 packets transmitted, 14 received, 0% packet loss, time 36ms\n",
      "rtt min/avg/max/mdev = 9.105/10.937/12.496/1.295 ms\n"
     ]
    }
   ],
   "source": [
    "! ping google.com"
   ]
  },
  {
   "cell_type": "markdown",
   "metadata": {},
   "source": [
    "## DNS Lookup Commands\n",
    "- host, dig\n",
    "- start with ! to run bash commands"
   ]
  },
  {
   "cell_type": "code",
   "execution_count": 2,
   "metadata": {},
   "outputs": [
    {
     "name": "stdout",
     "output_type": "stream",
     "text": [
      "HOST(1)                              BIND9                             HOST(1)\r\n",
      "\r\n",
      "N\bNA\bAM\bME\bE\r\n",
      "       host - DNS lookup utility\r\n",
      "\r\n",
      "S\bSY\bYN\bNO\bOP\bPS\bSI\bIS\bS\r\n",
      "       h\bho\bos\bst\bt [-\b-a\baC\bCd\bdl\bln\bnr\brs\bsT\bTU\bUw\bwv\bv] [-\b-c\bc _\bc_\bl_\ba_\bs_\bs] [-\b-N\bN _\bn_\bd_\bo_\bt_\bs] [-\b-R\bR _\bn_\bu_\bm_\bb_\be_\br] [-\b-t\bt _\bt_\by_\bp_\be]\r\n",
      "            [-\b-W\bW _\bw_\ba_\bi_\bt] [-\b-m\bm _\bf_\bl_\ba_\bg] [[-\b-4\b4] | [-\b-6\b6]] [-\b-v\bv] [-\b-V\bV] {name} [server]\r\n",
      "\r\n",
      "D\bDE\bES\bSC\bCR\bRI\bIP\bPT\bTI\bIO\bON\bN\r\n",
      "       h\bho\bos\bst\bt is a simple utility for performing DNS lookups. It is normally\r\n",
      "       used to convert names to IP addresses and vice versa. When no arguments\r\n",
      "       or options are given, h\bho\bos\bst\bt prints a short summary of its command line\r\n",
      "       arguments and options.\r\n",
      "\r\n",
      "       _\bn_\ba_\bm_\be is the domain name that is to be looked up. It can also be a\r\n",
      "       dotted-decimal IPv4 address or a colon-delimited IPv6 address, in which\r\n",
      "       case h\bho\bos\bst\bt will by default perform a reverse lookup for that address.\r\n",
      "       _\bs_\be_\br_\bv_\be_\br is an optional argument which is either the name or IP address\r\n",
      "       of the name server that h\bho\bos\bst\bt should query instead of the server or\r\n",
      "       servers listed in /etc/resolv.conf.\r\n",
      "\r\n",
      "O\bOP\bPT\bTI\bIO\bON\bNS\bS\r\n",
      "       -4\r\n",
      "           Use IPv4 only for query transport. See also the -\b-6\b6 option.\r\n",
      "\r\n",
      "       -6\r\n",
      "           Use IPv6 only for query transport. See also the -\b-4\b4 option.\r\n",
      "\r\n",
      "       -a\r\n",
      "           \"All\". The -\b-a\ba option is normally equivalent to -\b-v\bv -\b-t\bt A\bAN\bNY\bY. It also\r\n",
      "           affects the behaviour of the -\b-l\bl list zone option.\r\n",
      "\r\n",
      "       -c _\bc_\bl_\ba_\bs_\bs\r\n",
      "           Query class: This can be used to lookup HS (Hesiod) or CH\r\n",
      "           (Chaosnet) class resource records. The default class is IN\r\n",
      "           (Internet).\r\n",
      "\r\n",
      "       -C\r\n",
      "           Check consistency: h\bho\bos\bst\bt will query the SOA records for zone _\bn_\ba_\bm_\be\r\n",
      "           from all the listed authoritative name servers for that zone. The\r\n",
      "           list of name servers is defined by the NS records that are found\r\n",
      "           for the zone.\r\n",
      "\r\n",
      "       -d\r\n",
      "           Print debugging traces. Equivalent to the -\b-v\bv verbose option.\r\n",
      "\r\n",
      "       -i\r\n",
      "           Obsolete. Use the IP6.INT domain for reverse lookups of IPv6\r\n",
      "           addresses as defined in RFC1886 and deprecated in RFC4159. The\r\n",
      "           default is to use IP6.ARPA as specified in RFC3596.\r\n",
      "\r\n",
      "       -l\r\n",
      "           List zone: The h\bho\bos\bst\bt command performs a zone transfer of zone _\bn_\ba_\bm_\be\r\n",
      "           and prints out the NS, PTR and address records (A/AAAA).\r\n",
      "\r\n",
      "           Together, the -\b-l\bl -\b-a\ba options print all records in the zone.\r\n",
      "\r\n",
      "       -N _\bn_\bd_\bo_\bt_\bs\r\n",
      "           The number of dots that have to be in _\bn_\ba_\bm_\be for it to be considered\r\n",
      "           absolute. The default value is that defined using the ndots\r\n",
      "           statement in /etc/resolv.conf, or 1 if no ndots statement is\r\n",
      "           present. Names with fewer dots are interpreted as relative names\r\n",
      "           and will be searched for in the domains listed in the s\bse\bea\bar\brc\bch\bh or\r\n",
      "           d\bdo\bom\bma\bai\bin\bn directive in /etc/resolv.conf.\r\n",
      "\r\n",
      "       -r\r\n",
      "           Non-recursive query: Setting this option clears the RD (recursion\r\n",
      "           desired) bit in the query. This should mean that the name server\r\n",
      "           receiving the query will not attempt to resolve _\bn_\ba_\bm_\be. The -\b-r\br option\r\n",
      "           enables h\bho\bos\bst\bt to mimic the behavior of a name server by making\r\n",
      "           non-recursive queries and expecting to receive answers to those\r\n",
      "           queries that can be referrals to other name servers.\r\n",
      "\r\n",
      "       -R _\bn_\bu_\bm_\bb_\be_\br\r\n",
      "           Number of retries for UDP queries: If _\bn_\bu_\bm_\bb_\be_\br is negative or zero,\r\n",
      "           the number of retries will default to 1. The default value is 1, or\r\n",
      "           the value of the _\ba_\bt_\bt_\be_\bm_\bp_\bt_\bs option in /etc/resolv.conf, if set.\r\n",
      "\r\n",
      "       -s\r\n",
      "           Do _\bn_\bo_\bt send the query to the next nameserver if any server responds\r\n",
      "           with a SERVFAIL response, which is the reverse of normal stub\r\n",
      "           resolver behavior.\r\n",
      "\r\n",
      "       -t _\bt_\by_\bp_\be\r\n",
      "           Query type: The _\bt_\by_\bp_\be argument can be any recognized query type:\r\n",
      "           CNAME, NS, SOA, TXT, DNSKEY, AXFR, etc.\r\n",
      "\r\n",
      "           When no query type is specified, h\bho\bos\bst\bt automatically selects an\r\n",
      "           appropriate query type. By default, it looks for A, AAAA, and MX\r\n",
      "           records. If the -\b-C\bC option is given, queries will be made for SOA\r\n",
      "           records. If _\bn_\ba_\bm_\be is a dotted-decimal IPv4 address or\r\n",
      "           colon-delimited IPv6 address, h\bho\bos\bst\bt will query for PTR records.\r\n",
      "\r\n",
      "           If a query type of IXFR is chosen the starting serial number can be\r\n",
      "           specified by appending an equal followed by the starting serial\r\n",
      "           number (like -\b-t\bt I\bIX\bXF\bFR\bR=\b=1\b12\b23\b34\b45\b56\b67\b78\b8).\r\n",
      "\r\n",
      "       -T, -U\r\n",
      "           TCP/UDP: By default, h\bho\bos\bst\bt uses UDP when making queries. The -\b-T\bT\r\n",
      "           option makes it use a TCP connection when querying the name server.\r\n",
      "           TCP will be automatically selected for queries that require it,\r\n",
      "           such as zone transfer (AXFR) requests. Type ANY queries default to\r\n",
      "           TCP but can be forced to UDP initially using -\b-U\bU.\r\n",
      "\r\n",
      "       -m _\bf_\bl_\ba_\bg\r\n",
      "           Memory usage debugging: the flag can be _\br_\be_\bc_\bo_\br_\bd, _\bu_\bs_\ba_\bg_\be, or _\bt_\br_\ba_\bc_\be.\r\n",
      "           You can specify the -\b-m\bm option more than once to set multiple flags.\r\n",
      "\r\n",
      "       -v\r\n",
      "           Verbose output. Equivalent to the -\b-d\bd debug option. Verbose output\r\n",
      "           can also be enabled by setting the _\bd_\be_\bb_\bu_\bg option in\r\n",
      "           /etc/resolv.conf.\r\n",
      "\r\n",
      "       -V\r\n",
      "           Print the version number and exit.\r\n",
      "\r\n",
      "       -w\r\n",
      "           Wait forever: The query timeout is set to the maximum possible. See\r\n",
      "           also the -\b-W\bW option.\r\n",
      "\r\n",
      "       -W _\bw_\ba_\bi_\bt\r\n",
      "           Timeout: Wait for up to _\bw_\ba_\bi_\bt seconds for a reply. If _\bw_\ba_\bi_\bt is less\r\n",
      "           than one, the wait interval is set to one second.\r\n",
      "\r\n",
      "           By default, h\bho\bos\bst\bt will wait for 5 seconds for UDP responses and 10\r\n",
      "           seconds for TCP connections. These defaults can be overridden by\r\n",
      "           the _\bt_\bi_\bm_\be_\bo_\bu_\bt option in /etc/resolv.conf.\r\n",
      "\r\n",
      "           See also the -\b-w\bw option.\r\n",
      "\r\n",
      "I\bID\bDN\bN S\bSU\bUP\bPP\bPO\bOR\bRT\bT\r\n",
      "       If h\bho\bos\bst\bt has been built with IDN (internationalized domain name)\r\n",
      "       support, it can accept and display non-ASCII domain names.  h\bho\bos\bst\bt\r\n",
      "       appropriately converts character encoding of domain name before sending\r\n",
      "       a request to DNS server or displaying a reply from the server. If you'd\r\n",
      "       like to turn off the IDN support for some reason, defines the\r\n",
      "       I\bID\bDN\bN_\b_D\bDI\bIS\bSA\bAB\bBL\bLE\bE environment variable. The IDN support is disabled if the\r\n",
      "       variable is set when h\bho\bos\bst\bt runs.\r\n",
      "\r\n",
      "F\bFI\bIL\bLE\bES\bS\r\n",
      "       /etc/resolv.conf\r\n",
      "\r\n",
      "S\bSE\bEE\bE A\bAL\bLS\bSO\bO\r\n",
      "       d\bdi\big\bg(1), n\bna\bam\bme\bed\bd(8).\r\n",
      "\r\n",
      "A\bAU\bUT\bTH\bHO\bOR\bR\r\n",
      "       I\bIn\bnt\bte\ber\brn\bne\bet\bt S\bSy\bys\bst\bte\bem\bms\bs C\bCo\bon\bns\bso\bor\brt\bti\biu\bum\bm,\b, I\bIn\bnc\bc.\b.\r\n",
      "\r\n",
      "C\bCO\bOP\bPY\bYR\bRI\bIG\bGH\bHT\bT\r\n",
      "       Copyright © 2000-2002, 2004, 2005, 2007-2009, 2014-2018 Internet\r\n",
      "       Systems Consortium, Inc. (\"ISC\")\r\n",
      "\r\n",
      "ISC                               2009-01-20                           HOST(1)\r\n"
     ]
    }
   ],
   "source": [
    "! man host"
   ]
  },
  {
   "cell_type": "code",
   "execution_count": 3,
   "metadata": {
    "scrolled": true
   },
   "outputs": [
    {
     "name": "stdout",
     "output_type": "stream",
     "text": [
      "google.com has address 172.217.11.238\r\n",
      "google.com has IPv6 address 2607:f8b0:400f:800::200e\r\n",
      "google.com mail is handled by 30 alt2.aspmx.l.google.com.\r\n",
      "google.com mail is handled by 50 alt4.aspmx.l.google.com.\r\n",
      "google.com mail is handled by 40 alt3.aspmx.l.google.com.\r\n",
      "google.com mail is handled by 10 aspmx.l.google.com.\r\n",
      "google.com mail is handled by 20 alt1.aspmx.l.google.com.\r\n"
     ]
    }
   ],
   "source": [
    "! host google.com"
   ]
  },
  {
   "cell_type": "code",
   "execution_count": 4,
   "metadata": {},
   "outputs": [
    {
     "name": "stdout",
     "output_type": "stream",
     "text": [
      "Trying \"google.com\"\r\n",
      ";; ->>HEADER<<- opcode: QUERY, status: NOERROR, id: 31203\r\n",
      ";; flags: qr rd ra; QUERY: 1, ANSWER: 12, AUTHORITY: 0, ADDITIONAL: 0\r\n",
      "\r\n",
      ";; QUESTION SECTION:\r\n",
      ";google.com.\t\t\tIN\tANY\r\n",
      "\r\n",
      ";; ANSWER SECTION:\r\n",
      "google.com.\t\t5\tIN\tCAA\t0 issue \"pki.goog\"\r\n",
      "google.com.\t\t5\tIN\tTXT\t\"v=spf1 include:_spf.google.com ~all\"\r\n",
      "google.com.\t\t5\tIN\tTXT\t\"docusign=05958488-4752-4ef2-95eb-aa7ba8a3bd0e\"\r\n",
      "google.com.\t\t5\tIN\tTXT\t\"facebook-domain-verification=22rm551cu4k0ab0bxsw536tlds4h95\"\r\n",
      "google.com.\t\t5\tIN\tTXT\t\"globalsign-smime-dv=CDYX+XFHUw2wml6/Gb8+59BsH31KzUr6c1l2BPvqKX8=\"\r\n",
      "google.com.\t\t5\tIN\tTXT\t\"docusign=1b0a6754-49b1-4db5-8540-d2c12664b289\"\r\n",
      "google.com.\t\t5\tIN\tMX\t10 aspmx.l.google.com.\r\n",
      "google.com.\t\t5\tIN\tMX\t20 alt1.aspmx.l.google.com.\r\n",
      "google.com.\t\t5\tIN\tMX\t50 alt4.aspmx.l.google.com.\r\n",
      "google.com.\t\t5\tIN\tMX\t40 alt3.aspmx.l.google.com.\r\n",
      "google.com.\t\t5\tIN\tMX\t30 alt2.aspmx.l.google.com.\r\n",
      "google.com.\t\t5\tIN\tAAAA\t2607:f8b0:400f:800::200e\r\n",
      "\r\n",
      "Received 504 bytes from 192.168.231.2#53 in 18 ms\r\n"
     ]
    }
   ],
   "source": [
    "! host -a google.com # display all records"
   ]
  },
  {
   "cell_type": "code",
   "execution_count": 5,
   "metadata": {},
   "outputs": [
    {
     "name": "stdout",
     "output_type": "stream",
     "text": [
      "coloradomesa.edu has address 10.0.3.167\r\n"
     ]
    }
   ],
   "source": [
    "! host -t a coloradomesa.edu # domain ip "
   ]
  },
  {
   "cell_type": "code",
   "execution_count": 6,
   "metadata": {},
   "outputs": [
    {
     "name": "stdout",
     "output_type": "stream",
     "text": [
      "coloradomesa.edu mail is handled by 10 mail.coloradomesa.edu.\r\n"
     ]
    }
   ],
   "source": [
    "! host -t mx coloradomesa.edu # domain mail server"
   ]
  },
  {
   "cell_type": "code",
   "execution_count": 7,
   "metadata": {},
   "outputs": [
    {
     "name": "stdout",
     "output_type": "stream",
     "text": [
      "coloradomesa.edu name server ns2.coloradomesa.edu.\r\n",
      "coloradomesa.edu name server ns1.coloradomesa.edu.\r\n"
     ]
    }
   ],
   "source": [
    "! host -t ns coloradomesa.edu # nameserver"
   ]
  },
  {
   "cell_type": "markdown",
   "metadata": {},
   "source": [
    "## reverse lookup\n",
    "- given IP, find the domain name"
   ]
  },
  {
   "cell_type": "code",
   "execution_count": 8,
   "metadata": {},
   "outputs": [
    {
     "name": "stdout",
     "output_type": "stream",
     "text": [
      "167.224.166.72.in-addr.arpa domain name pointer www.coloradomesa.edu.\r\n"
     ]
    }
   ],
   "source": [
    "! host 72.166.224.167"
   ]
  },
  {
   "cell_type": "code",
   "execution_count": 4,
   "metadata": {},
   "outputs": [
    {
     "name": "stdout",
     "output_type": "stream",
     "text": [
      "\r\n",
      "; <<>> DiG 9.11.5-P1-2-Debian <<>> google.com\r\n",
      ";; global options: +cmd\r\n",
      ";; connection timed out; no servers could be reached\r\n"
     ]
    }
   ],
   "source": [
    "! dig google.com"
   ]
  },
  {
   "cell_type": "markdown",
   "metadata": {
    "collapsed": true
   },
   "source": [
    "## Display arp/routing cache"
   ]
  },
  {
   "cell_type": "code",
   "execution_count": 10,
   "metadata": {},
   "outputs": [
    {
     "name": "stdout",
     "output_type": "stream",
     "text": [
      "ROUTE(8)              Linux System Administrator's Manual             ROUTE(8)\r\n",
      "\r\n",
      "N\bNA\bAM\bME\bE\r\n",
      "       route - show / manipulate the IP routing table\r\n",
      "\r\n",
      "S\bSY\bYN\bNO\bOP\bPS\bSI\bIS\bS\r\n",
      "       r\bro\bou\but\bte\be [-\b-C\bCF\bFv\bvn\bnN\bNe\bee\be] [-\b-A\bA family |-\b-4\b4|-\b-6\b6]\r\n",
      "\r\n",
      "       r\bro\bou\but\bte\be  [-\b-v\bv] [-\b-A\bA family |-\b-4\b4|-\b-6\b6] a\bad\bdd\bd [-\b-n\bne\bet\bt|-\b-h\bho\bos\bst\bt] _\bt_\ba_\br_\bg_\be_\bt [n\bne\bet\btm\bma\bas\bsk\bk _\bN_\bm] [g\bgw\bw\r\n",
      "              _\bG_\bw] [m\bme\bet\btr\bri\bic\bc _\bN] [m\bms\bss\bs _\bM] [w\bwi\bin\bnd\bdo\bow\bw _\bW] [i\bir\brt\btt\bt _\bI] [r\bre\bej\bje\bec\bct\bt] [m\bmo\bod\bd]  [d\bdy\byn\bn]\r\n",
      "              [r\bre\bei\bin\bns\bst\bta\bat\bte\be] [[d\bde\bev\bv] _\bI_\bf]\r\n",
      "\r\n",
      "       r\bro\bou\but\bte\be  [-\b-v\bv] [-\b-A\bA _\bf_\ba_\bm_\bi_\bl_\by |-\b-4\b4|-\b-6\b6] d\bde\bel\bl [-\b-n\bne\bet\bt|-\b-h\bho\bos\bst\bt] _\bt_\ba_\br_\bg_\be_\bt [g\bgw\bw _\bG_\bw] [n\bne\bet\btm\bma\bas\bsk\bk\r\n",
      "              _\bN_\bm] [m\bme\bet\btr\bri\bic\bc _\bM] [[d\bde\bev\bv] _\bI_\bf]\r\n",
      "\r\n",
      "       r\bro\bou\but\bte\be  [-\b-V\bV] [-\b--\b-v\bve\ber\brs\bsi\bio\bon\bn] [-\b-h\bh] [-\b--\b-h\bhe\bel\blp\bp]\r\n",
      "\r\n",
      "D\bDE\bES\bSC\bCR\bRI\bIP\bPT\bTI\bIO\bON\bN\r\n",
      "       R\bRo\bou\but\bte\be manipulates the kernel's IP routing tables.  Its primary  use  is\r\n",
      "       to  set up static routes to specific hosts or networks via an interface\r\n",
      "       after it has been configured with the i\bif\bfc\bco\bon\bnf\bfi\big\bg(8) program.\r\n",
      "\r\n",
      "       When the a\bad\bdd\bd or d\bde\bel\bl options are used, r\bro\bou\but\bte\be modifies  the  routing  ta‐\r\n",
      "       bles.   Without  these  options, r\bro\bou\but\bte\be displays the current contents of\r\n",
      "       the routing tables.\r\n",
      "\r\n",
      "O\bOP\bPT\bTI\bIO\bON\bNS\bS\r\n",
      "       -\b-A\bA _\bf_\ba_\bm_\bi_\bl_\by\r\n",
      "              use the specified address family (eg `inet'). Use  r\bro\bou\but\bte\be  -\b--\b-h\bhe\bel\blp\bp\r\n",
      "              for  a  full list. You can use -\b-6\b6 as an alias for -\b--\b-i\bin\bne\bet\bt6\b6 and -\b-4\b4\r\n",
      "              as an alias for -\b-A\bA i\bin\bne\bet\bt\r\n",
      "\r\n",
      "       -\b-F\bF     operate on the kernel's FIB (Forwarding Information Base)  rout‐\r\n",
      "              ing table.  This is the default.\r\n",
      "\r\n",
      "       -\b-C\bC     operate on the kernel's routing cache.\r\n",
      "\r\n",
      "       -\b-v\bv     select verbose operation.\r\n",
      "\r\n",
      "       -\b-n\bn     show numerical addresses instead of trying to determine symbolic\r\n",
      "              host names. This is useful if you are trying  to  determine  why\r\n",
      "              the route to your nameserver has vanished.\r\n",
      "\r\n",
      "       -\b-e\be     use  n\bne\bet\bts\bst\bta\bat\bt(8)-format  for  displaying  the routing table.  -\b-e\bee\be\r\n",
      "              will generate a very long line  with  all  parameters  from  the\r\n",
      "              routing table.\r\n",
      "\r\n",
      "       d\bde\bel\bl    delete a route.\r\n",
      "\r\n",
      "       a\bad\bdd\bd    add a new route.\r\n",
      "\r\n",
      "       _\bt_\ba_\br_\bg_\be_\bt the destination network or host. You can provide an addresses or\r\n",
      "              symbolic network or host name. Optionally you can use /\b/_\bp_\br_\be_\bf_\bi_\bx_\bl_\be_\bn\r\n",
      "              notation instead of using the n\bne\bet\btm\bma\bas\bsk\bk option.\r\n",
      "\r\n",
      "       -\b-n\bne\bet\bt   the _\bt_\ba_\br_\bg_\be_\bt is a network.\r\n",
      "\r\n",
      "       -\b-h\bho\bos\bst\bt  the _\bt_\ba_\br_\bg_\be_\bt is a host.\r\n",
      "\r\n",
      "       n\bne\bet\btm\bma\bas\bsk\bk _\bN_\bM\r\n",
      "              when adding a network route, the netmask to be used.\r\n",
      "\r\n",
      "       g\bgw\bw _\bG_\bW  route packets via a gateway.\r\n",
      "              N\bNO\bOT\bTE\bE:\b:  The  specified gateway must be reachable first. This usu‐\r\n",
      "              ally means that you have to set up a static route to the gateway\r\n",
      "              beforehand.  If you specify the address of one of your local in‐\r\n",
      "              terfaces, it will be used to decide about the interface to which\r\n",
      "              the  packets should be routed to. This is a BSDism compatibility\r\n",
      "              hack.\r\n",
      "\r\n",
      "       m\bme\bet\btr\bri\bic\bc _\bM\r\n",
      "              set the metric field in the routing table (used by routing  dae‐\r\n",
      "              mons) to _\bM. If this option is not specified the metric for inet6\r\n",
      "              (IPv6) address family defaults to '1', for inet  (IPv4)  it  de‐\r\n",
      "              faults  to  '0'.  You  should  always specify an explicit metric\r\n",
      "              value to not rely on those defaults  -  they  also  differ  from\r\n",
      "              iproute2.\r\n",
      "\r\n",
      "       m\bms\bss\bs _\bM  sets  MTU  (Maximum  Transmission Unit) of the route to _\bM bytes.\r\n",
      "              Note that the current implementation of the route  command  does\r\n",
      "              not allow the option to set the Maximum Segment Size (MSS).\r\n",
      "\r\n",
      "       w\bwi\bin\bnd\bdo\bow\bw _\bW\r\n",
      "              set  the  TCP  window  size for connections over this route to _\bW\r\n",
      "              bytes. This is typically only used on AX.25  networks  and  with\r\n",
      "              drivers unable to handle back to back frames.\r\n",
      "\r\n",
      "       i\bir\brt\btt\bt _\bI set  the initial round trip time (irtt) for TCP connections over\r\n",
      "              this route to _\bI milliseconds (1-12000). This is  typically  only\r\n",
      "              used on AX.25 networks. If omitted the RFC 1122 default of 300ms\r\n",
      "              is used.\r\n",
      "\r\n",
      "       r\bre\bej\bje\bec\bct\bt install a blocking route, which will force  a  route  lookup  to\r\n",
      "              fail.   This is for example used to mask out networks before us‐\r\n",
      "              ing the default route. This is NOT for firewalling.\r\n",
      "\r\n",
      "       m\bmo\bod\bd,\b, d\bdy\byn\bn,\b, r\bre\bei\bin\bns\bst\bta\bat\bte\be\r\n",
      "              install a dynamic or modified route. These flags are  for  diag‐\r\n",
      "              nostic purposes, and are generally only set by routing daemons.\r\n",
      "\r\n",
      "       d\bde\bev\bv _\bI_\bf force  the  route to be associated with the specified device, as\r\n",
      "              the kernel will otherwise try to determine the device on its own\r\n",
      "              (by  checking already existing routes and device specifications,\r\n",
      "              and where the route is added to). In most  normal  networks  you\r\n",
      "              won't need this.\r\n",
      "\r\n",
      "              If  d\bde\bev\bv  _\bI_\bf is the last option on the command line, the word d\bde\bev\bv\r\n",
      "              may be omitted, as it's the default. Otherwise the order of  the\r\n",
      "              route modifiers (m\bme\bet\btr\bri\bic\bc n\bne\bet\btm\bma\bas\bsk\bk g\bgw\bw d\bde\bev\bv) doesn't matter.\r\n",
      "\r\n",
      "E\bEX\bXA\bAM\bMP\bPL\bLE\bES\bS\r\n",
      "       r\bro\bou\but\bte\be a\bad\bdd\bd -\b-n\bne\bet\bt 1\b12\b27\b7.\b.0\b0.\b.0\b0.\b.0\b0 n\bne\bet\btm\bma\bas\bsk\bk 2\b25\b55\b5.\b.0\b0.\b.0\b0.\b.0\b0 m\bme\bet\btr\bri\bic\bc 1\b10\b02\b24\b4 d\bde\bev\bv l\blo\bo\r\n",
      "              adds  the normal loopback entry, using netmask 255.0.0.0 and as‐\r\n",
      "              sociated with the \"lo\" device (assuming this device  was  previ‐\r\n",
      "              ously set up correctly with i\bif\bfc\bco\bon\bnf\bfi\big\bg(8)).\r\n",
      "\r\n",
      "       r\bro\bou\but\bte\be a\bad\bdd\bd -\b-n\bne\bet\bt 1\b19\b92\b2.\b.5\b56\b6.\b.7\b76\b6.\b.0\b0 n\bne\bet\btm\bma\bas\bsk\bk 2\b25\b55\b5.\b.2\b25\b55\b5.\b.2\b25\b55\b5.\b.0\b0 m\bme\bet\btr\bri\bic\bc 1\b10\b02\b24\b4 d\bde\bev\bv e\bet\bth\bh0\b0\r\n",
      "              adds  a  route to the local network 192.56.76.x via \"eth0\".  The\r\n",
      "              word \"dev\" can be omitted here.\r\n",
      "\r\n",
      "       r\bro\bou\but\bte\be d\bde\bel\bl d\bde\bef\bfa\bau\bul\blt\bt\r\n",
      "              deletes the current default route, which is labeled \"default\" or\r\n",
      "              0.0.0.0 in the destination field of the current routing table.\r\n",
      "\r\n",
      "       r\bro\bou\but\bte\be d\bde\bel\bl -\b-n\bne\bet\bt 1\b19\b92\b2.\b.5\b56\b6.\b.7\b76\b6.\b.0\b0 n\bne\bet\btm\bma\bas\bsk\bk 2\b25\b55\b5.\b.2\b25\b55\b5.\b.2\b25\b55\b5.\b.0\b0\r\n",
      "              deletes the route. Since the Linux routing kernel uses classless\r\n",
      "              addressing, you pretty much always have to specify  the  netmask\r\n",
      "              that is same as as seen in 'route -n' listing.\r\n",
      "\r\n",
      "       r\bro\bou\but\bte\be a\bad\bdd\bd d\bde\bef\bfa\bau\bul\blt\bt g\bgw\bw m\bma\ban\bng\bgo\bo\r\n",
      "              adds  a  default  route  (which  will  be used if no other route\r\n",
      "              matches).  All  packets  using  this  route  will  be  gatewayed\r\n",
      "              through  the  address  of a node named \"mango\". The device which\r\n",
      "              will actually be used for that route depends on how we can reach\r\n",
      "              \"mango\" - \"mango\" must be on directly reachable route.\r\n",
      "\r\n",
      "       r\bro\bou\but\bte\be a\bad\bdd\bd m\bma\ban\bng\bgo\bo s\bsl\bl0\b0\r\n",
      "              Adds  the route to the host named \"mango\" via the SLIP interface\r\n",
      "              (assuming that \"mango\" is the SLIP host).\r\n",
      "\r\n",
      "       r\bro\bou\but\bte\be a\bad\bdd\bd -\b-n\bne\bet\bt 1\b19\b92\b2.\b.5\b57\b7.\b.6\b66\b6.\b.0\b0 n\bne\bet\btm\bma\bas\bsk\bk 2\b25\b55\b5.\b.2\b25\b55\b5.\b.2\b25\b55\b5.\b.0\b0 g\bgw\bw m\bma\ban\bng\bgo\bo\r\n",
      "              This command adds the net \"192.57.66.x\" to be gatewayed  through\r\n",
      "              the former route to the SLIP interface.\r\n",
      "\r\n",
      "       r\bro\bou\but\bte\be a\bad\bdd\bd -\b-n\bne\bet\bt 2\b22\b24\b4.\b.0\b0.\b.0\b0.\b.0\b0 n\bne\bet\btm\bma\bas\bsk\bk 2\b24\b40\b0.\b.0\b0.\b.0\b0.\b.0\b0 d\bde\bev\bv e\bet\bth\bh0\b0\r\n",
      "              This  is  an obscure one documented so people know how to do it.\r\n",
      "              This sets all of the class D (multicast) IP  routes  to  go  via\r\n",
      "              \"eth0\".  This  is  the  correct normal configuration line with a\r\n",
      "              multicasting kernel.\r\n",
      "\r\n",
      "       r\bro\bou\but\bte\be a\bad\bdd\bd -\b-n\bne\bet\bt 1\b10\b0.\b.0\b0.\b.0\b0.\b.0\b0 n\bne\bet\btm\bma\bas\bsk\bk 2\b25\b55\b5.\b.0\b0.\b.0\b0.\b.0\b0 m\bme\bet\btr\bri\bic\bc 1\b10\b02\b24\b4 r\bre\bej\bje\bec\bct\bt\r\n",
      "              This  installs  a  rejecting  route  for  the  private   network\r\n",
      "              \"10.x.x.x.\"\r\n",
      "\r\n",
      "       r\bro\bou\but\bte\be -\b-6\b6 a\bad\bdd\bd 2\b20\b00\b01\b1:\b:0\b00\b00\b02\b2:\b::\b:/\b/4\b48\b8 m\bme\bet\btr\bri\bic\bc 1\b1 d\bde\bev\bv e\bet\bth\bh0\b0\r\n",
      "              This  adds a IPv6 route with the specified metric to be directly\r\n",
      "              reachable via eth0.\r\n",
      "\r\n",
      "O\bOU\bUT\bTP\bPU\bUT\bT\r\n",
      "       The output of the kernel routing table is organized  in  the  following\r\n",
      "       columns\r\n",
      "\r\n",
      "       D\bDe\bes\bst\bti\bin\bna\bat\bti\bio\bon\bn\r\n",
      "              The destination network or destination host.\r\n",
      "\r\n",
      "       G\bGa\bat\bte\bew\bwa\bay\by\r\n",
      "              The gateway address or '*' if none set.\r\n",
      "\r\n",
      "       G\bGe\ben\bnm\bma\bas\bsk\bk\r\n",
      "              The  netmask  for  the  destination net; '255.255.255.255' for a\r\n",
      "              host destination and '0.0.0.0' for the d\bde\bef\bfa\bau\bul\blt\bt route.\r\n",
      "\r\n",
      "       F\bFl\bla\bag\bgs\bs  Possible flags include\r\n",
      "              U\bU (route is u\bup\bp)\r\n",
      "              H\bH (target is a h\bho\bos\bst\bt)\r\n",
      "              G\bG (use g\bga\bat\bte\bew\bwa\bay\by)\r\n",
      "              R\bR (r\bre\bei\bin\bns\bst\bta\bat\bte\be route for dynamic routing)\r\n",
      "              D\bD (d\bdy\byn\bna\bam\bmi\bic\bca\bal\bll\bly\by installed by daemon or redirect)\r\n",
      "              M\bM (m\bmo\bod\bdi\bif\bfi\bie\bed\bd from routing daemon or redirect)\r\n",
      "              A\bA (installed by a\bad\bdd\bdr\brc\bco\bon\bnf\bf)\r\n",
      "              C\bC (c\bca\bac\bch\bhe\be entry)\r\n",
      "              !\b!  (r\bre\bej\bje\bec\bct\bt route)\r\n",
      "\r\n",
      "       M\bMe\bet\btr\bri\bic\bc The 'distance' to the target (usually counted in hops).\r\n",
      "\r\n",
      "       R\bRe\bef\bf    Number of references to this route. (Not used in the Linux  ker‐\r\n",
      "              nel.)\r\n",
      "\r\n",
      "       U\bUs\bse\be    Count  of lookups for the route.  Depending on the use of -F and\r\n",
      "              -C this will be either route cache misses (-F) or hits (-C).\r\n",
      "\r\n",
      "       I\bIf\bfa\bac\bce\be  Interface to which packets for this route will be sent.\r\n",
      "\r\n",
      "       M\bMS\bSS\bS    Default maximum segment  size  for  TCP  connections  over  this\r\n",
      "              route.\r\n",
      "\r\n",
      "       W\bWi\bin\bnd\bdo\bow\bw Default window size for TCP connections over this route.\r\n",
      "\r\n",
      "       i\bir\brt\btt\bt   Initial  RTT  (Round  Trip  Time). The kernel uses this to guess\r\n",
      "              about the best TCP protocol parameters without waiting on  (pos‐\r\n",
      "              sibly slow) answers.\r\n",
      "\r\n",
      "       H\bHH\bH (\b(c\bca\bac\bch\bhe\bed\bd o\bon\bnl\bly\by)\b)\r\n",
      "              The  number  of  ARP entries and cached routes that refer to the\r\n",
      "              hardware header cache for the cached route. This will be -1 if a\r\n",
      "              hardware  address  is not needed for the interface of the cached\r\n",
      "              route (e.g. lo).\r\n",
      "\r\n",
      "       A\bAr\brp\bp (\b(c\bca\bac\bch\bhe\bed\bd o\bon\bnl\bly\by)\b)\r\n",
      "              Whether or not the hardware address for the cached route  is  up\r\n",
      "              to date.\r\n",
      "\r\n",
      "F\bFI\bIL\bLE\bES\bS\r\n",
      "       _\b/_\bp_\br_\bo_\bc_\b/_\bn_\be_\bt_\b/_\bi_\bp_\bv_\b6_\b__\br_\bo_\bu_\bt_\be\r\n",
      "       _\b/_\bp_\br_\bo_\bc_\b/_\bn_\be_\bt_\b/_\br_\bo_\bu_\bt_\be\r\n",
      "       _\b/_\bp_\br_\bo_\bc_\b/_\bn_\be_\bt_\b/_\br_\bt_\b__\bc_\ba_\bc_\bh_\be\r\n",
      "\r\n",
      "S\bSE\bEE\bE A\bAL\bLS\bSO\bO\r\n",
      "       _\bi_\bf_\bc_\bo_\bn_\bf_\bi_\bg(8), _\bn_\be_\bt_\bs_\bt_\ba_\bt(8), _\ba_\br_\bp(8), _\br_\ba_\br_\bp(8), _\bi_\bp(8)\r\n",
      "\r\n",
      "H\bHI\bIS\bST\bTO\bOR\bRY\bY\r\n",
      "       R\bRo\bou\but\bte\be  for  Linux  was  originally  written  by  Fred  N.   van Kempen,\r\n",
      "       <waltje@uwalt.nl.mugnet.org> and then modified by Johannes  Stille  and\r\n",
      "       Linus  Torvalds for pl15. Alan Cox added the mss and window options for\r\n",
      "       Linux 1.1.22. irtt support and merged with netstat  from  Bernd  Ecken‐\r\n",
      "       fels.\r\n",
      "\r\n",
      "A\bAU\bUT\bTH\bHO\bOR\bR\r\n",
      "       Currently  maintained  by Phil Blundell <Philip.Blundell@pobox.com> and\r\n",
      "       Bernd Eckenfels <net-tools@lina.inka.de>.\r\n",
      "\r\n",
      "net-tools                         2014-02-17                          ROUTE(8)\r\n"
     ]
    }
   ],
   "source": [
    "! man route"
   ]
  },
  {
   "cell_type": "code",
   "execution_count": 11,
   "metadata": {},
   "outputs": [
    {
     "name": "stdout",
     "output_type": "stream",
     "text": [
      "Kernel IP routing table\r\n",
      "Destination     Gateway         Genmask         Flags Metric Ref    Use Iface\r\n",
      "0.0.0.0         192.168.231.2   0.0.0.0         UG    100    0        0 eth0\r\n",
      "192.168.231.0   0.0.0.0         255.255.255.0   U     100    0        0 eth0\r\n"
     ]
    }
   ],
   "source": [
    "! route -n"
   ]
  },
  {
   "cell_type": "code",
   "execution_count": 5,
   "metadata": {},
   "outputs": [
    {
     "name": "stdout",
     "output_type": "stream",
     "text": [
      "eth0: flags=4163<UP,BROADCAST,RUNNING,MULTICAST>  mtu 1500\r\n",
      "        inet6 fe80::20c:29ff:fed7:4d09  prefixlen 64  scopeid 0x20<link>\r\n",
      "        ether 00:0c:29:d7:4d:09  txqueuelen 1000  (Ethernet)\r\n",
      "        RX packets 14541  bytes 18242127 (17.3 MiB)\r\n",
      "        RX errors 0  dropped 0  overruns 0  frame 0\r\n",
      "        TX packets 5087  bytes 314601 (307.2 KiB)\r\n",
      "        TX errors 0  dropped 0 overruns 0  carrier 0  collisions 0\r\n",
      "        device interrupt 19  base 0x2000  \r\n",
      "\r\n",
      "lo: flags=73<UP,LOOPBACK,RUNNING>  mtu 65536\r\n",
      "        inet 127.0.0.1  netmask 255.0.0.0\r\n",
      "        inet6 ::1  prefixlen 128  scopeid 0x10<host>\r\n",
      "        loop  txqueuelen 1000  (Local Loopback)\r\n",
      "        RX packets 2427  bytes 1317847 (1.2 MiB)\r\n",
      "        RX errors 0  dropped 0  overruns 0  frame 0\r\n",
      "        TX packets 2427  bytes 1317847 (1.2 MiB)\r\n",
      "        TX errors 0  dropped 0 overruns 0  carrier 0  collisions 0\r\n",
      "\r\n"
     ]
    }
   ],
   "source": [
    "! ifconfig"
   ]
  },
  {
   "cell_type": "code",
   "execution_count": 13,
   "metadata": {},
   "outputs": [
    {
     "name": "stdout",
     "output_type": "stream",
     "text": [
      "PING 192.168.231.2 (192.168.231.2) 56(84) bytes of data.\n",
      "64 bytes from 192.168.231.2: icmp_seq=1 ttl=128 time=0.448 ms\n",
      "64 bytes from 192.168.231.2: icmp_seq=2 ttl=128 time=0.207 ms\n",
      "64 bytes from 192.168.231.2: icmp_seq=3 ttl=128 time=0.291 ms\n",
      "64 bytes from 192.168.231.2: icmp_seq=4 ttl=128 time=0.319 ms\n",
      "64 bytes from 192.168.231.2: icmp_seq=5 ttl=128 time=0.274 ms\n",
      "64 bytes from 192.168.231.2: icmp_seq=6 ttl=128 time=0.283 ms\n",
      "64 bytes from 192.168.231.2: icmp_seq=7 ttl=128 time=0.248 ms\n",
      "64 bytes from 192.168.231.2: icmp_seq=8 ttl=128 time=0.307 ms\n",
      "64 bytes from 192.168.231.2: icmp_seq=9 ttl=128 time=0.320 ms\n",
      "64 bytes from 192.168.231.2: icmp_seq=10 ttl=128 time=0.164 ms\n",
      "64 bytes from 192.168.231.2: icmp_seq=11 ttl=128 time=0.232 ms\n",
      "64 bytes from 192.168.231.2: icmp_seq=12 ttl=128 time=0.317 ms\n",
      "64 bytes from 192.168.231.2: icmp_seq=13 ttl=128 time=0.243 ms\n",
      "64 bytes from 192.168.231.2: icmp_seq=14 ttl=128 time=0.241 ms\n",
      "^C\n",
      "\n",
      "--- 192.168.231.2 ping statistics ---\n",
      "14 packets transmitted, 14 received, 0% packet loss, time 328ms\n",
      "rtt min/avg/max/mdev = 0.164/0.278/0.448/0.065 ms\n"
     ]
    }
   ],
   "source": [
    "! ping 192.168.231.2"
   ]
  },
  {
   "cell_type": "code",
   "execution_count": 2,
   "metadata": {},
   "outputs": [
    {
     "name": "stdout",
     "output_type": "stream",
     "text": [
      "Internet Systems Consortium DHCP Client 4.4.1\r\n",
      "Copyright 2004-2018 Internet Systems Consortium.\r\n",
      "All rights reserved.\r\n",
      "For info, please visit https://www.isc.org/software/dhcp/\r\n",
      "\r\n",
      "Listening on LPF/eth0/00:0c:29:d7:4d:09\r\n",
      "Sending on   LPF/eth0/00:0c:29:d7:4d:09\r\n",
      "Sending on   Socket/fallback\r\n",
      "DHCPRELEASE of 192.168.231.152 on eth0 to 192.168.231.254 port 67\r\n",
      "send_packet: Network is unreachable\r\n",
      "send_packet: please consult README file regarding broadcast address.\r\n",
      "dhclient.c:2878: Failed to send 300 byte long packet over fallback interface.\r\n"
     ]
    }
   ],
   "source": [
    "! dhclient -v -r"
   ]
  },
  {
   "cell_type": "code",
   "execution_count": 6,
   "metadata": {},
   "outputs": [
    {
     "name": "stdout",
     "output_type": "stream",
     "text": [
      "dhclient(8)                 System Manager's Manual                dhclient(8)\r\n",
      "\r\n",
      "N\bNA\bAM\bME\bE\r\n",
      "       dhclient - Dynamic Host Configuration Protocol Client\r\n",
      "\r\n",
      "S\bSY\bYN\bNO\bOP\bPS\bSI\bIS\bS\r\n",
      "       d\bdh\bhc\bcl\bli\bie\ben\bnt\bt  [ -\b-4\b4 | -\b-6\b6 ] [ -\b-S\bS ] [ -\b-N\bN [ -\b-N\bN.\b..\b..\b.  ] ] [ -\b-T\bT [ -\b-T\bT.\b..\b..\b.  ] ] [ -\b-P\bP [\r\n",
      "       -\b-P\bP.\b..\b..\b.  ] ] -\b-R\bR ] [ -\b-i\bi ] [ -\b-I\bI ] [ -\b-4\b4o\bo6\b6 _\bp_\bo_\br_\bt ] [ -\b-D\bD _\bL_\bL_\b|_\bL_\bL_\bT ]  [  -\b-p\bp  _\bp_\bo_\br_\bt_\b-\r\n",
      "       _\bn_\bu_\bm_\bb_\be_\br  ] [ -\b-d\bd ] [ -\b-d\bdf\bf _\bd_\bu_\bi_\bd_\b-_\bl_\be_\ba_\bs_\be_\b-_\bf_\bi_\bl_\be ] [ -\b-e\be _\bV_\bA_\bR_\b=_\bv_\ba_\bl_\bu_\be ] [ -\b-q\bq ] [ -\b-1\b1 ]\r\n",
      "       [ -\b-r\br | -\b-x\bx ] [ -\b-l\blf\bf _\bl_\be_\ba_\bs_\be_\b-_\bf_\bi_\bl_\be ] [ -\b-p\bpf\bf _\bp_\bi_\bd_\b-_\bf_\bi_\bl_\be ] [ -\b--\b-n\bno\bo-\b-p\bpi\bid\bd ] [ -\b-c\bcf\bf _\bc_\bo_\bn_\b‐\r\n",
      "       _\bf_\bi_\bg_\b-_\bf_\bi_\bl_\be ] [ -\b-s\bsf\bf _\bs_\bc_\br_\bi_\bp_\bt_\b-_\bf_\bi_\bl_\be ] [ -\b-s\bs _\bs_\be_\br_\bv_\be_\br_\b-_\ba_\bd_\bd_\br ] [ -\b-g\bg _\br_\be_\bl_\ba_\by ] [ -\b-n\bn ] [\r\n",
      "       -\b-n\bnw\bw ] [ -\b-w\bw ] [ -\b--\b-d\bda\bad\bd-\b-w\bwa\bai\bit\bt-\b-t\bti\bim\bme\be _\bs_\be_\bc_\bo_\bn_\bd_\bs ] [ -\b--\b-p\bpr\bre\bef\bfi\bix\bx-\b-l\ble\ben\bn-\b-h\bhi\bin\bnt\bt _\bl_\be_\bn_\bg_\bt_\bh ] [\r\n",
      "       -\b--\b-d\bde\bec\bcl\bli\bin\bne\be-\b-w\bwa\bai\bit\bt-\b-t\bti\bim\bme\be _\bs_\be_\bc_\bo_\bn_\bd_\bs ] [ -\b-v\bv ] [ -\b--\b-v\bve\ber\brs\bsi\bio\bon\bn ] [ _\bi_\bf_\b0 [ _\b._\b._\b._\bi_\bf_\bN ] ]\r\n",
      "\r\n",
      "D\bDE\bES\bSC\bCR\bRI\bIP\bPT\bTI\bIO\bON\bN\r\n",
      "       The Internet Systems Consortium DHCP Client, d\bdh\bhc\bcl\bli\bie\ben\bnt\bt, provides a means\r\n",
      "       for configuring one or more network interfaces using the  Dynamic  Host\r\n",
      "       Configuration  Protocol, BOOTP protocol, or if these protocols fail, by\r\n",
      "       statically assigning an address.\r\n",
      "\r\n",
      "O\bOP\bPE\bER\bRA\bAT\bTI\bIO\bON\bN\r\n",
      "       The DHCP protocol allows a host to contact a central server which main‐\r\n",
      "       tains  a list of IP addresses which may be assigned on one or more sub‐\r\n",
      "       nets.  A DHCP client may request an address from this  pool,  and  then\r\n",
      "       use  it  on  a  temporary basis for communication on network.  The DHCP\r\n",
      "       protocol also provides a mechanism whereby a client can learn important\r\n",
      "       details about the network to which it is attached, such as the location\r\n",
      "       of a default router, the location of a name server, and so on.\r\n",
      "\r\n",
      "       There are two versions of the DHCP  protocol  DHCPv4  and  DHCPv6.   At\r\n",
      "       startup the client may be started for one or the other via the -\b-4\b4 or -\b-6\b6\r\n",
      "       options.\r\n",
      "\r\n",
      "       On startup, d\bdh\bhc\bcl\bli\bie\ben\bnt\bt reads the dhclient.conf for configuration instruc‐\r\n",
      "       tions.  It then gets a list of all the network interfaces that are con‐\r\n",
      "       figured in the current system.  For each interface, it attempts to con‐\r\n",
      "       figure the interface using the DHCP protocol.\r\n",
      "\r\n",
      "       In  order  to  keep  track  of  leases across system reboots and server\r\n",
      "       restarts, d\bdh\bhc\bcl\bli\bie\ben\bnt\bt keeps a list of leases it has been assigned  in  the\r\n",
      "       dhclient.leases  file.   On  startup,  after  reading the dhclient.conf\r\n",
      "       file, d\bdh\bhc\bcl\bli\bie\ben\bnt\bt reads the dhclient.leases file  to  refresh  its  memory\r\n",
      "       about what leases it has been assigned.\r\n",
      "\r\n",
      "       When  a  new  lease  is  acquired,  it  is  appended  to the end of the\r\n",
      "       dhclient.leases file.  In order to prevent the file from becoming arbi‐\r\n",
      "       trarily large, from time to time d\bdh\bhc\bcl\bli\bie\ben\bnt\bt creates a new dhclient.leases\r\n",
      "       file  from  its  in-core  lease  database.   The  old  version  of  the\r\n",
      "       dhclient.leases  file is retained under the name _\bd_\bh_\bc_\bl_\bi_\be_\bn_\bt_\b._\bl_\be_\ba_\bs_\be_\bs_\b~ until\r\n",
      "       the next time d\bdh\bhc\bcl\bli\bie\ben\bnt\bt rewrites the database.\r\n",
      "\r\n",
      "       Old leases are kept around in case the DHCP server is unavailable  when\r\n",
      "       d\bdh\bhc\bcl\bli\bie\ben\bnt\bt  is  first  invoked  (generally during the initial system boot\r\n",
      "       process).  In that event, old  leases  from  the  dhclient.leases  file\r\n",
      "       which have not yet expired are tested, and if they are determined to be\r\n",
      "       valid, they are used until either they expire or the  DHCP  server  be‐\r\n",
      "       comes available.\r\n",
      "\r\n",
      "       A  mobile host which may sometimes need to access a network on which no\r\n",
      "       DHCP server exists may be preloaded with a lease for a fixed address on\r\n",
      "       that  network.  When all attempts to contact a DHCP server have failed,\r\n",
      "       d\bdh\bhc\bcl\bli\bie\ben\bnt\bt will try to validate the static lease,  and  if  it  succeeds,\r\n",
      "       will use that lease until it is restarted.\r\n",
      "\r\n",
      "       A  mobile  host  may  also travel to some networks on which DHCP is not\r\n",
      "       available but BOOTP is.  In that case, it may be  advantageous  to  ar‐\r\n",
      "       range  with  the  network administrator for an entry on the BOOTP data‐\r\n",
      "       base, so that the host can boot quickly on that network rather than cy‐\r\n",
      "       cling through the list of old leases.\r\n",
      "\r\n",
      "C\bCO\bOM\bMM\bMA\bAN\bND\bD L\bLI\bIN\bNE\bE\r\n",
      "       The  names  of  the  network interfaces that d\bdh\bhc\bcl\bli\bie\ben\bnt\bt should attempt to\r\n",
      "       configure may be specified on the command line.  If no interface  names\r\n",
      "       are  specified  on the command line d\bdh\bhc\bcl\bli\bie\ben\bnt\bt will normally identify all\r\n",
      "       network interfaces, eliminating non-broadcast interfaces  if  possible,\r\n",
      "       and attempt to configure each interface.\r\n",
      "\r\n",
      "       It  is also possible to specify interfaces by name in the dhclient.conf\r\n",
      "       file.  If interfaces are specified in this way, then  the  client  will\r\n",
      "       only  configure  interfaces that are either specified in the configura‐\r\n",
      "       tion file or on the command line, and will ignore all other interfaces.\r\n",
      "\r\n",
      "       The client normally prints no output during its startup  sequence.   It\r\n",
      "       can  be  made  to emit verbose messages displaying the startup sequence\r\n",
      "       events until it has acquired an address by  supplying  the  -\b-v\bv  command\r\n",
      "       line argument.  In either case, the client logs messages using the s\bsy\bys\bs‐\b‐\r\n",
      "       l\blo\bog\bg(\b(3\b3)\b) facility.\r\n",
      "\r\n",
      "O\bOP\bPT\bTI\bIO\bON\bNS\bS\r\n",
      "       -\b-4\b4     Use the DHCPv4 protocol to obtain an IPv4 address and configura‐\r\n",
      "              tion  parameters.   This  is  the default and cannot be combined\r\n",
      "              with -\b-6\b6.\r\n",
      "\r\n",
      "       -\b-6\b6     Use the DHCPv6 protocol to obtain whatever  IPv6  addresses  are\r\n",
      "              available  along  with  configuration  parameters.  It cannot be\r\n",
      "              combined with -\b-4\b4.  The -\b-S\bS -\b-T\bT -\b-P\bP -\b-N\bN and -\b-D\bD arguments provide more\r\n",
      "              control  over aspects of the DHCPv6 processing.  Note: it is not\r\n",
      "              recommended to mix queries of different types together  or  even\r\n",
      "              to share the lease file between them.\r\n",
      "\r\n",
      "       -\b-4\b4o\bo6\b6 _\bp_\bo_\br_\bt\r\n",
      "              Participate  in the DHCPv4 over DHCPv6 protocol specified by RFC\r\n",
      "              7341.  This associates a DHCPv4 and a DHCPv6 client to allow the\r\n",
      "              v4 client to send v4 requests encapsulated in a v6 packet.  Com‐\r\n",
      "              munication between the two clients is done  on  a  pair  of  UDP\r\n",
      "              sockets  bound  to  ::1  _\bp_\bo_\br_\bt and _\bp_\bo_\br_\bt _\b+ _\b1. Both clients must be\r\n",
      "              launched using the same _\bp_\bo_\br_\bt argument.\r\n",
      "\r\n",
      "       -\b-1\b1     Try to get a lease once.  On  failure  exit  with  code  2.   In\r\n",
      "              DHCPv6 this sets the maximum duration of the initial exchange to\r\n",
      "              _\bt_\bi_\bm_\be_\bo_\bu_\bt (from dhclient.conf with a default of sixty seconds).\r\n",
      "\r\n",
      "       -\b-d\bd     Force d\bdh\bhc\bcl\bli\bie\ben\bnt\bt to run as a  foreground  process.   Normally  the\r\n",
      "              DHCP  client  will run in the foreground until is has configured\r\n",
      "              an interface at which time it will  revert  to  running  in  the\r\n",
      "              background.  This option is useful when running the client under\r\n",
      "              a debugger, or when running it out of inittab on System  V  sys‐\r\n",
      "              tems.  This implies -\b-v\bv.\r\n",
      "\r\n",
      "       -\b-n\bnw\bw    Become  a  daemon immediately (nowait) rather than waiting until\r\n",
      "              an IP address has been acquired.\r\n",
      "\r\n",
      "       -\b-q\bq     Be quiet at startup, this is the default.\r\n",
      "\r\n",
      "       -\b-v\bv     Enable verbose log messages.\r\n",
      "\r\n",
      "       -\b-w\bw     Continue running even if no  broadcast  interfaces  were  found.\r\n",
      "              Normally  DHCP client will exit if it isn't able to identify any\r\n",
      "              network interfaces to configure.  On laptop computers and  other\r\n",
      "              computers  with  hot-swappable  I/O buses, it is possible that a\r\n",
      "              broadcast interface may be added  after  system  startup.   This\r\n",
      "              flag can be used to cause the client not to exit when it doesn't\r\n",
      "              find any such interfaces.  The o\bom\bms\bsh\bhe\bel\bll\bl(\b(1\b1)\b) program  can  then  be\r\n",
      "              used  to  notify  the  client  when a network interface has been\r\n",
      "              added or removed, so that the client can attempt to configure an\r\n",
      "              IP address on that interface.\r\n",
      "\r\n",
      "       -\b-n\bn     Do not configure any interfaces.  This is most likely to be use‐\r\n",
      "              ful in combination with the -\b-w\bw flag.\r\n",
      "\r\n",
      "       -\b-e\be _\bV_\bA_\bR_\b=_\bv_\ba_\bl_\bu_\be\r\n",
      "              Define additional  environment  variables  for  the  environment\r\n",
      "              where d\bdh\bhc\bcl\bli\bie\ben\bnt\bt-\b-s\bsc\bcr\bri\bip\bpt\bt executes.  You may specify multiple -\b-e\be op‐\r\n",
      "              tions on the command line.\r\n",
      "\r\n",
      "       -\b-r\br     Release the current lease and stop the running  DHCP  client  as\r\n",
      "              previously  recorded  in  the  PID file.  When shutdown via this\r\n",
      "              method d\bdh\bhc\bcl\bli\bie\ben\bnt\bt-\b-s\bsc\bcr\bri\bip\bpt\bt will be executed with the specific reason\r\n",
      "              for calling the script set.  The client normally doesn't release\r\n",
      "              the current lease as this is not required by the  DHCP  protocol\r\n",
      "              but  some  cable ISPs require their clients to notify the server\r\n",
      "              if they wish to release an assigned IP address.\r\n",
      "\r\n",
      "       -\b-x\bx     Stop the running  DHCP  client  without  releasing  the  current\r\n",
      "              lease.   Kills  existing d\bdh\bhc\bcl\bli\bie\ben\bnt\bt process as previously recorded\r\n",
      "              in the PID file.  When shutdown via this method  d\bdh\bhc\bcl\bli\bie\ben\bnt\bt-\b-s\bsc\bcr\bri\bip\bpt\bt\r\n",
      "              will be executed with the specific reason for calling the script\r\n",
      "              set.\r\n",
      "\r\n",
      "       -\b-p\bp _\bp_\bo_\br_\bt_\b-_\bn_\bu_\bm_\bb_\be_\br\r\n",
      "              The UDP port number on which the DHCP client should  listen  and\r\n",
      "              transmit.  If unspecified, d\bdh\bhc\bcl\bli\bie\ben\bnt\bt uses the default port of 68.\r\n",
      "              This is mostly useful for debugging purposes.   If  a  different\r\n",
      "              port  is  specified on which the client should listen and trans‐\r\n",
      "              mit, the client will also use a different destination port - one\r\n",
      "              less than the specified port.\r\n",
      "\r\n",
      "       -\b-s\bs _\bs_\be_\br_\bv_\be_\br_\b-_\ba_\bd_\bd_\br\r\n",
      "              Specify  the server IP address or fully qualified domain name to\r\n",
      "              use as a destination for DHCP protocol messages before  d\bdh\bhc\bcl\bli\bie\ben\bnt\bt\r\n",
      "              has  acquired an IP address.  Normally, d\bdh\bhc\bcl\bli\bie\ben\bnt\bt transmits these\r\n",
      "              messages to 255.255.255.255 (the IP limited broadcast  address).\r\n",
      "              Overriding  this  is mostly useful for debugging purposes.  This\r\n",
      "              feature is not supported in DHCPv6 (-\b-6\b6) mode.\r\n",
      "\r\n",
      "       -\b-g\bg _\br_\be_\bl_\ba_\by\r\n",
      "              Set the giaddr field of all packets to the _\br_\be_\bl_\ba_\by IP address sim‐\r\n",
      "              ulating  a  relay  agent.  This is for testing purposes only and\r\n",
      "              should not be expected to work in any consistent or useful way.\r\n",
      "\r\n",
      "       -\b-i\bi     Use a DUID with DHCPv4 clients.  If no DUID is available in  the\r\n",
      "              lease  file one will be constructed and saved.  The DUID will be\r\n",
      "              used to construct a RFC4361 style client id  that  will  be  in‐\r\n",
      "              cluded in the client's messages.  This client id can be overrid‐\r\n",
      "              den by setting a client id in the configuration file.   Overrid‐\r\n",
      "              ing the client id in this fashion is discouraged.\r\n",
      "\r\n",
      "       -\b-I\bI     Use the standard DDNS scheme from RFCs 4701 & 4702.\r\n",
      "\r\n",
      "       -\b--\b-d\bde\bec\bcl\bli\bin\bne\be-\b-w\bwa\bai\bit\bt-\b-t\bti\bim\bme\be _\bs_\be_\bc_\bo_\bn_\bd_\bs\r\n",
      "              Specify  the  time  (in seconds) that an IPv4 client should wait\r\n",
      "              after declining an address before issuing a discover.   The  de‐\r\n",
      "              fault  is  10 seconds as recommended by RFC 2131, Section 3.1.5.\r\n",
      "              A value of zero equates to no wait at all.\r\n",
      "\r\n",
      "       -\b--\b-v\bve\ber\brs\bsi\bio\bon\bn Print version number and exit.\r\n",
      "\r\n",
      "       _\bO_\bp_\bt_\bi_\bo_\bn_\bs _\ba_\bv_\ba_\bi_\bl_\ba_\bb_\bl_\be _\bf_\bo_\br _\bD_\bH_\bC_\bP_\bv_\b6 _\bm_\bo_\bd_\be_\b:\r\n",
      "\r\n",
      "       -\b-S\bS     Use Information-request to get only stateless configuration  pa‐\r\n",
      "              rameters  (i.e.,  without  address).   This implies -\b-6\b6.  It also\r\n",
      "              doesn't rewrite the lease database.\r\n",
      "\r\n",
      "       -\b-T\bT     Ask for IPv6 temporary addresses, one set per -\b-T\bT flag.  This im‐\r\n",
      "              plies  -\b-6\b6 and also disables the normal address query.  See -\b-N\bN to\r\n",
      "              restore it.\r\n",
      "\r\n",
      "       -\b-P\bP     Enable IPv6 prefix delegation.  This implies -\b-6\b6  and  also  dis‐\r\n",
      "              ables the normal address query.  See -\b-N\bN to restore it.  Multiple\r\n",
      "              prefixes can be requested with multiple -\b-P\bP flags.  Note only one\r\n",
      "              requested interface is allowed.\r\n",
      "\r\n",
      "       -\b-R\bR     Require that responses include all of the items requested by any\r\n",
      "              -\b-N\bN, -\b-T\bT, or -\b-P\bP options.  Normally even if the  command  line  in‐\r\n",
      "              cludes  a  number  of these the client will be willing to accept\r\n",
      "              the best lease it can even if the lease doesn't include  all  of\r\n",
      "              the  requested items.  This option causes the client to only ac‐\r\n",
      "              cept leases that include all of the requested items.\r\n",
      "\r\n",
      "              Note well: enabling this may prevent the client from  using  any\r\n",
      "              leases  it  receives  if the servers aren't configured to supply\r\n",
      "              all of the items.\r\n",
      "\r\n",
      "       -\b-D\bD _\bL_\bL _\bo_\br _\bL_\bL_\bT\r\n",
      "              Override the default when selecting the type of DUID to use.  By\r\n",
      "              default,  DHCPv6  d\bdh\bhc\bcl\bli\bie\ben\bnt\bt  creates  an  identifier based on the\r\n",
      "              link-layer address (DUID-LL) if it is running in stateless  mode\r\n",
      "              (with  -\b-S\bS,  not requesting an address), or it creates an identi‐\r\n",
      "              fier based on the link-layer address plus a timestamp (DUID-LLT)\r\n",
      "              if it is running in stateful mode (without -\b-S\bS, requesting an ad‐\r\n",
      "              dress).  When DHCPv4 is configured to use a DUID using -\b-i\bi option\r\n",
      "              the  default  is to use a DUID-LLT.  -\b-D\bD overrides these default,\r\n",
      "              with a value of either _\bL_\bL or _\bL_\bL_\bT.\r\n",
      "\r\n",
      "       -\b-N\bN     Restore normal address query for IPv6. This implies -\b-6\b6.   It  is\r\n",
      "              used to restore normal operation after using -\b-T\bT or -\b-P\bP.  Multiple\r\n",
      "              addresses can be requested with multiple -\b-N\bN flags.\r\n",
      "\r\n",
      "       -\b--\b-a\bad\bdd\bdr\bre\bes\bss\bs-\b-p\bpr\bre\bef\bfi\bix\bx-\b-l\ble\ben\bn _\bl_\be_\bn_\bg_\bt_\bh\r\n",
      "              Specify the length of the prefix for IPv6 addresses. This  value\r\n",
      "              is passed by dhclient into the client script via the environment\r\n",
      "              variable, ip6_prefixlen, when binding IPv6 addresses.   The  de‐\r\n",
      "              fault value is 128.  Alternatively you may change the default at\r\n",
      "              compile  time  by  setting  DHCLIENT_DEFAULT_PREFIX_LEN  in  in‐\r\n",
      "              cludes/site.h.\r\n",
      "\r\n",
      "       -\b--\b-d\bda\bad\bd-\b-w\bwa\bai\bit\bt-\b-t\bti\bim\bme\be _\bs_\be_\bc_\bo_\bn_\bd_\bs\r\n",
      "              Specify  maximum  time  (in seconds) that the client should wait\r\n",
      "              for the duplicate address detection (DAD) to complete on an  in‐\r\n",
      "              terface.  This  value  is propagated to the dhclient script in a\r\n",
      "              dad_wait_time environment variable. If any of the IPv6 addresses\r\n",
      "              on  the interface are tentative (DAD is in progress), the script\r\n",
      "              will wait for the specified number of seconds for  DAD  to  com‐\r\n",
      "              plete.  If the script ignores this variable the parameter has no\r\n",
      "              effect.\r\n",
      "\r\n",
      "       -\b--\b-p\bpr\bre\bef\bfi\bix\bx-\b-l\ble\ben\bn-\b-h\bhi\bin\bnt\bt _\bl_\be_\bn_\bg_\bt_\bh\r\n",
      "              When used in conjunction with -P, it directs the client  to  use\r\n",
      "              the  given length to use a prefix hint of, \"::/length\", when re‐\r\n",
      "              questing new prefixes.\r\n",
      "\r\n",
      "       _\bM_\bo_\bd_\bi_\bf_\by_\bi_\bn_\bg _\bd_\be_\bf_\ba_\bu_\bl_\bt _\bf_\bi_\bl_\be _\bl_\bo_\bc_\ba_\bt_\bi_\bo_\bn_\bs_\b: The following options can be used  to\r\n",
      "       modify the locations a client uses for its files.  They can be particu‐\r\n",
      "       larly useful if, for example, /\b/v\bva\bar\br/\b/l\bli\bib\bb/\b/d\bdh\bhc\bcp\bp or /\b/v\bva\bar\br/\b/r\bru\bun\bn have  not  been\r\n",
      "       mounted when the DHCP client is started.\r\n",
      "\r\n",
      "       -\b-c\bcf\bf _\bc_\bo_\bn_\bf_\bi_\bg_\b-_\bf_\bi_\bl_\be\r\n",
      "              Path  to the client configuration file.  If unspecified, the de‐\r\n",
      "              fault /\b/e\bet\btc\bc/\b/d\bdh\bhc\bcp\bp/\b/d\bdh\bhc\bcl\bli\bie\ben\bnt\bt.\b.c\bco\bon\bnf\bf is used.  See d\bdh\bhc\bcl\bli\bie\ben\bnt\bt.\b.c\bco\bon\bnf\bf(\b(5\b5)\b) for\r\n",
      "              a description of this file.\r\n",
      "\r\n",
      "       -\b-d\bdf\bf _\bd_\bu_\bi_\bd_\b-_\bl_\be_\ba_\bs_\be_\b-_\bf_\bi_\bl_\be\r\n",
      "              Path  to  a  secondary  lease  file.   If the primary lease file\r\n",
      "              doesn't contain a DUID this file will  be  searched.   The  DUID\r\n",
      "              read  from  the  secondary will be written to the primary.  This\r\n",
      "              option can be used to allow an IPv4 instance of  the  client  to\r\n",
      "              share  a  DUID with an IPv6 instance.  After starting one of the\r\n",
      "              instances the second can be started with this option pointing to\r\n",
      "              the  lease file of the first instance.  There is no default.  If\r\n",
      "              no file is specified no search is made for a DUID should one not\r\n",
      "              be found in the main lease file.\r\n",
      "\r\n",
      "       -\b-l\blf\bf _\bl_\be_\ba_\bs_\be_\b-_\bf_\bi_\bl_\be\r\n",
      "              Path  to  the  lease database file.  If unspecified, the default\r\n",
      "              /\b/v\bva\bar\br/\b/l\bli\bib\bb/\b/d\bdh\bhc\bcp\bp/\b/d\bdh\bhc\bcl\bli\bie\ben\bnt\bt.\b.l\ble\bea\bas\bse\bes\bs is used.   See  d\bdh\bhc\bcl\bli\bie\ben\bnt\bt.\b.l\ble\bea\bas\bse\bes\bs(\b(5\b5)\b)\r\n",
      "              for a description of this file.\r\n",
      "\r\n",
      "       -\b-p\bpf\bf _\bp_\bi_\bd_\b-_\bf_\bi_\bl_\be\r\n",
      "              Path  to  the  process  ID  file.   If  unspecified, the default\r\n",
      "              /\b/v\bva\bar\br/\b/r\bru\bun\bn/\b/d\bdh\bhc\bcl\bli\bie\ben\bnt\bt.\b.p\bpi\bid\bd is used.\r\n",
      "\r\n",
      "       -\b--\b-n\bno\bo-\b-p\bpi\bid\bd\r\n",
      "              Option to disable writing pid files.   By  default  the  program\r\n",
      "              will  write a pid file.  If the program is invoked with this op‐\r\n",
      "              tion it will not attempt to kill any existing  client  processes\r\n",
      "              even if invoked with -\b-r\br or -\b-x\bx.\r\n",
      "\r\n",
      "       -\b-s\bsf\bf _\bs_\bc_\br_\bi_\bp_\bt_\b-_\bf_\bi_\bl_\be\r\n",
      "              Path  to  the  network  configuration script invoked by d\bdh\bhc\bcl\bli\bie\ben\bnt\bt\r\n",
      "              when  it  gets   a   lease.    If   unspecified,   the   default\r\n",
      "              /\b/s\bsb\bbi\bin\bn/\b/d\bdh\bhc\bcl\bli\bie\ben\bnt\bt-\b-s\bsc\bcr\bri\bip\bpt\bt is used.  See d\bdh\bhc\bcl\bli\bie\ben\bnt\bt-\b-s\bsc\bcr\bri\bip\bpt\bt(\b(8\b8)\b) for a de‐\r\n",
      "              scription of this file.\r\n",
      "\r\n",
      "P\bPO\bOR\bRT\bTS\bS\r\n",
      "       During operations the client may use multiple UDP ports to provide dif‐\r\n",
      "       ferent  functions.   Which ports are opened depends on both the way you\r\n",
      "       compiled your code and the configuration  you  supply.   The  following\r\n",
      "       should provide you an idea of what ports may be in use.\r\n",
      "\r\n",
      "       Normally a DHCPv4 client will open a raw UDP socket to receive and send\r\n",
      "       most DHCPv4 packets.  It also opens a fallback UDP socket  for  use  in\r\n",
      "       sending  unicast  packets.  Normally these will both use the well known\r\n",
      "       port number for BOOTPC.\r\n",
      "\r\n",
      "       For DHCPv6 the client opens a UDP socket on the well known client  port\r\n",
      "       and  a  fallback UDP socket on a random port for use in sending unicast\r\n",
      "       messages.  Unlike DHCPv4 the well  known  socket  doesn't  need  to  be\r\n",
      "       opened in raw mode.\r\n",
      "\r\n",
      "       If you have included an omapi port statement in your configuration file\r\n",
      "       then the client will open a TCP socket on that port to listen for OMPAI\r\n",
      "       connections.  When something connects another port will be used for the\r\n",
      "       established connection.\r\n",
      "\r\n",
      "       When DDNS is enabled at compile time (see includes/site.h)  the  client\r\n",
      "       will  open  both a v4 and a v6 UDP socket on random ports.  These ports\r\n",
      "       are not opened unless/until the client first attempts to do an  update.\r\n",
      "       If  the client is not configured to do updates, the ports will never be\r\n",
      "       opened.\r\n",
      "\r\n",
      "C\bCO\bON\bNF\bFI\bIG\bGU\bUR\bRA\bAT\bTI\bIO\bON\bN\r\n",
      "       The syntax of the d\bdh\bhc\bcl\bli\bie\ben\bnt\bt.\b.c\bco\bon\bnf\bf(\b(5\b5)\b) file is discussed separately.\r\n",
      "\r\n",
      "O\bOM\bMA\bAP\bPI\bI\r\n",
      "       The DHCP client provides some ability to control it while  it  is  run‐\r\n",
      "       ning, without stopping it.  This capability is provided using OMAPI, an\r\n",
      "       API for manipulating remote objects.   OMAPI  clients  connect  to  the\r\n",
      "       client  using  TCP/IP,  authenticate, and can then examine the client's\r\n",
      "       current status and make changes to it.\r\n",
      "\r\n",
      "       Rather than implementing the underlying OMAPI protocol  directly,  user\r\n",
      "       programs  should  use  the  dhcpctl  API or OMAPI itself.  Dhcpctl is a\r\n",
      "       wrapper that handles some of the housekeeping chores  that  OMAPI  does\r\n",
      "       not  do  automatically.  Dhcpctl and OMAPI are documented in d\bdh\bhc\bcp\bpc\bct\btl\bl(\b(3\b3)\b)\r\n",
      "       and o\bom\bma\bap\bpi\bi(\b(3\b3)\b).  Most things you'd want to do with the client can be done\r\n",
      "       directly  using  the  o\bom\bms\bsh\bhe\bel\bll\bl(\b(1\b1)\b) command, rather than having to write a\r\n",
      "       special program.\r\n",
      "\r\n",
      "T\bTH\bHE\bE C\bCO\bON\bNT\bTR\bRO\bOL\bL O\bOB\bBJ\bJE\bEC\bCT\bT\r\n",
      "       The control object allows you to shut the client  down,  releasing  all\r\n",
      "       leases  that  it  holds and deleting any DNS records it may have added.\r\n",
      "       It also allows you to pause the client - this unconfigures  any  inter‐\r\n",
      "       faces the client is using.  You can then restart it, which causes it to\r\n",
      "       reconfigure those interfaces.  You  would  normally  pause  the  client\r\n",
      "       prior  to  going  into  hibernation or sleep on a laptop computer.  You\r\n",
      "       would then resume it after the power comes back.  This allows PC  cards\r\n",
      "       to be shut down while the computer is hibernating or sleeping, and then\r\n",
      "       reinitialized to their previous state once the computer  comes  out  of\r\n",
      "       hibernation or sleep.\r\n",
      "\r\n",
      "       The  control  object  has one attribute - the state attribute.  To shut\r\n",
      "       the client down, set its state attribute to 2.  It  will  automatically\r\n",
      "       do  a  DHCPRELEASE.  To pause it, set its state attribute to 3.  To re‐\r\n",
      "       sume it, set its state attribute to 4.\r\n",
      "\r\n",
      "E\bEN\bNV\bVI\bIR\bRO\bON\bNM\bME\bEN\bNT\bT V\bVA\bAR\bRI\bIA\bAB\bBL\bLE\bES\bS\r\n",
      "       The following environment variables may  be  defined  to  override  the\r\n",
      "       builtin defaults for file locations.  Note that use of the related com‐\r\n",
      "       mand-line options will ignore the  corresponding  environment  variable\r\n",
      "       settings.\r\n",
      "\r\n",
      "       P\bPA\bAT\bTH\bH_\b_D\bDH\bHC\bCL\bLI\bIE\bEN\bNT\bT_\b_C\bCO\bON\bNF\bF\r\n",
      "              The dhclient.conf configuration file.\r\n",
      "\r\n",
      "       P\bPA\bAT\bTH\bH_\b_D\bDH\bHC\bCL\bLI\bIE\bEN\bNT\bT_\b_D\bDB\bB\r\n",
      "              The dhclient.leases database.\r\n",
      "\r\n",
      "       P\bPA\bAT\bTH\bH_\b_D\bDH\bHC\bCL\bLI\bIE\bEN\bNT\bT_\b_P\bPI\bID\bD\r\n",
      "              The dhclient PID file.\r\n",
      "\r\n",
      "       P\bPA\bAT\bTH\bH_\b_D\bDH\bHC\bCL\bLI\bIE\bEN\bNT\bT_\b_S\bSC\bCR\bRI\bIP\bPT\bT\r\n",
      "              The dhclient-script file.\r\n",
      "\r\n",
      "F\bFI\bIL\bLE\bES\bS\r\n",
      "       /\b/s\bsb\bbi\bin\bn/\b/d\bdh\bhc\bcl\bli\bie\ben\bnt\bt-\b-s\bsc\bcr\bri\bip\bpt\bt,\b,                         /\b/e\bet\btc\bc/\b/d\bdh\bhc\bcp\bp/\b/d\bdh\bhc\bcl\bli\bie\ben\bnt\bt.\b.c\bco\bon\bnf\bf,\b,\r\n",
      "       /\b/v\bva\bar\br/\b/l\bli\bib\bb/\b/d\bdh\bhc\bcp\bp/\b/d\bdh\bhc\bcl\bli\bie\ben\bnt\bt.\b.l\ble\bea\bas\bse\bes\bs,\b,                   /\b/v\bva\bar\br/\b/r\bru\bun\bn/\b/d\bdh\bhc\bcl\bli\bie\ben\bnt\bt.\b.p\bpi\bid\bd,\b,\r\n",
      "       /\b/v\bva\bar\br/\b/l\bli\bib\bb/\b/d\bdh\bhc\bcp\bp/\b/d\bdh\bhc\bcl\bli\bie\ben\bnt\bt.\b.l\ble\bea\bas\bse\bes\bs~\b~.\b.\r\n",
      "\r\n",
      "S\bSE\bEE\bE A\bAL\bLS\bSO\bO\r\n",
      "       dhcpd(8),     dhcrelay(8),     dhclient-script(8),    dhclient.conf(5),\r\n",
      "       dhclient.leases(5), dhcp-eval(5).\r\n",
      "\r\n",
      "A\bAU\bUT\bTH\bHO\bOR\bR\r\n",
      "       d\bdh\bhc\bcl\bli\bie\ben\bnt\bt(\b(8\b8)\b) To  learn  more  about  Internet  Systems  Consortium,  see\r\n",
      "       h\bht\btt\btp\bps\bs:\b:/\b//\b/w\bww\bww\bw.\b.i\bis\bsc\bc.\b.o\bor\brg\bg\r\n",
      "\r\n",
      "       This client was substantially modified and enhanced by Elliot Poger for\r\n",
      "       use on Linux while he was working on the MosquitoNet project  at  Stan‐\r\n",
      "       ford.\r\n",
      "\r\n",
      "       The  current  version owes much to Elliot's Linux enhancements, but was\r\n",
      "       substantially reorganized and partially rewritten by Ted Lemon so as to\r\n",
      "       use  the same networking framework that the Internet Systems Consortium\r\n",
      "       DHCP server uses.  Much system-specific configuration  code  was  moved\r\n",
      "       into  a  shell  script so that as support for more operating systems is\r\n",
      "       added, it will not be necessary to port  and  maintain  system-specific\r\n",
      "       configuration  code  to  these  operating  systems - instead, the shell\r\n",
      "       script can invoke the native tools to accomplish the same purpose.\r\n",
      "\r\n",
      "                                                                   dhclient(8)\r\n"
     ]
    }
   ],
   "source": [
    "! man dhclient"
   ]
  },
  {
   "cell_type": "markdown",
   "metadata": {},
   "source": [
    "## Internal routing table\n",
    "- typically displays gateway information that could be very useful to know how the packet is being routed to the internet"
   ]
  },
  {
   "cell_type": "code",
   "execution_count": 7,
   "metadata": {},
   "outputs": [],
   "source": [
    "! dhclient"
   ]
  },
  {
   "cell_type": "code",
   "execution_count": 9,
   "metadata": {},
   "outputs": [
    {
     "name": "stdout",
     "output_type": "stream",
     "text": [
      "Kernel IP routing table\r\n",
      "Destination     Gateway         Genmask         Flags Metric Ref    Use Iface\r\n",
      "0.0.0.0         192.168.231.2   0.0.0.0         UG    0      0        0 eth0\r\n",
      "0.0.0.0         192.168.231.2   0.0.0.0         UG    100    0        0 eth0\r\n",
      "192.168.231.0   0.0.0.0         255.255.255.0   U     0      0        0 eth0\r\n",
      "192.168.231.0   0.0.0.0         255.255.255.0   U     100    0        0 eth0\r\n"
     ]
    }
   ],
   "source": [
    "! route -n"
   ]
  },
  {
   "cell_type": "code",
   "execution_count": 10,
   "metadata": {},
   "outputs": [
    {
     "name": "stdout",
     "output_type": "stream",
     "text": [
      "eth0: flags=4163<UP,BROADCAST,RUNNING,MULTICAST>  mtu 1500\r\n",
      "        inet 192.168.231.152  netmask 255.255.255.0  broadcast 192.168.231.255\r\n",
      "        inet6 fe80::20c:29ff:fed7:4d09  prefixlen 64  scopeid 0x20<link>\r\n",
      "        ether 00:0c:29:d7:4d:09  txqueuelen 1000  (Ethernet)\r\n",
      "        RX packets 14561  bytes 18246007 (17.4 MiB)\r\n",
      "        RX errors 0  dropped 0  overruns 0  frame 0\r\n",
      "        TX packets 5105  bytes 316793 (309.3 KiB)\r\n",
      "        TX errors 0  dropped 0 overruns 0  carrier 0  collisions 0\r\n",
      "        device interrupt 19  base 0x2000  \r\n",
      "\r\n",
      "lo: flags=73<UP,LOOPBACK,RUNNING>  mtu 65536\r\n",
      "        inet 127.0.0.1  netmask 255.0.0.0\r\n",
      "        inet6 ::1  prefixlen 128  scopeid 0x10<host>\r\n",
      "        loop  txqueuelen 1000  (Local Loopback)\r\n",
      "        RX packets 2635  bytes 1541217 (1.4 MiB)\r\n",
      "        RX errors 0  dropped 0  overruns 0  frame 0\r\n",
      "        TX packets 2635  bytes 1541217 (1.4 MiB)\r\n",
      "        TX errors 0  dropped 0 overruns 0  carrier 0  collisions 0\r\n",
      "\r\n"
     ]
    }
   ],
   "source": [
    "! ifconfig"
   ]
  },
  {
   "cell_type": "markdown",
   "metadata": {},
   "source": [
    "## ARP - address resolution protocol \n",
    "- maps private IP to ethernet/MAC address for local/internal routing\n",
    "- without knowing each other's MAC address, systems cann't communicate each other\n",
    "- there are 4 different types of ARP messages, but ARP request and ARP reply message are most important and common types"
   ]
  },
  {
   "cell_type": "code",
   "execution_count": 27,
   "metadata": {},
   "outputs": [
    {
     "name": "stdout",
     "output_type": "stream",
     "text": [
      "ARP(8)                     Linux Programmer's Manual                    ARP(8)\r\n",
      "\r\n",
      "N\bNA\bAM\bME\bE\r\n",
      "       arp - manipulate the system ARP cache\r\n",
      "\r\n",
      "S\bSY\bYN\bNO\bOP\bPS\bSI\bIS\bS\r\n",
      "       a\bar\brp\bp [-\b-v\bvn\bn] [-\b-H\bH _\bt_\by_\bp_\be] [-\b-i\bi _\bi_\bf] [-\b-a\ba] [_\bh_\bo_\bs_\bt_\bn_\ba_\bm_\be]\r\n",
      "\r\n",
      "       a\bar\brp\bp [-\b-v\bv] [-\b-i\bi _\bi_\bf] -\b-d\bd _\bh_\bo_\bs_\bt_\bn_\ba_\bm_\be [p\bpu\bub\bb]\r\n",
      "\r\n",
      "       a\bar\brp\bp [-\b-v\bv] [-\b-H\bH _\bt_\by_\bp_\be] [-\b-i\bi _\bi_\bf] -\b-s\bs _\bh_\bo_\bs_\bt_\bn_\ba_\bm_\be _\bh_\bw_\b__\ba_\bd_\bd_\br [t\bte\bem\bmp\bp]\r\n",
      "\r\n",
      "       a\bar\brp\bp [-\b-v\bv] [-\b-H\bH _\bt_\by_\bp_\be] [-\b-i\bi _\bi_\bf] -\b-s\bs _\bh_\bo_\bs_\bt_\bn_\ba_\bm_\be _\bh_\bw_\b__\ba_\bd_\bd_\br [n\bne\bet\btm\bma\bas\bsk\bk _\bn_\bm] p\bpu\bub\bb\r\n",
      "\r\n",
      "       a\bar\brp\bp [-\b-v\bv] [-\b-H\bH _\bt_\by_\bp_\be] [-\b-i\bi _\bi_\bf] -\b-D\bDs\bs _\bh_\bo_\bs_\bt_\bn_\ba_\bm_\be _\bi_\bf_\bn_\ba_\bm_\be [n\bne\bet\btm\bma\bas\bsk\bk _\bn_\bm] p\bpu\bub\bb\r\n",
      "\r\n",
      "       a\bar\brp\bp [-\b-v\bvn\bnD\bD] [-\b-H\bH _\bt_\by_\bp_\be] [-\b-i\bi _\bi_\bf] -\b-f\bf [_\bf_\bi_\bl_\be_\bn_\ba_\bm_\be]\r\n",
      "\r\n",
      "D\bDE\bES\bSC\bCR\bRI\bIP\bPT\bTI\bIO\bON\bN\r\n",
      "       A\bAr\brp\bp  manipulates or displays the kernel's IPv4 network neighbour cache.\r\n",
      "       It can add entries to the table, delete one or display the current con‐\r\n",
      "       tent.\r\n",
      "\r\n",
      "       A\bAR\bRP\bP  stands  for Address Resolution Protocol, which is used to find the\r\n",
      "       media access control address of a network neighbour for  a  given  IPv4\r\n",
      "       Address.\r\n",
      "\r\n",
      "M\bMO\bOD\bDE\bES\bS\r\n",
      "       a\bar\brp\bp with no mode specifier will print the current content of the table.\r\n",
      "       It is possible to limit the number of entries printed, by specifying an\r\n",
      "       hardware address type, interface name or host address.\r\n",
      "\r\n",
      "       a\bar\brp\bp  -\b-d\bd  _\ba_\bd_\bd_\br_\be_\bs_\bs  will delete a ARP table entry. Root or netadmin priv‐\r\n",
      "       eledge is required to do this. The entry is found by IP address.  If  a\r\n",
      "       hostname  is  given, it will be resolved before looking up the entry in\r\n",
      "       the ARP table.\r\n",
      "\r\n",
      "       a\bar\brp\bp -\b-s\bs _\ba_\bd_\bd_\br_\be_\bs_\bs _\bh_\bw_\b__\ba_\bd_\bd_\br is used to set up a new table entry. The  format\r\n",
      "       of  the  _\bh_\bw_\b__\ba_\bd_\bd_\br  parameter is dependent on the hardware class, but for\r\n",
      "       most classes one can assume that the usual presentation  can  be  used.\r\n",
      "       For  the  Ethernet  class, this is 6 bytes in hexadecimal, separated by\r\n",
      "       colons. When adding proxy arp entries (that is those with  the  p\bpu\bub\bblish\r\n",
      "       flag  set  a  n\bne\bet\btm\bma\bas\bsk\bk may be specified to proxy arp for entire subnets.\r\n",
      "       This is not good practice, but is supported by older kernels because it\r\n",
      "       can  be useful. If the t\bte\bem\bmp\bp flag is not supplied entries will be perma‐\r\n",
      "       nent stored into the ARP cache. To simplyfy setting up entries for  one\r\n",
      "       of  your own network interfaces, you can use the a\bar\brp\bp -\b-D\bDs\bs _\ba_\bd_\bd_\br_\be_\bs_\bs _\bi_\bf_\bn_\ba_\bm_\be\r\n",
      "       form. In that case the hardware address is  taken  from  the  interface\r\n",
      "       with the specified name.\r\n",
      "\r\n",
      "O\bOP\bPT\bTI\bIO\bON\bNS\bS\r\n",
      "       -\b-v\bv,\b, -\b--\b-v\bve\ber\brb\bbo\bos\bse\be\r\n",
      "              Tell the user what is going on by being verbose.\r\n",
      "\r\n",
      "       -\b-n\bn,\b, -\b--\b-n\bnu\bum\bme\ber\bri\bic\bc\r\n",
      "              shows  numerical  addresses  instead of trying to determine sym‐\r\n",
      "              bolic host, port or user names.\r\n",
      "\r\n",
      "       -\b-H\bH t\bty\byp\bpe\be,\b, -\b--\b-h\bhw\bw-\b-t\bty\byp\bpe\be t\bty\byp\bpe\be\r\n",
      "              When setting or reading the ARP cache, this  optional  parameter\r\n",
      "              tells  a\bar\brp\bp  which  class  of  entries  it should check for.  The\r\n",
      "              default value of this parameter is  e\bet\bth\bhe\ber\br  (i.e.  hardware  code\r\n",
      "              0x01  for  IEEE  802.3  10Mbps  Ethernet).   Other  values might\r\n",
      "              include network technologies such as ARCnet  (a\bar\brc\bcn\bne\bet\bt)  ,  PROnet\r\n",
      "              (p\bpr\bro\bon\bne\bet\bt) , AX.25 (a\bax\bx2\b25\b5) and NET/ROM (n\bne\bet\btr\bro\bom\bm).\r\n",
      "\r\n",
      "       -\b-a\ba     Use alternate BSD style output format (with no fixed columns).\r\n",
      "\r\n",
      "       -\b-D\bD,\b, -\b--\b-u\bus\bse\be-\b-d\bde\bev\bvi\bic\bce\be\r\n",
      "              Instead  of  a  hw_addr,  the  given  argument is the name of an\r\n",
      "              interface.  a\bar\brp\bp will use the MAC address of that  interface  for\r\n",
      "              the  table  entry.  This  is usually the best option to set up a\r\n",
      "              proxy ARP entry to yourself.\r\n",
      "\r\n",
      "       -\b-i\bi I\bIf\bf,\b, -\b--\b-d\bde\bev\bvi\bic\bce\be I\bIf\bf\r\n",
      "              Select an interface. When dumping the  ARP  cache  only  entries\r\n",
      "              matching the specified interface will be printed. When setting a\r\n",
      "              permanent or t\bte\bem\bmp\bp ARP entry this interface  will  be  associated\r\n",
      "              with  the  entry;  if  this  option is not used, the kernel will\r\n",
      "              guess based on the routing table. For p\bpu\bub\bb entries the  specified\r\n",
      "              interface  is  the  interface  on  which  ARP  requests  will be\r\n",
      "              answered.\r\n",
      "              N\bNO\bOT\bTE\bE:\b: This has to be different from the interface to  which  the\r\n",
      "              IP  datagrams will be routed.  N\bNO\bOT\bTE\bE:\b: As of kernel 2.2.0 it is no\r\n",
      "              longer possible to set an ARP entry for an entire subnet.  Linux\r\n",
      "              instead  does  automagic proxy arp when a route exists and it is\r\n",
      "              forwarding. See a\bar\brp\bp(7) for  details.  Also  the  d\bdo\bon\bnt\btp\bpu\bub\bb  option\r\n",
      "              which  is available for delete and set operations cannot be used\r\n",
      "              with 2.4 and newer kernels.\r\n",
      "\r\n",
      "       -\b-f\bf f\bfi\bil\ble\ben\bna\bam\bme\be,\b, -\b--\b-f\bfi\bil\ble\be f\bfi\bil\ble\ben\bna\bam\bme\be\r\n",
      "              Similar to the -\b-s\bs option, only this time  the  address  info  is\r\n",
      "              taken from file f\bfi\bil\ble\ben\bna\bam\bme\be.\b.  This can be used if ARP entries for a\r\n",
      "              lot of hosts have to be set up.  The name of the  data  file  is\r\n",
      "              very often _\b/_\be_\bt_\bc_\b/_\be_\bt_\bh_\be_\br_\bs, but this is not official. If no filename\r\n",
      "              is specified /etc/ethers is used as default.\r\n",
      "\r\n",
      "              The format of the file is simple; it only  contains  ASCII  text\r\n",
      "              lines  with  a  hostname,  and  a  hardware address separated by\r\n",
      "              whitespace. Additionally the p\bpu\bub\bb, t\bte\bem\bmp\bp and n\bne\bet\btm\bma\bas\bsk\bk flags can  be\r\n",
      "              used.\r\n",
      "\r\n",
      "       In  all  places  where a h\bho\bos\bst\btn\bna\bam\bme\be is expected, one can also enter an I\bIP\bP\r\n",
      "       a\bad\bdd\bdr\bre\bes\bss\bs in dotted-decimal notation.\r\n",
      "\r\n",
      "       As a special case for compatibility the order of the hostname  and  the\r\n",
      "       hardware address can be exchanged.\r\n",
      "\r\n",
      "       Each  complete  entry  in the ARP cache will be marked with the C\bC flag.\r\n",
      "       Permanent entries are marked with M\bM and published entries  have  the  P\bP\r\n",
      "       flag.\r\n",
      "\r\n",
      "E\bEX\bXS\bSA\bAM\bMP\bPL\bLE\bES\bS\r\n",
      "       /\b/u\bus\bsr\br/\b/s\bsb\bbi\bin\bn/\b/a\bar\brp\bp -\b-i\bi e\bet\bth\bh0\b0 -\b-D\bDs\bs 1\b10\b0.\b.0\b0.\b.0\b0.\b.2\b2 e\bet\bth\bh1\b1 p\bpu\bub\bb\r\n",
      "\r\n",
      "       This will answer ARP requests for 10.0.0.2 on eth0 with the MAC address\r\n",
      "       for eth1.\r\n",
      "\r\n",
      "       /\b/u\bus\bsr\br/\b/s\bsb\bbi\bin\bn/\b/a\bar\brp\bp -\b-i\bi e\bet\bth\bh1\b1 -\b-d\bd 1\b10\b0.\b.0\b0.\b.0\b0.\b.1\b1\r\n",
      "\r\n",
      "       Delete the ARP table entry for 10.0.0.1 on interface  eth1.  This  will\r\n",
      "       match published proxy ARP entries and permanent entries.\r\n",
      "\r\n",
      "F\bFI\bIL\bLE\bES\bS\r\n",
      "       _\b/_\bp_\br_\bo_\bc_\b/_\bn_\be_\bt_\b/_\ba_\br_\bp\r\n",
      "       _\b/_\be_\bt_\bc_\b/_\bn_\be_\bt_\bw_\bo_\br_\bk_\bs\r\n",
      "       _\b/_\be_\bt_\bc_\b/_\bh_\bo_\bs_\bt_\bs\r\n",
      "       _\b/_\be_\bt_\bc_\b/_\be_\bt_\bh_\be_\br_\bs\r\n",
      "\r\n",
      "S\bSE\bEE\bE A\bAL\bLS\bSO\bO\r\n",
      "       rarp(8), route(8), ifconfig(8), netstat(8)\r\n",
      "\r\n",
      "A\bAU\bUT\bTH\bHO\bOR\bRS\bS\r\n",
      "       Fred   N.  van  Kempen  <waltje@uwalt.nl.mugnet.org>,  Bernd  Eckenfels\r\n",
      "       <net-tools@lina.inka.de>.\r\n",
      "\r\n",
      "net-tools                         2007-12-01                            ARP(8)\r\n"
     ]
    }
   ],
   "source": [
    "! man arp"
   ]
  },
  {
   "cell_type": "code",
   "execution_count": 11,
   "metadata": {},
   "outputs": [
    {
     "name": "stdout",
     "output_type": "stream",
     "text": [
      "Address                  HWtype  HWaddress           Flags Mask            Iface\r\n",
      "192.168.231.254          ether   00:50:56:e8:5b:ce   C                     eth0\r\n",
      "192.168.231.2            ether   00:50:56:f9:21:6d   C                     eth0\r\n"
     ]
    }
   ],
   "source": [
    "! arp -n # -n shows numerical addresses from ARP cache"
   ]
  },
  {
   "cell_type": "markdown",
   "metadata": {},
   "source": [
    "### Find ip of host or another VM or gateway and ping it to see the ARP cache being changed\n",
    "- $ ifconfig | grep inet \n",
    "- and ping host and then run route -n again to see the routing table"
   ]
  },
  {
   "cell_type": "code",
   "execution_count": 12,
   "metadata": {},
   "outputs": [
    {
     "name": "stdout",
     "output_type": "stream",
     "text": [
      "PING 192.168.231.100 (192.168.231.100) 56(84) bytes of data.\n",
      "\n",
      "--- 192.168.231.100 ping statistics ---\n",
      "1 packets transmitted, 0 received, 100% packet loss, time 0ms\n",
      "\n"
     ]
    }
   ],
   "source": [
    "! ping -c 1 -w 1 192.168.231.100"
   ]
  },
  {
   "cell_type": "code",
   "execution_count": 16,
   "metadata": {},
   "outputs": [
    {
     "name": "stdout",
     "output_type": "stream",
     "text": [
      "PING 192.168.231.155 (192.168.231.155) 56(84) bytes of data.\r\n",
      "64 bytes from 192.168.231.155: icmp_seq=1 ttl=64 time=0.810 ms\r\n",
      "\r\n",
      "--- 192.168.231.155 ping statistics ---\r\n",
      "1 packets transmitted, 1 received, 0% packet loss, time 0ms\r\n",
      "rtt min/avg/max/mdev = 0.810/0.810/0.810/0.000 ms\r\n"
     ]
    }
   ],
   "source": [
    "! ping -c 1 192.168.231.155"
   ]
  },
  {
   "cell_type": "code",
   "execution_count": 17,
   "metadata": {},
   "outputs": [
    {
     "name": "stdout",
     "output_type": "stream",
     "text": [
      "Address                  HWtype  HWaddress           Flags Mask            Iface\r\n",
      "192.168.231.100                  (incomplete)                              eth0\r\n",
      "192.168.231.1            ether   00:50:56:c0:00:08   C                     eth0\r\n",
      "192.168.231.254          ether   00:50:56:e8:5b:ce   C                     eth0\r\n",
      "192.168.231.2            ether   00:50:56:f9:21:6d   C                     eth0\r\n",
      "192.168.231.155          ether   00:0c:29:f5:94:92   C                     eth0\r\n"
     ]
    }
   ],
   "source": [
    "! arp -n"
   ]
  },
  {
   "cell_type": "code",
   "execution_count": 28,
   "metadata": {},
   "outputs": [],
   "source": [
    "# arp -d <ip> to delete entry\n",
    "! arp -d 192.168.1.110"
   ]
  },
  {
   "cell_type": "code",
   "execution_count": 19,
   "metadata": {},
   "outputs": [
    {
     "name": "stdout",
     "output_type": "stream",
     "text": [
      "Address                  HWtype  HWaddress           Flags Mask            Iface\r\n",
      "192.168.231.2            ether   00:50:56:f9:21:6d   C                     eth0\r\n"
     ]
    }
   ],
   "source": [
    "! arp -n #shows (incomplete) completely clearing is not easy"
   ]
  },
  {
   "cell_type": "markdown",
   "metadata": {},
   "source": [
    "### flush all entries"
   ]
  },
  {
   "cell_type": "code",
   "execution_count": 18,
   "metadata": {},
   "outputs": [
    {
     "name": "stdout",
     "output_type": "stream",
     "text": [
      "192.168.231.100 dev eth0  used 387/447/384 probes 6 FAILED\r\n",
      "192.168.231.1 dev eth0 lladdr 00:50:56:c0:00:08 used 350/350/328 probes 4 STALE\r\n",
      "192.168.231.254 dev eth0 lladdr 00:50:56:e8:5b:ce used 139/134/107 probes 1 STALE\r\n",
      "192.168.231.2 dev eth0 lladdr 00:50:56:f9:21:6d used 268/263/240 probes 1 STALE\r\n",
      "192.168.231.155 dev eth0 lladdr 00:0c:29:f5:94:92 used 114/114/89 probes 4 STALE\r\n",
      "\r\n",
      "*** Round 1, deleting 5 entries ***\r\n",
      "*** Flush is complete after 1 round ***\r\n"
     ]
    }
   ],
   "source": [
    "! ip -s -s neigh flush all"
   ]
  },
  {
   "cell_type": "markdown",
   "metadata": {},
   "source": [
    "## Netcat\n",
    "- utility tool that supports a wide range of commands to manage networks and send and receive data between systems\n",
    "- more info: https://www.varonis.com/blog/netcat-commands/\n",
    "- netcat or nc are the commands used with many options"
   ]
  },
  {
   "cell_type": "code",
   "execution_count": 2,
   "metadata": {},
   "outputs": [
    {
     "name": "stdout",
     "output_type": "stream",
     "text": [
      "[v1.10-41.1]\r\n",
      "connect to somewhere:\tnc [-options] hostname port[s] [ports] ... \r\n",
      "listen for inbound:\tnc -l -p port [-options] [hostname] [port]\r\n",
      "options:\r\n",
      "\t-c shell commands\tas `-e'; use /bin/sh to exec [dangerous!!]\r\n",
      "\t-e filename\t\tprogram to exec after connect [dangerous!!]\r\n",
      "\t-b\t\t\tallow broadcasts\r\n",
      "\t-g gateway\t\tsource-routing hop point[s], up to 8\r\n",
      "\t-G num\t\t\tsource-routing pointer: 4, 8, 12, ...\r\n",
      "\t-h\t\t\tthis cruft\r\n",
      "\t-i secs\t\t\tdelay interval for lines sent, ports scanned\r\n",
      "        -k                      set keepalive option on socket\r\n",
      "\t-l\t\t\tlisten mode, for inbound connects\r\n",
      "\t-n\t\t\tnumeric-only IP addresses, no DNS\r\n",
      "\t-o file\t\t\thex dump of traffic\r\n",
      "\t-p port\t\t\tlocal port number\r\n",
      "\t-r\t\t\trandomize local and remote ports\r\n",
      "\t-q secs\t\t\tquit after EOF on stdin and delay of secs\r\n",
      "\t-s addr\t\t\tlocal source address\r\n",
      "\t-T tos\t\t\tset Type Of Service\r\n",
      "\t-t\t\t\tanswer TELNET negotiation\r\n",
      "\t-u\t\t\tUDP mode\r\n",
      "\t-v\t\t\tverbose [use twice to be more verbose]\r\n",
      "\t-w secs\t\t\ttimeout for connects and final net reads\r\n",
      "\t-C\t\t\tSend CRLF as line-ending\r\n",
      "\t-z\t\t\tzero-I/O mode [used for scanning]\r\n",
      "port numbers can be individual or ranges: lo-hi [inclusive];\r\n",
      "hyphens in port names must be backslash escaped (e.g. 'ftp\\-data').\r\n"
     ]
    }
   ],
   "source": [
    "! nc -h"
   ]
  },
  {
   "cell_type": "markdown",
   "metadata": {},
   "source": [
    "### Port scanning with Netcat\n",
    "- netcat can be used scan a host(domain or ip) to diagnose a network issues or performance problem\n",
    "- can determine whether a firewall is blocking traffic\n",
    "- no success!"
   ]
  },
  {
   "cell_type": "code",
   "execution_count": 2,
   "metadata": {},
   "outputs": [
    {
     "name": "stdout",
     "output_type": "stream",
     "text": [
      "        inet 192.168.195.150  netmask 255.255.255.0  broadcast 192.168.195.255\r\n",
      "        inet6 fe80::20c:29ff:fef5:9492  prefixlen 64  scopeid 0x20<link>\r\n",
      "        inet 127.0.0.1  netmask 255.0.0.0\r\n",
      "        inet6 ::1  prefixlen 128  scopeid 0x10<host>\r\n"
     ]
    }
   ],
   "source": [
    "! ifconfig | grep inet"
   ]
  },
  {
   "cell_type": "code",
   "execution_count": 5,
   "metadata": {
    "scrolled": true
   },
   "outputs": [
    {
     "name": "stdout",
     "output_type": "stream",
     "text": [
      "PING google.com (172.217.1.206) 56(84) bytes of data.\n",
      "64 bytes from iad23s26-in-f206.1e100.net (172.217.1.206): icmp_seq=1 ttl=128 time=54.6 ms\n",
      "\n",
      "--- google.com ping statistics ---\n",
      "1 packets transmitted, 1 received, 0% packet loss, time 0ms\n",
      "rtt min/avg/max/mdev = 54.683/54.683/54.683/0.000 ms\n"
     ]
    }
   ],
   "source": [
    "! ping -c 1 google.com"
   ]
  },
  {
   "cell_type": "code",
   "execution_count": 3,
   "metadata": {},
   "outputs": [
    {
     "name": "stdout",
     "output_type": "stream",
     "text": [
      "(UNKNOWN) [192.168.195.1] 138 (netbios-dgm) : Connection timed out\n",
      "^C\n",
      "\n"
     ]
    }
   ],
   "source": [
    "# scan port from 1-1000; doesn't seem to do much\n",
    "! nc -z -v google.com 1-1000"
   ]
  },
  {
   "cell_type": "code",
   "execution_count": 6,
   "metadata": {},
   "outputs": [
    {
     "name": "stdout",
     "output_type": "stream",
     "text": [
      "DNS fwd/rev mismatch: google.com != iad23s26-in-f206.1e100.net\n",
      "google.com [172.217.1.206] 443 (https) open\n"
     ]
    }
   ],
   "source": [
    "# check single port\n",
    "! nc -z -v google.com 443"
   ]
  },
  {
   "cell_type": "markdown",
   "metadata": {},
   "source": [
    "### Sending data over network\n",
    "- netcat can connect to udp and tcp service and send"
   ]
  },
  {
   "cell_type": "code",
   "execution_count": 12,
   "metadata": {},
   "outputs": [],
   "source": [
    "# download index page from washing.edu and save it to file\n",
    "# send HTTP GET request\n",
    "! printf \"GET / HTTP/1.1\\r\\n\\r\\n\" | nc washington.edu 80 > washington.html"
   ]
  },
  {
   "cell_type": "markdown",
   "metadata": {},
   "source": [
    "### Create a local Web server\n",
    "- run the following command from "
   ]
  },
  {
   "cell_type": "code",
   "execution_count": 13,
   "metadata": {},
   "outputs": [
    {
     "name": "stdout",
     "output_type": "stream",
     "text": [
      "GET / HTTP/1.1\n",
      "Host: localhost:8080\n",
      "User-Agent: Mozilla/5.0 (X11; Linux x86_64; rv:52.0) Gecko/20100101 Firefox/52.0\n",
      "Accept: text/html,application/xhtml+xml,application/xml;q=0.9,*/*;q=0.8\n",
      "Accept-Language: en-US,en;q=0.5\n",
      "Accept-Encoding: gzip, deflate\n",
      "Cookie: _xsrf=2|2b6d848e|615b31211fb0a1eca2713e7681fae65c|1596737173; username-localhost-8889=\"2|1:0|10:1597985283|23:username-localhost-8889|44:ZDM3MmU5OTU5YTc5NDgxNWIxMzJkNWNmNTU5M2Q4Zjk=|17cb501cc6a4c0c6149ae89b80e8f103d06920cbe133ed5645a3fd327ef7f2cb\"; username-localhost-8890=\"2|1:0|10:1597986384|23:username-localhost-8890|44:NmNhMTYwZmQxOGZkNGE4YjkxNTkxOTYxYjAxZTQzNzE=|88e08302a477c6f87447bb3959f67dcbffbecb4391724387a90715765847df3b\"\n",
      "Connection: keep-alive\n",
      "Upgrade-Insecure-Requests: 1\n",
      "\n",
      "^C\n",
      "\n"
     ]
    }
   ],
   "source": [
    "! nc -l -p 8080\n",
    "# open a browser and go to localhost:8080"
   ]
  },
  {
   "cell_type": "code",
   "execution_count": 1,
   "metadata": {},
   "outputs": [
    {
     "name": "stdout",
     "output_type": "stream",
     "text": [
      "GET / HTTP/1.1\n",
      "Host: localhost:8080\n",
      "User-Agent: Mozilla/5.0 (X11; Linux x86_64; rv:52.0) Gecko/20100101 Firefox/52.0\n",
      "Accept: text/html,application/xhtml+xml,application/xml;q=0.9,*/*;q=0.8\n",
      "Accept-Language: en-US,en;q=0.5\n",
      "Accept-Encoding: gzip, deflate\n",
      "Cookie: _xsrf=2|2b6d848e|615b31211fb0a1eca2713e7681fae65c|1596737173; username-localhost-8889=\"2|1:0|10:1597985283|23:username-localhost-8889|44:ZDM3MmU5OTU5YTc5NDgxNWIxMzJkNWNmNTU5M2Q4Zjk=|17cb501cc6a4c0c6149ae89b80e8f103d06920cbe133ed5645a3fd327ef7f2cb\"; username-localhost-8890=\"2|1:0|10:1597986384|23:username-localhost-8890|44:NmNhMTYwZmQxOGZkNGE4YjkxNTkxOTYxYjAxZTQzNzE=|88e08302a477c6f87447bb3959f67dcbffbecb4391724387a90715765847df3b\"\n",
      "Connection: keep-alive\n",
      "Upgrade-Insecure-Requests: 1\n",
      "\n",
      "^C\n",
      "\n"
     ]
    }
   ],
   "source": [
    "! printf \"HTTP/1.1 200 OK \\n\\n <h1>Welcome...<h1>\" | netcat -l -p 8080\n",
    "# open browswer and point it to: localhost:8080"
   ]
  },
  {
   "cell_type": "code",
   "execution_count": null,
   "metadata": {},
   "outputs": [],
   "source": []
  }
 ],
 "metadata": {
  "kernelspec": {
   "display_name": "Python 3",
   "language": "python",
   "name": "python3"
  },
  "language_info": {
   "codemirror_mode": {
    "name": "ipython",
    "version": 3
   },
   "file_extension": ".py",
   "mimetype": "text/x-python",
   "name": "python",
   "nbconvert_exporter": "python",
   "pygments_lexer": "ipython3",
   "version": "3.7.6"
  }
 },
 "nbformat": 4,
 "nbformat_minor": 2
}
